{
  "cells": [
    {
      "cell_type": "code",
      "execution_count": null,
      "metadata": {
        "colab": {
          "base_uri": "https://localhost:8080/"
        },
        "execution": {
          "iopub.execute_input": "2024-07-08T11:53:19.436750Z",
          "iopub.status.busy": "2024-07-08T11:53:19.436184Z",
          "iopub.status.idle": "2024-07-08T11:54:36.419155Z",
          "shell.execute_reply": "2024-07-08T11:54:36.418100Z",
          "shell.execute_reply.started": "2024-07-08T11:53:19.436705Z"
        },
        "id": "htoCye4b-kvT",
        "outputId": "d65be3f8-1bf6-4bf8-b1d0-7229304dd6d3",
        "trusted": true
      },
      "outputs": [
        {
          "name": "stdout",
          "output_type": "stream",
          "text": [
            "\u001b[2K     \u001b[90m━━━━━━━━━━━━━━━━━━━━━━━━━━━━━━━━━━━━━━━━\u001b[0m \u001b[32m983.6/983.6 kB\u001b[0m \u001b[31m19.1 MB/s\u001b[0m eta \u001b[36m0:00:00\u001b[0m\n",
            "\u001b[2K     \u001b[90m━━━━━━━━━━━━━━━━━━━━━━━━━━━━━━━━━━━━━━━━\u001b[0m \u001b[32m2.2/2.2 MB\u001b[0m \u001b[31m14.7 MB/s\u001b[0m eta \u001b[36m0:00:00\u001b[0m\n",
            "\u001b[2K     \u001b[90m━━━━━━━━━━━━━━━━━━━━━━━━━━━━━━━━━━━━━━━━\u001b[0m \u001b[32m355.8/355.8 kB\u001b[0m \u001b[31m31.0 MB/s\u001b[0m eta \u001b[36m0:00:00\u001b[0m\n",
            "\u001b[2K     \u001b[90m━━━━━━━━━━━━━━━━━━━━━━━━━━━━━━━━━━━━━━━━\u001b[0m \u001b[32m27.0/27.0 MB\u001b[0m \u001b[31m50.8 MB/s\u001b[0m eta \u001b[36m0:00:00\u001b[0m\n",
            "\u001b[2K     \u001b[90m━━━━━━━━━━━━━━━━━━━━━━━━━━━━━━━━━━━━━━━━\u001b[0m \u001b[32m85.5/85.5 MB\u001b[0m \u001b[31m8.6 MB/s\u001b[0m eta \u001b[36m0:00:00\u001b[0m\n",
            "\u001b[2K     \u001b[90m━━━━━━━━━━━━━━━━━━━━━━━━━━━━━━━━━━━━━━━━\u001b[0m \u001b[32m89.0/89.0 kB\u001b[0m \u001b[31m11.3 MB/s\u001b[0m eta \u001b[36m0:00:00\u001b[0m\n",
            "\u001b[2K     \u001b[90m━━━━━━━━━━━━━━━━━━━━━━━━━━━━━━━━━━━━━━━━\u001b[0m \u001b[32m227.1/227.1 kB\u001b[0m \u001b[31m29.1 MB/s\u001b[0m eta \u001b[36m0:00:00\u001b[0m\n",
            "\u001b[2K     \u001b[90m━━━━━━━━━━━━━━━━━━━━━━━━━━━━━━━━━━━━━━━━\u001b[0m \u001b[32m12.3/12.3 MB\u001b[0m \u001b[31m74.5 MB/s\u001b[0m eta \u001b[36m0:00:00\u001b[0m\n",
            "\u001b[2K     \u001b[90m━━━━━━━━━━━━━━━━━━━━━━━━━━━━━━━━━━━━━━━━\u001b[0m \u001b[32m290.4/290.4 kB\u001b[0m \u001b[31m33.0 MB/s\u001b[0m eta \u001b[36m0:00:00\u001b[0m\n",
            "\u001b[2K     \u001b[90m━━━━━━━━━━━━━━━━━━━━━━━━━━━━━━━━━━━━━━━━\u001b[0m \u001b[32m2.1/2.1 MB\u001b[0m \u001b[31m91.0 MB/s\u001b[0m eta \u001b[36m0:00:00\u001b[0m\n",
            "\u001b[2K     \u001b[90m━━━━━━━━━━━━━━━━━━━━━━━━━━━━━━━━━━━━━━━━\u001b[0m \u001b[32m4.2/4.2 MB\u001b[0m \u001b[31m104.5 MB/s\u001b[0m eta \u001b[36m0:00:00\u001b[0m\n",
            "\u001b[?25h  Preparing metadata (setup.py) ... \u001b[?25l\u001b[?25hdone\n",
            "\u001b[2K     \u001b[90m━━━━━━━━━━━━━━━━━━━━━━━━━━━━━━━━━━━━━━━━\u001b[0m \u001b[32m127.9/127.9 kB\u001b[0m \u001b[31m15.8 MB/s\u001b[0m eta \u001b[36m0:00:00\u001b[0m\n",
            "\u001b[2K     \u001b[90m━━━━━━━━━━━━━━━━━━━━━━━━━━━━━━━━━━━━━━━━\u001b[0m \u001b[32m45.9/45.9 kB\u001b[0m \u001b[31m6.6 MB/s\u001b[0m eta \u001b[36m0:00:00\u001b[0m\n",
            "\u001b[2K     \u001b[90m━━━━━━━━━━━━━━━━━━━━━━━━━━━━━━━━━━━━━━━━\u001b[0m \u001b[32m92.0/92.0 kB\u001b[0m \u001b[31m11.9 MB/s\u001b[0m eta \u001b[36m0:00:00\u001b[0m\n",
            "\u001b[?25h  Preparing metadata (setup.py) ... \u001b[?25l\u001b[?25hdone\n",
            "\u001b[2K     \u001b[90m━━━━━━━━━━━━━━━━━━━━━━━━━━━━━━━━━━━━━━━━\u001b[0m \u001b[32m318.2/318.2 kB\u001b[0m \u001b[31m34.7 MB/s\u001b[0m eta \u001b[36m0:00:00\u001b[0m\n",
            "\u001b[2K     \u001b[90m━━━━━━━━━━━━━━━━━━━━━━━━━━━━━━━━━━━━━━━━\u001b[0m \u001b[32m75.6/75.6 kB\u001b[0m \u001b[31m10.3 MB/s\u001b[0m eta \u001b[36m0:00:00\u001b[0m\n",
            "\u001b[2K     \u001b[90m━━━━━━━━━━━━━━━━━━━━━━━━━━━━━━━━━━━━━━━━\u001b[0m \u001b[32m141.1/141.1 kB\u001b[0m \u001b[31m15.8 MB/s\u001b[0m eta \u001b[36m0:00:00\u001b[0m\n",
            "\u001b[2K     \u001b[90m━━━━━━━━━━━━━━━━━━━━━━━━━━━━━━━━━━━━━━━━\u001b[0m \u001b[32m10.1/10.1 MB\u001b[0m \u001b[31m85.2 MB/s\u001b[0m eta \u001b[36m0:00:00\u001b[0m\n",
            "\u001b[2K     \u001b[90m━━━━━━━━━━━━━━━━━━━━━━━━━━━━━━━━━━━━━━━━\u001b[0m \u001b[32m62.4/62.4 kB\u001b[0m \u001b[31m8.3 MB/s\u001b[0m eta \u001b[36m0:00:00\u001b[0m\n",
            "\u001b[2K     \u001b[90m━━━━━━━━━━━━━━━━━━━━━━━━━━━━━━━━━━━━━━━━\u001b[0m \u001b[32m129.9/129.9 kB\u001b[0m \u001b[31m17.6 MB/s\u001b[0m eta \u001b[36m0:00:00\u001b[0m\n",
            "\u001b[2K     \u001b[90m━━━━━━━━━━━━━━━━━━━━━━━━━━━━━━━━━━━━━━━━\u001b[0m \u001b[32m431.4/431.4 kB\u001b[0m \u001b[31m39.4 MB/s\u001b[0m eta \u001b[36m0:00:00\u001b[0m\n",
            "\u001b[2K     \u001b[90m━━━━━━━━━━━━━━━━━━━━━━━━━━━━━━━━━━━━━━━━\u001b[0m \u001b[32m274.7/274.7 kB\u001b[0m \u001b[31m31.0 MB/s\u001b[0m eta \u001b[36m0:00:00\u001b[0m\n",
            "\u001b[2K     \u001b[90m━━━━━━━━━━━━━━━━━━━━━━━━━━━━━━━━━━━━━━━━\u001b[0m \u001b[32m981.5/981.5 kB\u001b[0m \u001b[31m66.2 MB/s\u001b[0m eta \u001b[36m0:00:00\u001b[0m\n",
            "\u001b[?25h  Preparing metadata (setup.py) ... \u001b[?25l\u001b[?25hdone\n",
            "\u001b[2K     \u001b[90m━━━━━━━━━━━━━━━━━━━━━━━━━━━━━━━━━━━━━━━━\u001b[0m \u001b[32m3.4/3.4 MB\u001b[0m \u001b[31m67.5 MB/s\u001b[0m eta \u001b[36m0:00:00\u001b[0m\n",
            "\u001b[2K     \u001b[90m━━━━━━━━━━━━━━━━━━━━━━━━━━━━━━━━━━━━━━━━\u001b[0m \u001b[32m41.0/41.0 kB\u001b[0m \u001b[31m5.0 MB/s\u001b[0m eta \u001b[36m0:00:00\u001b[0m\n",
            "\u001b[2K     \u001b[90m━━━━━━━━━━━━━━━━━━━━━━━━━━━━━━━━━━━━━━━━\u001b[0m \u001b[32m2.1/2.1 MB\u001b[0m \u001b[31m87.8 MB/s\u001b[0m eta \u001b[36m0:00:00\u001b[0m\n",
            "\u001b[2K     \u001b[90m━━━━━━━━━━━━━━━━━━━━━━━━━━━━━━━━━━━━━━━━\u001b[0m \u001b[32m49.2/49.2 kB\u001b[0m \u001b[31m6.7 MB/s\u001b[0m eta \u001b[36m0:00:00\u001b[0m\n",
            "\u001b[2K     \u001b[90m━━━━━━━━━━━━━━━━━━━━━━━━━━━━━━━━━━━━━━━━\u001b[0m \u001b[32m77.9/77.9 kB\u001b[0m \u001b[31m10.7 MB/s\u001b[0m eta \u001b[36m0:00:00\u001b[0m\n",
            "\u001b[2K     \u001b[90m━━━━━━━━━━━━━━━━━━━━━━━━━━━━━━━━━━━━━━━━\u001b[0m \u001b[32m58.3/58.3 kB\u001b[0m \u001b[31m8.2 MB/s\u001b[0m eta \u001b[36m0:00:00\u001b[0m\n",
            "\u001b[2K     \u001b[90m━━━━━━━━━━━━━━━━━━━━━━━━━━━━━━━━━━━━━━━━\u001b[0m \u001b[32m328.3/328.3 kB\u001b[0m \u001b[31m26.3 MB/s\u001b[0m eta \u001b[36m0:00:00\u001b[0m\n",
            "\u001b[2K     \u001b[90m━━━━━━━━━━━━━━━━━━━━━━━━━━━━━━━━━━━━━━━━\u001b[0m \u001b[32m1.1/1.1 MB\u001b[0m \u001b[31m65.3 MB/s\u001b[0m eta \u001b[36m0:00:00\u001b[0m\n",
            "\u001b[2K     \u001b[90m━━━━━━━━━━━━━━━━━━━━━━━━━━━━━━━━━━━━━━━━\u001b[0m \u001b[32m21.3/21.3 MB\u001b[0m \u001b[31m51.2 MB/s\u001b[0m eta \u001b[36m0:00:00\u001b[0m\n",
            "\u001b[2K     \u001b[90m━━━━━━━━━━━━━━━━━━━━━━━━━━━━━━━━━━━━━━━━\u001b[0m \u001b[32m71.9/71.9 kB\u001b[0m \u001b[31m10.2 MB/s\u001b[0m eta \u001b[36m0:00:00\u001b[0m\n",
            "\u001b[2K     \u001b[90m━━━━━━━━━━━━━━━━━━━━━━━━━━━━━━━━━━━━━━━━\u001b[0m \u001b[32m53.6/53.6 kB\u001b[0m \u001b[31m7.2 MB/s\u001b[0m eta \u001b[36m0:00:00\u001b[0m\n",
            "\u001b[2K     \u001b[90m━━━━━━━━━━━━━━━━━━━━━━━━━━━━━━━━━━━━━━━━\u001b[0m \u001b[32m80.8/80.8 kB\u001b[0m \u001b[31m10.5 MB/s\u001b[0m eta \u001b[36m0:00:00\u001b[0m\n",
            "\u001b[2K     \u001b[90m━━━━━━━━━━━━━━━━━━━━━━━━━━━━━━━━━━━━━━━━\u001b[0m \u001b[32m54.5/54.5 kB\u001b[0m \u001b[31m7.1 MB/s\u001b[0m eta \u001b[36m0:00:00\u001b[0m\n",
            "\u001b[2K     \u001b[90m━━━━━━━━━━━━━━━━━━━━━━━━━━━━━━━━━━━━━━━━\u001b[0m \u001b[32m307.7/307.7 kB\u001b[0m \u001b[31m27.8 MB/s\u001b[0m eta \u001b[36m0:00:00\u001b[0m\n",
            "\u001b[2K     \u001b[90m━━━━━━━━━━━━━━━━━━━━━━━━━━━━━━━━━━━━━━━━\u001b[0m \u001b[32m341.4/341.4 kB\u001b[0m \u001b[31m39.6 MB/s\u001b[0m eta \u001b[36m0:00:00\u001b[0m\n",
            "\u001b[2K     \u001b[90m━━━━━━━━━━━━━━━━━━━━━━━━━━━━━━━━━━━━━━━━\u001b[0m \u001b[32m3.4/3.4 MB\u001b[0m \u001b[31m107.2 MB/s\u001b[0m eta \u001b[36m0:00:00\u001b[0m\n",
            "\u001b[2K     \u001b[90m━━━━━━━━━━━━━━━━━━━━━━━━━━━━━━━━━━━━━━━━\u001b[0m \u001b[32m1.2/1.2 MB\u001b[0m \u001b[31m66.5 MB/s\u001b[0m eta \u001b[36m0:00:00\u001b[0m\n",
            "\u001b[?25h  Building wheel for pdfminer (setup.py) ... \u001b[?25l\u001b[?25hdone\n",
            "  Building wheel for ffmpy (setup.py) ... \u001b[?25l\u001b[?25hdone\n",
            "  Building wheel for langdetect (setup.py) ... \u001b[?25l\u001b[?25hdone\n"
          ]
        }
      ],
      "source": [
        "!pip install -qU langchain\\\n",
        "    langchain-community\\\n",
        "    langchain-together\\\n",
        "    langchain-core\\\n",
        "    faiss-cpu\\\n",
        "    faiss-gpu\\\n",
        "    langgraph\\\n",
        "    sentence-transformers\\\n",
        "    gradio\\\n",
        "    pypdf\\\n",
        "    unstructured\\\n",
        "    pdfminer\\\n",
        "    rank_bm25"
      ]
    },
    {
      "cell_type": "code",
      "execution_count": null,
      "metadata": {
        "colab": {
          "base_uri": "https://localhost:8080/"
        },
        "execution": {
          "iopub.execute_input": "2024-07-08T12:57:57.376164Z",
          "iopub.status.busy": "2024-07-08T12:57:57.375568Z",
          "iopub.status.idle": "2024-07-08T12:57:57.429433Z",
          "shell.execute_reply": "2024-07-08T12:57:57.428743Z",
          "shell.execute_reply.started": "2024-07-08T12:57:57.376130Z"
        },
        "id": "HSjHQxF8-9li",
        "outputId": "4c8c4f6b-ea82-4703-9e94-305ec0d9dcf5",
        "trusted": true
      },
      "outputs": [
        {
          "name": "stderr",
          "output_type": "stream",
          "text": [
            "WARNING:langchain_community.utils.user_agent:USER_AGENT environment variable not set, consider setting it to identify your requests.\n"
          ]
        }
      ],
      "source": [
        "import os\n",
        "from dotenv import load_dotenv\n",
        "from langchain_community.document_loaders.web_base import WebBaseLoader\n",
        "from langchain.text_splitter import RecursiveCharacterTextSplitter\n",
        "from langchain_community.embeddings import HuggingFaceEmbeddings\n",
        "from langchain_together import ChatTogether\n",
        "from langchain_community.vectorstores import FAISS\n",
        "from langchain_community.retrievers import BM25Retriever\n",
        "from langchain.retrievers import EnsembleRetriever\n",
        "from langchain.prompts import ChatPromptTemplate\n",
        "from langchain_core.pydantic_v1 import BaseModel, Field\n",
        "from typing import Literal, List, Dict, Iterable, TypedDict\n",
        "from operator import itemgetter\n",
        "from langchain_core.output_parsers import StrOutputParser\n",
        "from IPython.core.display import Markdown\n",
        "from langchain_core.messages import HumanMessage, AIMessage\n",
        "from langchain.output_parsers import PydanticOutputParser\n",
        "from langchain_core.prompts import PromptTemplate\n",
        "from langchain_community.document_loaders import PyPDFLoader\n",
        "import requests\n",
        "from bs4 import BeautifulSoup\n",
        "import re\n",
        "from urllib.parse import urljoin\n",
        "import pdfminer\n",
        "from langchain.storage import LocalFileStore\n",
        "from langchain.embeddings import CacheBackedEmbeddings\n",
        "from langchain_community.tools.tavily_search import TavilySearchResults\n",
        "import torch\n",
        "from langchain_core.documents.base import Document\n",
        "from langchain_core.runnables import RunnableGenerator\n",
        "from langchain_core.messages.base import BaseMessage\n",
        "from langgraph.graph import StateGraph, END"
      ]
    },
    {
      "cell_type": "code",
      "execution_count": null,
      "metadata": {
        "execution": {
          "iopub.execute_input": "2024-07-08T11:59:29.076410Z",
          "iopub.status.busy": "2024-07-08T11:59:29.075211Z",
          "iopub.status.idle": "2024-07-08T11:59:29.080558Z",
          "shell.execute_reply": "2024-07-08T11:59:29.079626Z",
          "shell.execute_reply.started": "2024-07-08T11:59:29.076376Z"
        },
        "id": "5-w3m6bN_orf",
        "trusted": true
      },
      "outputs": [],
      "source": [
        "os.environ[\"TAVILY_API_KEY\"] = \"\"\n",
        "os.environ[\"TOGETHER_API_KEY\"] = \"\""
      ]
    },
    {
      "cell_type": "code",
      "execution_count": null,
      "metadata": {
        "colab": {
          "base_uri": "https://localhost:8080/"
        },
        "execution": {
          "iopub.execute_input": "2024-07-08T11:59:31.453945Z",
          "iopub.status.busy": "2024-07-08T11:59:31.453342Z",
          "iopub.status.idle": "2024-07-08T11:59:31.482294Z",
          "shell.execute_reply": "2024-07-08T11:59:31.481344Z",
          "shell.execute_reply.started": "2024-07-08T11:59:31.453913Z"
        },
        "id": "Bx3VwzCtPmDl",
        "outputId": "a8b77320-452c-4115-cf6f-516414e10c58",
        "trusted": true
      },
      "outputs": [
        {
          "data": {
            "text/plain": [
              "device(type='cuda')"
            ]
          },
          "execution_count": 4,
          "metadata": {},
          "output_type": "execute_result"
        }
      ],
      "source": [
        "device = torch.device('cuda' if torch.cuda.is_available() else 'cpu')\n",
        "device"
      ]
    },
    {
      "cell_type": "markdown",
      "metadata": {
        "id": "p5u1qNMUZ2Ss"
      },
      "source": [
        "# Part I: Loading pdfs and chunking docs"
      ]
    },
    {
      "cell_type": "code",
      "execution_count": null,
      "metadata": {
        "execution": {
          "iopub.execute_input": "2024-07-08T11:59:33.731076Z",
          "iopub.status.busy": "2024-07-08T11:59:33.730223Z",
          "iopub.status.idle": "2024-07-08T11:59:33.737986Z",
          "shell.execute_reply": "2024-07-08T11:59:33.737078Z",
          "shell.execute_reply.started": "2024-07-08T11:59:33.731043Z"
        },
        "id": "y3yggJtq_AaK",
        "trusted": true
      },
      "outputs": [],
      "source": [
        "def extract_all_links(given_url:str) -> list[str]:\n",
        "    \"\"\"\n",
        "        This code will get an specify URL and then extract all pdf links correspond to only chapters\n",
        "\n",
        "        Parameters:\n",
        "        -------------------------------------------------------\n",
        "        URL: a string contain url link\n",
        "        Output: A list of chapters correspond to the given link\n",
        "    \"\"\"\n",
        "    response = requests.get(url)\n",
        "    if response.status_code == 200:\n",
        "        soup = BeautifulSoup(response.content, \"html.parser\")\n",
        "        links = soup.find_all(\"a\")\n",
        "        pdf_links = [link.get('href') for link in links if link.get('href') and link.get('href').endswith('.pdf') and re.match(r'^\\d', link.get('href'))]\n",
        "        full_pdf_links = [urljoin(url, pdf_link) for pdf_link in pdf_links]\n",
        "        return full_pdf_links\n",
        "    else:\n",
        "        print(f\"Failed to retrieve the webpage. Status code: {response.status_code}\")\n",
        "        return None"
      ]
    },
    {
      "cell_type": "code",
      "execution_count": null,
      "metadata": {
        "colab": {
          "base_uri": "https://localhost:8080/"
        },
        "execution": {
          "iopub.execute_input": "2024-07-08T11:59:34.960932Z",
          "iopub.status.busy": "2024-07-08T11:59:34.960565Z",
          "iopub.status.idle": "2024-07-08T11:59:35.073119Z",
          "shell.execute_reply": "2024-07-08T11:59:35.072297Z",
          "shell.execute_reply.started": "2024-07-08T11:59:34.960901Z"
        },
        "id": "FlADnuND_CAF",
        "outputId": "8927e3b4-74c5-47a0-a388-9bacb8709184",
        "trusted": true
      },
      "outputs": [
        {
          "data": {
            "text/plain": [
              "['https://stanford.edu/~jurafsky/slp3/2.pdf',\n",
              " 'https://stanford.edu/~jurafsky/slp3/3.pdf',\n",
              " 'https://stanford.edu/~jurafsky/slp3/4.pdf',\n",
              " 'https://stanford.edu/~jurafsky/slp3/5.pdf',\n",
              " 'https://stanford.edu/~jurafsky/slp3/6.pdf',\n",
              " 'https://stanford.edu/~jurafsky/slp3/7.pdf',\n",
              " 'https://stanford.edu/~jurafsky/slp3/8.pdf',\n",
              " 'https://stanford.edu/~jurafsky/slp3/9.pdf',\n",
              " 'https://stanford.edu/~jurafsky/slp3/10.pdf',\n",
              " 'https://stanford.edu/~jurafsky/slp3/11.pdf',\n",
              " 'https://stanford.edu/~jurafsky/slp3/13.pdf',\n",
              " 'https://stanford.edu/~jurafsky/slp3/14.pdf',\n",
              " 'https://stanford.edu/~jurafsky/slp3/15.pdf',\n",
              " 'https://stanford.edu/~jurafsky/slp3/16.pdf',\n",
              " 'https://stanford.edu/~jurafsky/slp3/17.pdf',\n",
              " 'https://stanford.edu/~jurafsky/slp3/18.pdf',\n",
              " 'https://stanford.edu/~jurafsky/slp3/19.pdf',\n",
              " 'https://stanford.edu/~jurafsky/slp3/20.pdf',\n",
              " 'https://stanford.edu/~jurafsky/slp3/21.pdf',\n",
              " 'https://stanford.edu/~jurafsky/slp3/22.pdf',\n",
              " 'https://stanford.edu/~jurafsky/slp3/23.pdf']"
            ]
          },
          "execution_count": 6,
          "metadata": {},
          "output_type": "execute_result"
        }
      ],
      "source": [
        "url = \"https://stanford.edu/~jurafsky/slp3/\"\n",
        "pdf_links = extract_all_links(given_url=url)\n",
        "pdf_links"
      ]
    },
    {
      "cell_type": "code",
      "execution_count": null,
      "metadata": {
        "execution": {
          "iopub.execute_input": "2024-07-08T11:59:36.071370Z",
          "iopub.status.busy": "2024-07-08T11:59:36.070702Z",
          "iopub.status.idle": "2024-07-08T11:59:36.076460Z",
          "shell.execute_reply": "2024-07-08T11:59:36.075452Z",
          "shell.execute_reply.started": "2024-07-08T11:59:36.071337Z"
        },
        "id": "K0UFY34V_DdR",
        "trusted": true
      },
      "outputs": [],
      "source": [
        "def load_pdfs_from_urls(pdf_links: list[str]) -> list[list[PyPDFLoader]]:\n",
        "    \"\"\"\n",
        "    Since we can not load all the urls at once, this function will simply will load each pdf for url seperatably.\n",
        "    Parameters:\n",
        "    ----------------------------\n",
        "    pdf_links: links for each pdf\n",
        "    output: List of loaded data\n",
        "    \"\"\"\n",
        "    documents = []\n",
        "    for url in pdf_links:\n",
        "        loader = PyPDFLoader(url)\n",
        "        documents.append(loader.load())\n",
        "    return documents"
      ]
    },
    {
      "cell_type": "code",
      "execution_count": null,
      "metadata": {
        "execution": {
          "iopub.execute_input": "2024-07-08T11:59:37.021513Z",
          "iopub.status.busy": "2024-07-08T11:59:37.021112Z",
          "iopub.status.idle": "2024-07-08T12:00:20.521703Z",
          "shell.execute_reply": "2024-07-08T12:00:20.520897Z",
          "shell.execute_reply.started": "2024-07-08T11:59:37.021483Z"
        },
        "id": "wbFMq125_FDs",
        "trusted": true
      },
      "outputs": [],
      "source": [
        "documents = load_pdfs_from_urls(pdf_links=pdf_links)"
      ]
    },
    {
      "cell_type": "code",
      "execution_count": null,
      "metadata": {
        "colab": {
          "base_uri": "https://localhost:8080/"
        },
        "execution": {
          "iopub.execute_input": "2024-07-08T12:00:32.531862Z",
          "iopub.status.busy": "2024-07-08T12:00:32.531204Z",
          "iopub.status.idle": "2024-07-08T12:00:32.536480Z",
          "shell.execute_reply": "2024-07-08T12:00:32.535506Z",
          "shell.execute_reply.started": "2024-07-08T12:00:32.531831Z"
        },
        "id": "o62TG7vj_1jH",
        "outputId": "22af7bd2-410c-4c60-dd2a-dfb9879735d9",
        "trusted": true
      },
      "outputs": [
        {
          "name": "stdout",
          "output_type": "stream",
          "text": [
            "The number of loaded chapters are: 21\n",
            "\n",
            "First chapter which is Regular Expression content:\n",
            "Speech and Language Processing. Daniel Jurafsky & James H. Martin. Copyright ©2023. All\n",
            "rights reserved. Draft of February 3, 2024.\n",
            "CHAPTER\n",
            "2Regular Expressions, Text\n",
            "Normalization, Edit Distance\n",
            "User: I am unhappy.\n",
            "ELIZA: DO YOU THINK COMING HERE WILL HELP YOU NOT TO BE UNHAPPY\n",
            "User: I need some help, that much seems certain.\n",
            "ELIZA: WHAT WOULD IT MEAN TO YOU IF YOU GOT SOME HELP\n",
            "User: Perhaps I could learn to get along with my mother.\n",
            "ELIZA: TELL ME MORE ABOUT YOUR FAMILY\n",
            "User: My mother takes care of me.\n",
            "ELIZA: WHO ELSE IN YOU FAMILY TAKES CARE OF YOU\n",
            "User: My father.\n",
            "ELIZA: YOUR FATHER\n",
            "User: You are like my father in some ways.\n",
            "Weizenbaum (1966)\n",
            "The dialogue above is from ELIZA , an early natural language processing system ELIZA\n",
            "that could carry on a limited conversation with a user by imitating the responses of\n",
            "a Rogerian psychotherapist (Weizenbaum, 1966). ELIZA is a surprisingly simple\n",
            "program that uses pattern matching to recognize phrases like “I need X” and translate\n",
            "them into suitable outputs like “What would it mean to you if you got X?”. This\n",
            "simple technique succeeds in this domain because ELIZA doesn’t actually need to\n",
            "know anything to mimic a Rogerian psychotherapist. As Weizenbaum notes, this is\n",
            "one of the few dialogue genres where listeners can act as if they know nothing of the\n",
            "world. ELIZA’s mimicry of human conversation was remarkably successful: many\n",
            "people who interacted with ELIZA came to believe that it really understood them\n",
            "and their problems, many continued to believe in ELIZA’s abilities even after the\n",
            "program’s operation was explained to them (Weizenbaum, 1976), and even today\n",
            "such chatbots are a fun diversion. chatbots\n",
            "Of course modern conversational agents are much more than a diversion; they\n",
            "can answer questions, book ﬂights, or ﬁnd restaurants, functions for which they rely\n",
            "on a much more sophisticated understanding of the user’s intent, as we will see in\n",
            "Chapter 15. Nonetheless, the simple pattern-based methods that powered ELIZA\n",
            "and other chatbots play a crucial role in natural language processing.\n",
            "We’ll begin with the most important tool for describing text patterns: the regular\n",
            "expression . Regular expressions can be used to specify strings we might want to\n",
            "extract from a document, from transforming “I need X” in ELIZA above, to deﬁning\n",
            "strings like $199 or$24.99 for extracting tables of prices from a document.\n",
            "We’ll then turn to a set of tasks collectively called text normalization , in whichtext\n",
            "normalization\n",
            "regular expressions play an important part. Normalizing text means converting it\n",
            "to a more convenient, standard form. For example, most of what we are going to\n",
            "do with language relies on ﬁrst separating out or tokenizing words from running\n",
            "text, the task of tokenization . English words are often separated from each other tokenization\n",
            "by whitespace, but whitespace is not always sufﬁcient. New York androck ’n’ roll\n",
            "are sometimes treated as large words despite the fact that they contain spaces, while\n",
            "sometimes we’ll need to separate I’minto the two words Iandam. For processing\n",
            "tweets or texts we’ll need to tokenize emoticons like:)orhashtags like#nlproc .\n"
          ]
        }
      ],
      "source": [
        "print(f'The number of loaded chapters are: {len(documents)}\\n')\n",
        "print(f'First chapter which is Regular Expression content:\\n{documents[0][0].page_content}')"
      ]
    },
    {
      "cell_type": "markdown",
      "metadata": {
        "id": "RdmIv-aPD7VZ"
      },
      "source": [
        "## Create an object of recursive character text spiliter"
      ]
    },
    {
      "cell_type": "code",
      "execution_count": null,
      "metadata": {
        "execution": {
          "iopub.execute_input": "2024-07-08T12:00:35.102894Z",
          "iopub.status.busy": "2024-07-08T12:00:35.102237Z",
          "iopub.status.idle": "2024-07-08T12:00:35.107069Z",
          "shell.execute_reply": "2024-07-08T12:00:35.106177Z",
          "shell.execute_reply.started": "2024-07-08T12:00:35.102863Z"
        },
        "id": "19xQmoqWAlSY",
        "trusted": true
      },
      "outputs": [],
      "source": [
        "chunk_size = 1024\n",
        "chunk_overlap = 64\n",
        "text_splitter = RecursiveCharacterTextSplitter(\n",
        "  length_function=len,\n",
        "  chunk_size=chunk_size,\n",
        "  chunk_overlap=chunk_overlap\n",
        ")"
      ]
    },
    {
      "cell_type": "code",
      "execution_count": null,
      "metadata": {
        "colab": {
          "base_uri": "https://localhost:8080/"
        },
        "execution": {
          "iopub.execute_input": "2024-07-08T12:00:36.576440Z",
          "iopub.status.busy": "2024-07-08T12:00:36.576066Z",
          "iopub.status.idle": "2024-07-08T12:00:36.582359Z",
          "shell.execute_reply": "2024-07-08T12:00:36.581480Z",
          "shell.execute_reply.started": "2024-07-08T12:00:36.576408Z"
        },
        "id": "suDWkoyVEktq",
        "outputId": "5dd35be4-1b7a-447f-c8b8-9193aa159e23",
        "trusted": true
      },
      "outputs": [
        {
          "data": {
            "text/plain": [
              "568"
            ]
          },
          "execution_count": 11,
          "metadata": {},
          "output_type": "execute_result"
        }
      ],
      "source": [
        "pages = 0\n",
        "for doc in documents:\n",
        "  pages += len(doc)\n",
        "pages"
      ]
    },
    {
      "cell_type": "markdown",
      "metadata": {
        "id": "19GaBQ6wP2xS"
      },
      "source": [
        "## Totaly we have 568 pages we must extend all pages into single doc :)"
      ]
    },
    {
      "cell_type": "code",
      "execution_count": null,
      "metadata": {
        "execution": {
          "iopub.execute_input": "2024-07-08T12:00:38.371290Z",
          "iopub.status.busy": "2024-07-08T12:00:38.370911Z",
          "iopub.status.idle": "2024-07-08T12:00:38.375908Z",
          "shell.execute_reply": "2024-07-08T12:00:38.374901Z",
          "shell.execute_reply.started": "2024-07-08T12:00:38.371248Z"
        },
        "id": "yhh2By7-QK7u",
        "trusted": true
      },
      "outputs": [],
      "source": [
        "extended_docs = []\n",
        "for chapter in documents:\n",
        "  for page in chapter:\n",
        "    extended_docs.append(page)"
      ]
    },
    {
      "cell_type": "code",
      "execution_count": null,
      "metadata": {
        "colab": {
          "base_uri": "https://localhost:8080/"
        },
        "execution": {
          "iopub.execute_input": "2024-07-08T12:00:39.248861Z",
          "iopub.status.busy": "2024-07-08T12:00:39.248518Z",
          "iopub.status.idle": "2024-07-08T12:00:39.254025Z",
          "shell.execute_reply": "2024-07-08T12:00:39.253180Z",
          "shell.execute_reply.started": "2024-07-08T12:00:39.248835Z"
        },
        "id": "W0LpJ6eDQom0",
        "outputId": "9cd21f0e-30d1-41f7-e737-31db6b7cab92",
        "trusted": true
      },
      "outputs": [
        {
          "name": "stdout",
          "output_type": "stream",
          "text": [
            "Number of pages are: 568\n",
            "The first page belongs to fisrt chapter: page_content='Speech and Language Processing. Daniel Jurafsky & James H. Martin. Copyright ©2023. All\n",
            "rights reserved. Draft of February 3, 2024.\n",
            "CHAPTER\n",
            "2Regular Expressions, Text\n",
            "Normalization, Edit Distance\n",
            "User: I am unhappy.\n",
            "ELIZA: DO YOU THINK COMING HERE WILL HELP YOU NOT TO BE UNHAPPY\n",
            "User: I need some help, that much seems certain.\n",
            "ELIZA: WHAT WOULD IT MEAN TO YOU IF YOU GOT SOME HELP\n",
            "User: Perhaps I could learn to get along with my mother.\n",
            "ELIZA: TELL ME MORE ABOUT YOUR FAMILY\n",
            "User: My mother takes care of me.\n",
            "ELIZA: WHO ELSE IN YOU FAMILY TAKES CARE OF YOU\n",
            "User: My father.\n",
            "ELIZA: YOUR FATHER\n",
            "User: You are like my father in some ways.\n",
            "Weizenbaum (1966)\n",
            "The dialogue above is from ELIZA , an early natural language processing system ELIZA\n",
            "that could carry on a limited conversation with a user by imitating the responses of\n",
            "a Rogerian psychotherapist (Weizenbaum, 1966). ELIZA is a surprisingly simple\n",
            "program that uses pattern matching to recognize phrases like “I need X” and translate\n",
            "them into suitable outputs like “What would it mean to you if you got X?”. This\n",
            "simple technique succeeds in this domain because ELIZA doesn’t actually need to\n",
            "know anything to mimic a Rogerian psychotherapist. As Weizenbaum notes, this is\n",
            "one of the few dialogue genres where listeners can act as if they know nothing of the\n",
            "world. ELIZA’s mimicry of human conversation was remarkably successful: many\n",
            "people who interacted with ELIZA came to believe that it really understood them\n",
            "and their problems, many continued to believe in ELIZA’s abilities even after the\n",
            "program’s operation was explained to them (Weizenbaum, 1976), and even today\n",
            "such chatbots are a fun diversion. chatbots\n",
            "Of course modern conversational agents are much more than a diversion; they\n",
            "can answer questions, book ﬂights, or ﬁnd restaurants, functions for which they rely\n",
            "on a much more sophisticated understanding of the user’s intent, as we will see in\n",
            "Chapter 15. Nonetheless, the simple pattern-based methods that powered ELIZA\n",
            "and other chatbots play a crucial role in natural language processing.\n",
            "We’ll begin with the most important tool for describing text patterns: the regular\n",
            "expression . Regular expressions can be used to specify strings we might want to\n",
            "extract from a document, from transforming “I need X” in ELIZA above, to deﬁning\n",
            "strings like $199 or$24.99 for extracting tables of prices from a document.\n",
            "We’ll then turn to a set of tasks collectively called text normalization , in whichtext\n",
            "normalization\n",
            "regular expressions play an important part. Normalizing text means converting it\n",
            "to a more convenient, standard form. For example, most of what we are going to\n",
            "do with language relies on ﬁrst separating out or tokenizing words from running\n",
            "text, the task of tokenization . English words are often separated from each other tokenization\n",
            "by whitespace, but whitespace is not always sufﬁcient. New York androck ’n’ roll\n",
            "are sometimes treated as large words despite the fact that they contain spaces, while\n",
            "sometimes we’ll need to separate I’minto the two words Iandam. For processing\n",
            "tweets or texts we’ll need to tokenize emoticons like:)orhashtags like#nlproc .' metadata={'source': 'https://stanford.edu/~jurafsky/slp3/2.pdf', 'page': 0}\n"
          ]
        }
      ],
      "source": [
        "print(f'Number of pages are: {len(extended_docs)}')\n",
        "print(f'The first page belongs to fisrt chapter: {extended_docs[0]}')"
      ]
    },
    {
      "cell_type": "markdown",
      "metadata": {
        "id": "YPIHv65uImeQ"
      },
      "source": [
        "## Create chunks"
      ]
    },
    {
      "cell_type": "code",
      "execution_count": null,
      "metadata": {
        "execution": {
          "iopub.execute_input": "2024-07-08T12:00:40.784196Z",
          "iopub.status.busy": "2024-07-08T12:00:40.783849Z",
          "iopub.status.idle": "2024-07-08T12:00:40.909762Z",
          "shell.execute_reply": "2024-07-08T12:00:40.908926Z",
          "shell.execute_reply.started": "2024-07-08T12:00:40.784169Z"
        },
        "id": "PFJZ0fHpFF7Y",
        "trusted": true
      },
      "outputs": [],
      "source": [
        "chunks = text_splitter.split_documents(extended_docs)"
      ]
    },
    {
      "cell_type": "code",
      "execution_count": null,
      "metadata": {
        "colab": {
          "base_uri": "https://localhost:8080/"
        },
        "execution": {
          "iopub.execute_input": "2024-07-08T12:00:41.531434Z",
          "iopub.status.busy": "2024-07-08T12:00:41.530776Z",
          "iopub.status.idle": "2024-07-08T12:00:41.536109Z",
          "shell.execute_reply": "2024-07-08T12:00:41.535156Z",
          "shell.execute_reply.started": "2024-07-08T12:00:41.531399Z"
        },
        "id": "u0yrx7jBQ9HG",
        "outputId": "4de17288-f5c2-48d5-8243-4746fbf2f726",
        "trusted": true
      },
      "outputs": [
        {
          "name": "stdout",
          "output_type": "stream",
          "text": [
            "1984\n"
          ]
        }
      ],
      "source": [
        "print(len(chunks))"
      ]
    },
    {
      "cell_type": "code",
      "execution_count": null,
      "metadata": {
        "colab": {
          "base_uri": "https://localhost:8080/"
        },
        "id": "9_jX1YJ42yKp",
        "outputId": "bf67dab1-600a-45e1-d61b-3dc016b6098b"
      },
      "outputs": [
        {
          "data": {
            "text/plain": [
              "Document(metadata={'source': 'https://stanford.edu/~jurafsky/slp3/2.pdf', 'page': 0}, page_content='Speech and Language Processing. Daniel Jurafsky & James H. Martin. Copyright ©2023. All\\nrights reserved. Draft of February 3, 2024.\\nCHAPTER\\n2Regular Expressions, Text\\nNormalization, Edit Distance\\nUser: I am unhappy.\\nELIZA: DO YOU THINK COMING HERE WILL HELP YOU NOT TO BE UNHAPPY\\nUser: I need some help, that much seems certain.\\nELIZA: WHAT WOULD IT MEAN TO YOU IF YOU GOT SOME HELP\\nUser: Perhaps I could learn to get along with my mother.\\nELIZA: TELL ME MORE ABOUT YOUR FAMILY\\nUser: My mother takes care of me.\\nELIZA: WHO ELSE IN YOU FAMILY TAKES CARE OF YOU\\nUser: My father.\\nELIZA: YOUR FATHER\\nUser: You are like my father in some ways.\\nWeizenbaum (1966)\\nThe dialogue above is from ELIZA , an early natural language processing system ELIZA\\nthat could carry on a limited conversation with a user by imitating the responses of\\na Rogerian psychotherapist (Weizenbaum, 1966). ELIZA is a surprisingly simple\\nprogram that uses pattern matching to recognize phrases like “I need X” and translate')"
            ]
          },
          "execution_count": 22,
          "metadata": {},
          "output_type": "execute_result"
        }
      ],
      "source": [
        "chunks[0]"
      ]
    },
    {
      "cell_type": "markdown",
      "metadata": {
        "id": "M_XgoR_sXsV0"
      },
      "source": [
        "## Any overlap occurs?"
      ]
    },
    {
      "cell_type": "code",
      "execution_count": null,
      "metadata": {
        "execution": {
          "iopub.execute_input": "2024-07-08T12:00:42.666346Z",
          "iopub.status.busy": "2024-07-08T12:00:42.665982Z",
          "iopub.status.idle": "2024-07-08T12:00:42.673007Z",
          "shell.execute_reply": "2024-07-08T12:00:42.672110Z",
          "shell.execute_reply.started": "2024-07-08T12:00:42.666317Z"
        },
        "id": "mlXbKxsoRAR9",
        "trusted": true
      },
      "outputs": [],
      "source": [
        "for index in range(len(chunks)-1):\n",
        "  if len(chunks[index].page_content) > chunk_size:\n",
        "    print(chunks[index])\n",
        "    print(\"-----------\")\n",
        "    print(len(chunks[index].page_content))\n",
        "    print(\"-----------\")\n",
        "    print(chunks[index + 1])\n",
        "    print(\"-----------\")\n",
        "    break"
      ]
    },
    {
      "cell_type": "markdown",
      "metadata": {
        "id": "CVxe6N8zIlLt"
      },
      "source": [
        "# Part II creating embedding"
      ]
    },
    {
      "cell_type": "code",
      "execution_count": null,
      "metadata": {
        "colab": {
          "base_uri": "https://localhost:8080/",
          "height": 597,
          "referenced_widgets": [
            "0a46d54b1ad644cb9b4e68d579d226b0",
            "7286bc1f42e24a1dbe83f1c65e599f85",
            "9dbf736063444ff29f74e034f14d06f9",
            "4b5ab31ea67a4b7d8f6da1b36664dda7",
            "b0267b241f8b47f398e1637715e87898",
            "24843cfc2a7e43289914825677b79024",
            "030a5a329b5e4ac5bcc1d7a88b630239",
            "5eb2801e915b4244b96bdc76d69fa103",
            "1188b51f97a843939a42d0486ea32386",
            "210abb933f9a47ca97670099c52b4cc7",
            "e72baa4375cd4ed2b94547abb2fe401f",
            "9a2ca97d497b4dbaa31672bca579b787",
            "f35e355f525048959e373a6931fca187",
            "d5fd73a0fde847759b210d5715d4db2e",
            "bbac19b86c8c4310bb4ad032e05f2e10",
            "004a10a4c2704094bcf0da2daf723653",
            "32ac98c48de74648a93f89b5c56283f7",
            "e6947ba8dd484107abb64904dcd7bd1e",
            "04cb5acada994feb8ce708521c0c830a",
            "1a0a7a6f801047b1ac7ab73c407a1a0f",
            "56e5836b1a0b4a27861e8e3b741e804d",
            "10f81b7082a54c86b07cc1a9c76a2f89",
            "da68220ed2ec45e0806cb8290eac5210",
            "4c2e47419fba4e83b455195d2ed0cd8f",
            "a6689af31fc34f1994b623e98020e7cb",
            "4eb49893e0c341b984a55b1bd303fb64",
            "02a6a4a38f5a4df8a037082e7f219817",
            "b775a584973f4d76b25b2254f2273c71",
            "7cc42afbb91743b68bef260e96c086c0",
            "e602bfa72f914c579cc235fb7faca641",
            "d5df56b315154a61aac6c7ac1c4fe625",
            "8760f5d11a784f9fa5f3b7a038978208",
            "ca3d36e2ff8d42f78a30f77a1ea46858",
            "5783c95edd8640a19faa8c8a9906c987",
            "59139ff8fd1247d380ee1a47b6366a05",
            "009feba9eb364485b1bb00ba24ccf5c6",
            "6a40a2c5073240e99bf44f3e05169973",
            "616289627a5d429f9d329672078490ad",
            "9564d59987fc417792f041b74d3d1689",
            "0111919faf6c4dce887d5a6ec2c01a8f",
            "bb307961485c4838b89663070759488d",
            "1241ac838b444677ae99e7658457cc19",
            "3bba33e9ef2a4d23bfe3fe38881eeb7e",
            "38d8291d90e74fb695fb20c1f5203d4a",
            "c87d63d5b55c47dfa6b06286e6e5b496",
            "94e1ee16fedb4daa93b0aa0591bb3bbf",
            "30d0445b9c2b40f9beb8dadceecb56e2",
            "cc5a890f4a874d76b34ea0fba178ec83",
            "9346765d24834ab1b24ea65c74938f31",
            "cbbe18d28e2e468fadd7cb80f5ee6b08",
            "66744ee1b5ef44c5ac7d73562c23fa3b",
            "edd63801b5c1468ba3d4480f0940a921",
            "d931c8149afa41689a18e3f2c6b7463d",
            "bc21f47cf3e549eba1f1e98142189663",
            "b1bb5a28e1ad4d5abd5ece076bc4660f",
            "ba5e0d2c6fb74842a1225ce5591161e8",
            "03a8e062f4574ac48c7fff45c33a62b3",
            "d64cf2fdb0ca40158742ee7296373a5d",
            "ec7ade038a1a4038810f716a1d5950d7",
            "f04355553f67490689188f69dfdc4ac2",
            "45af670022014ae9ba4ae27b2ac8c8eb",
            "0367e39d7922499fac9c089768ded0e1",
            "b82e2906b9924f4692496af69a0a9efd",
            "972ab79c991c4f85ada0bb2b46cb774b",
            "11bd285a12414e14abb1e584675aeb3c",
            "499da0fe0649428793d51e064fd2577d",
            "f5b9e5d6e404408ba9d61b35bff615ba",
            "5ed85625ae54449bb73496b17a5da616",
            "9990d1ff326d432098230d4367a3d6c1",
            "26daac80f0bd463c96a502351b2cd67e",
            "e5c1d7c9b09b4c2aa39366be1e998d10",
            "1211a1c588504b809451796cbc2d02fb",
            "a607423dd3334ab7924f564fbdbceb33",
            "0a058f055a8e4b909d301ada98f76818",
            "9d330467728a482dbdfa65e2f1f4261e",
            "f4f4ab13f37444da8a406d57793d63dc",
            "81ad3ac4151b47a89649ec0378aff61c",
            "f20571880697478fb9edb7fba189c236",
            "66306024965842d9a81ba2b70a62fbd7",
            "de10c041f0a64c3bbc55ab1f0ffa514d",
            "b3b9249f92c1429a9ad76330538256b6",
            "065cf64957f14e5b8f0bf84c2393a9f0",
            "3e335e4e01c449359a20622bd8497c65",
            "4f936a3ded83425a98d8a6b16d33f41a",
            "63c5ec13838640a7b8190fd61b0087b6",
            "740cbbf42eb8433680064991b2f014b1",
            "f66c8381bd094f059570516273738a90",
            "e731db71d2d643caa28d1373338ce8fd",
            "d1f3de7c72d94a0e9cbd57c01744d97e",
            "d75aa307eb784c37914eae0c99b868d3",
            "28051a22fb80403082ca5947806c9f7f",
            "b4b3d3afb77f4d90be7554a743c0d4da",
            "888fc12d6cd84c87988a0d1e675176b5",
            "8dc5a1c926884431b4df4064b79459b0",
            "aeb444f57d4040ce967ec8394f9b6495",
            "5c57ff1634c44703b6da9c1b7af109a1",
            "9cf3d15e95a94ae98b84ab6a5e221dd8",
            "25a9f00ee0984bc1aad8594d2627ceb6",
            "df2663e1d87c454e924e142498654847",
            "32573586f9f847509dbe1f46418216e9",
            "e6b2b40c65c04718b51a843e79dadfba",
            "890498a33ca94d31910887d7e4773c6b",
            "e29ce421d03d43aca0149752831e98ca",
            "45494d3d38d6453b86d0b79597ddb845",
            "d0a8863c62cd4bd588e819e1afdcfefe",
            "5e72be3ef26f4d1693f1f58df7bd1958",
            "cf8ac1eba2274423adf078c7b8a550cd",
            "4ac4057eade44034af46901f26d53010",
            "b98043b039af4e05a5fd077418346137",
            "b81d454546dc44d5a303fca4a1da4935",
            "fef04e5af54d41f38a9cc3ef0f703c75",
            "33bb17232bbc4ff38e7c305ede65f2bc",
            "3aa93ab1acba449eaa2a016a88875e2d",
            "f31276f16dbb455695751bf470306ee9",
            "c87984039bd04806a7a47426866aa73d",
            "1cf00414ac7d4cab981706fb9af5cae1",
            "e84b238203dc429194139532baafe728",
            "529298613ae34988ae449096dcaefe81",
            "8f2d43f3ea4f49db8bd9a353d15384af",
            "7350420f67d543419b76452aa8637959",
            "c963261959134250aa339f700c59dfc0"
          ]
        },
        "execution": {
          "iopub.execute_input": "2024-07-08T12:00:44.946998Z",
          "iopub.status.busy": "2024-07-08T12:00:44.946121Z",
          "iopub.status.idle": "2024-07-08T12:01:14.522087Z",
          "shell.execute_reply": "2024-07-08T12:01:14.521312Z",
          "shell.execute_reply.started": "2024-07-08T12:00:44.946964Z"
        },
        "id": "kHHfKbkJJ5o6",
        "outputId": "b4a95847-dc71-49ce-fdbc-fa9b742e757a",
        "trusted": true
      },
      "outputs": [
        {
          "name": "stderr",
          "output_type": "stream",
          "text": [
            "/usr/local/lib/python3.10/dist-packages/langchain_core/_api/deprecation.py:139: LangChainDeprecationWarning: The class `HuggingFaceEmbeddings` was deprecated in LangChain 0.2.2 and will be removed in 0.3.0. An updated version of the class exists in the langchain-huggingface package and should be used instead. To use it run `pip install -U langchain-huggingface` and import as `from langchain_huggingface import HuggingFaceEmbeddings`.\n",
            "  warn_deprecated(\n",
            "/usr/local/lib/python3.10/dist-packages/sentence_transformers/cross_encoder/CrossEncoder.py:11: TqdmExperimentalWarning: Using `tqdm.autonotebook.tqdm` in notebook mode. Use `tqdm.tqdm` instead to force console mode (e.g. in jupyter console)\n",
            "  from tqdm.autonotebook import tqdm, trange\n",
            "/usr/local/lib/python3.10/dist-packages/huggingface_hub/utils/_token.py:89: UserWarning: \n",
            "The secret `HF_TOKEN` does not exist in your Colab secrets.\n",
            "To authenticate with the Hugging Face Hub, create a token in your settings tab (https://huggingface.co/settings/tokens), set it as secret in your Google Colab and restart your session.\n",
            "You will be able to reuse this secret in all of your notebooks.\n",
            "Please note that authentication is recommended but still optional to access public models or datasets.\n",
            "  warnings.warn(\n"
          ]
        },
        {
          "data": {
            "application/vnd.jupyter.widget-view+json": {
              "model_id": "0a46d54b1ad644cb9b4e68d579d226b0",
              "version_major": 2,
              "version_minor": 0
            },
            "text/plain": [
              "modules.json:   0%|          | 0.00/349 [00:00<?, ?B/s]"
            ]
          },
          "metadata": {},
          "output_type": "display_data"
        },
        {
          "data": {
            "application/vnd.jupyter.widget-view+json": {
              "model_id": "9a2ca97d497b4dbaa31672bca579b787",
              "version_major": 2,
              "version_minor": 0
            },
            "text/plain": [
              "config_sentence_transformers.json:   0%|          | 0.00/116 [00:00<?, ?B/s]"
            ]
          },
          "metadata": {},
          "output_type": "display_data"
        },
        {
          "data": {
            "application/vnd.jupyter.widget-view+json": {
              "model_id": "da68220ed2ec45e0806cb8290eac5210",
              "version_major": 2,
              "version_minor": 0
            },
            "text/plain": [
              "README.md:   0%|          | 0.00/10.6k [00:00<?, ?B/s]"
            ]
          },
          "metadata": {},
          "output_type": "display_data"
        },
        {
          "data": {
            "application/vnd.jupyter.widget-view+json": {
              "model_id": "5783c95edd8640a19faa8c8a9906c987",
              "version_major": 2,
              "version_minor": 0
            },
            "text/plain": [
              "sentence_bert_config.json:   0%|          | 0.00/53.0 [00:00<?, ?B/s]"
            ]
          },
          "metadata": {},
          "output_type": "display_data"
        },
        {
          "name": "stderr",
          "output_type": "stream",
          "text": [
            "/usr/local/lib/python3.10/dist-packages/huggingface_hub/file_download.py:1132: FutureWarning: `resume_download` is deprecated and will be removed in version 1.0.0. Downloads always resume when possible. If you want to force a new download, use `force_download=True`.\n",
            "  warnings.warn(\n"
          ]
        },
        {
          "data": {
            "application/vnd.jupyter.widget-view+json": {
              "model_id": "c87d63d5b55c47dfa6b06286e6e5b496",
              "version_major": 2,
              "version_minor": 0
            },
            "text/plain": [
              "config.json:   0%|          | 0.00/571 [00:00<?, ?B/s]"
            ]
          },
          "metadata": {},
          "output_type": "display_data"
        },
        {
          "data": {
            "application/vnd.jupyter.widget-view+json": {
              "model_id": "ba5e0d2c6fb74842a1225ce5591161e8",
              "version_major": 2,
              "version_minor": 0
            },
            "text/plain": [
              "model.safetensors:   0%|          | 0.00/438M [00:00<?, ?B/s]"
            ]
          },
          "metadata": {},
          "output_type": "display_data"
        },
        {
          "data": {
            "application/vnd.jupyter.widget-view+json": {
              "model_id": "f5b9e5d6e404408ba9d61b35bff615ba",
              "version_major": 2,
              "version_minor": 0
            },
            "text/plain": [
              "tokenizer_config.json:   0%|          | 0.00/363 [00:00<?, ?B/s]"
            ]
          },
          "metadata": {},
          "output_type": "display_data"
        },
        {
          "data": {
            "application/vnd.jupyter.widget-view+json": {
              "model_id": "f20571880697478fb9edb7fba189c236",
              "version_major": 2,
              "version_minor": 0
            },
            "text/plain": [
              "vocab.txt:   0%|          | 0.00/232k [00:00<?, ?B/s]"
            ]
          },
          "metadata": {},
          "output_type": "display_data"
        },
        {
          "data": {
            "application/vnd.jupyter.widget-view+json": {
              "model_id": "d1f3de7c72d94a0e9cbd57c01744d97e",
              "version_major": 2,
              "version_minor": 0
            },
            "text/plain": [
              "tokenizer.json:   0%|          | 0.00/466k [00:00<?, ?B/s]"
            ]
          },
          "metadata": {},
          "output_type": "display_data"
        },
        {
          "data": {
            "application/vnd.jupyter.widget-view+json": {
              "model_id": "32573586f9f847509dbe1f46418216e9",
              "version_major": 2,
              "version_minor": 0
            },
            "text/plain": [
              "special_tokens_map.json:   0%|          | 0.00/239 [00:00<?, ?B/s]"
            ]
          },
          "metadata": {},
          "output_type": "display_data"
        },
        {
          "data": {
            "application/vnd.jupyter.widget-view+json": {
              "model_id": "fef04e5af54d41f38a9cc3ef0f703c75",
              "version_major": 2,
              "version_minor": 0
            },
            "text/plain": [
              "1_Pooling/config.json:   0%|          | 0.00/190 [00:00<?, ?B/s]"
            ]
          },
          "metadata": {},
          "output_type": "display_data"
        }
      ],
      "source": [
        "embedding_function = HuggingFaceEmbeddings(show_progress=True, multi_process=True, model_kwargs={\"device\": device})\n",
        "store = LocalFileStore(\"./cache/\")"
      ]
    },
    {
      "cell_type": "code",
      "execution_count": null,
      "metadata": {
        "colab": {
          "base_uri": "https://localhost:8080/"
        },
        "execution": {
          "iopub.execute_input": "2024-07-08T12:01:14.524352Z",
          "iopub.status.busy": "2024-07-08T12:01:14.523735Z",
          "iopub.status.idle": "2024-07-08T12:01:14.529586Z",
          "shell.execute_reply": "2024-07-08T12:01:14.528718Z",
          "shell.execute_reply.started": "2024-07-08T12:01:14.524326Z"
        },
        "id": "YG69wQZAayUI",
        "outputId": "cd445d71-de08-47a1-a380-d0868fd692e1",
        "trusted": true
      },
      "outputs": [
        {
          "name": "stdout",
          "output_type": "stream",
          "text": [
            "client=SentenceTransformer(\n",
            "  (0): Transformer({'max_seq_length': 384, 'do_lower_case': False}) with Transformer model: MPNetModel \n",
            "  (1): Pooling({'word_embedding_dimension': 768, 'pooling_mode_cls_token': False, 'pooling_mode_mean_tokens': True, 'pooling_mode_max_tokens': False, 'pooling_mode_mean_sqrt_len_tokens': False, 'pooling_mode_weightedmean_tokens': False, 'pooling_mode_lasttoken': False, 'include_prompt': True})\n",
            "  (2): Normalize()\n",
            ") model_name='sentence-transformers/all-mpnet-base-v2' cache_folder=None model_kwargs={'device': device(type='cuda')} encode_kwargs={} multi_process=True show_progress=True\n",
            "<class 'langchain_community.embeddings.huggingface.HuggingFaceEmbeddings'>\n"
          ]
        }
      ],
      "source": [
        "print(embedding_function)\n",
        "print(type(embedding_function))"
      ]
    },
    {
      "cell_type": "code",
      "execution_count": null,
      "metadata": {
        "colab": {
          "base_uri": "https://localhost:8080/",
          "height": 35
        },
        "execution": {
          "iopub.execute_input": "2024-07-08T12:01:14.531014Z",
          "iopub.status.busy": "2024-07-08T12:01:14.530744Z",
          "iopub.status.idle": "2024-07-08T12:01:14.542908Z",
          "shell.execute_reply": "2024-07-08T12:01:14.541962Z",
          "shell.execute_reply.started": "2024-07-08T12:01:14.530990Z"
        },
        "id": "4oZEK4wUbSzJ",
        "outputId": "91e97e09-cfdc-4ef9-a274-ea06d67cb7fb",
        "trusted": true
      },
      "outputs": [
        {
          "data": {
            "application/vnd.google.colaboratory.intrinsic+json": {
              "type": "string"
            },
            "text/plain": [
              "'sentence-transformers/all-mpnet-base-v2'"
            ]
          },
          "execution_count": 19,
          "metadata": {},
          "output_type": "execute_result"
        }
      ],
      "source": [
        "namespace = str(embedding_function.model_name)\n",
        "namespace"
      ]
    },
    {
      "cell_type": "code",
      "execution_count": null,
      "metadata": {
        "execution": {
          "iopub.execute_input": "2024-07-08T12:01:17.604072Z",
          "iopub.status.busy": "2024-07-08T12:01:17.603727Z",
          "iopub.status.idle": "2024-07-08T12:01:17.608656Z",
          "shell.execute_reply": "2024-07-08T12:01:17.607668Z",
          "shell.execute_reply.started": "2024-07-08T12:01:17.604043Z"
        },
        "id": "nrwdXhCWbmTq",
        "trusted": true
      },
      "outputs": [],
      "source": [
        "cached_embedder = CacheBackedEmbeddings.from_bytes_store(\n",
        "    embedding_function, store, namespace=namespace\n",
        ")"
      ]
    },
    {
      "cell_type": "markdown",
      "metadata": {
        "id": "1Y5s-ux8eO5O"
      },
      "source": [
        "# Part III Vector store or retrieve"
      ]
    },
    {
      "cell_type": "code",
      "execution_count": null,
      "metadata": {
        "execution": {
          "iopub.execute_input": "2024-07-08T12:01:18.089138Z",
          "iopub.status.busy": "2024-07-08T12:01:18.088779Z",
          "iopub.status.idle": "2024-07-08T12:01:18.351825Z",
          "shell.execute_reply": "2024-07-08T12:01:18.350816Z",
          "shell.execute_reply.started": "2024-07-08T12:01:18.089110Z"
        },
        "id": "Xbv-gnVRd-gi",
        "trusted": true
      },
      "outputs": [],
      "source": [
        "bm25_retriever = BM25Retriever.from_documents(\n",
        "    documents=chunks,\n",
        ")\n",
        "bm25_retriever.k = 2"
      ]
    },
    {
      "cell_type": "code",
      "execution_count": null,
      "metadata": {
        "execution": {
          "iopub.execute_input": "2024-07-08T12:01:19.076074Z",
          "iopub.status.busy": "2024-07-08T12:01:19.075213Z",
          "iopub.status.idle": "2024-07-08T12:01:52.697348Z",
          "shell.execute_reply": "2024-07-08T12:01:52.696562Z",
          "shell.execute_reply.started": "2024-07-08T12:01:19.076041Z"
        },
        "id": "P4CsjR3_jD2L",
        "trusted": true
      },
      "outputs": [],
      "source": [
        "faiss_vectorstore = FAISS.from_documents(\n",
        "    documents=chunks,\n",
        "    embedding=cached_embedder\n",
        ")\n",
        "faiss_retriever = faiss_vectorstore.as_retriever(search_kwargs={\"k\": 2})"
      ]
    },
    {
      "cell_type": "code",
      "execution_count": null,
      "metadata": {
        "execution": {
          "iopub.execute_input": "2024-07-08T12:01:52.699108Z",
          "iopub.status.busy": "2024-07-08T12:01:52.698829Z",
          "iopub.status.idle": "2024-07-08T12:01:52.703539Z",
          "shell.execute_reply": "2024-07-08T12:01:52.702683Z",
          "shell.execute_reply.started": "2024-07-08T12:01:52.699083Z"
        },
        "id": "G6i9YXm-jWMg",
        "trusted": true
      },
      "outputs": [],
      "source": [
        "ensemble_retriever_1 = EnsembleRetriever(\n",
        "    retrievers=[bm25_retriever, faiss_retriever], weights=[0.5, 0.5]\n",
        ")"
      ]
    },
    {
      "cell_type": "code",
      "execution_count": null,
      "metadata": {
        "execution": {
          "iopub.execute_input": "2024-07-08T12:01:55.480417Z",
          "iopub.status.busy": "2024-07-08T12:01:55.480053Z",
          "iopub.status.idle": "2024-07-08T12:01:55.484917Z",
          "shell.execute_reply": "2024-07-08T12:01:55.483984Z",
          "shell.execute_reply.started": "2024-07-08T12:01:55.480388Z"
        },
        "id": "Rd3SdEpSlC_w",
        "trusted": true
      },
      "outputs": [],
      "source": [
        "ensemble_retriever_2 = EnsembleRetriever(\n",
        "    retrievers=[bm25_retriever, faiss_retriever], weights=[0.4, 0.6]\n",
        ")"
      ]
    },
    {
      "cell_type": "code",
      "execution_count": null,
      "metadata": {
        "execution": {
          "iopub.execute_input": "2024-07-08T12:01:55.803545Z",
          "iopub.status.busy": "2024-07-08T12:01:55.802774Z",
          "iopub.status.idle": "2024-07-08T12:01:55.807799Z",
          "shell.execute_reply": "2024-07-08T12:01:55.806826Z",
          "shell.execute_reply.started": "2024-07-08T12:01:55.803511Z"
        },
        "id": "3e5aCmC4lGLV",
        "trusted": true
      },
      "outputs": [],
      "source": [
        "ensemble_retriever_3 = EnsembleRetriever(\n",
        "    retrievers=[bm25_retriever, faiss_retriever], weights=[0.6, 0.4]\n",
        ")"
      ]
    },
    {
      "cell_type": "code",
      "execution_count": null,
      "metadata": {
        "colab": {
          "base_uri": "https://localhost:8080/"
        },
        "execution": {
          "iopub.execute_input": "2024-07-08T12:01:57.146838Z",
          "iopub.status.busy": "2024-07-08T12:01:57.146482Z",
          "iopub.status.idle": "2024-07-08T12:02:05.660461Z",
          "shell.execute_reply": "2024-07-08T12:02:05.659496Z",
          "shell.execute_reply.started": "2024-07-08T12:01:57.146809Z"
        },
        "id": "D6xuPpBPjsRo",
        "outputId": "f7a83a2b-173c-4229-c19a-bcc5d32ad482",
        "trusted": true
      },
      "outputs": [
        {
          "name": "stderr",
          "output_type": "stream",
          "text": [
            "/usr/local/lib/python3.10/dist-packages/langchain_core/_api/deprecation.py:139: LangChainDeprecationWarning: The method `BaseRetriever.get_relevant_documents` was deprecated in langchain-core 0.1.46 and will be removed in 0.3.0. Use invoke instead.\n",
            "  warn_deprecated(\n"
          ]
        },
        {
          "data": {
            "text/plain": [
              "[Document(metadata={'source': 'https://stanford.edu/~jurafsky/slp3/15.pdf', 'page': 19}, page_content='on real users.\\nBibliographical and Historical Notes\\nThe linguistic, philosophical, and psychological literature on dialogue is quite ex-\\ntensive. For example the idea that utterances in a conversation are a kind of action\\nbeing performed by the speaker was due originally to the philosopher Wittgenstein\\n(1953) but worked out more fully by Austin (1962) and his student John Searle.\\nVarious sets of speech acts have been deﬁned over the years, and a rich linguistic\\nand philosophical literature developed, especially focused on explaining the use of\\nindirect speech acts. The idea of dialogue acts draws also from a number of other\\nsources, including the ideas of adjacency pairs, pre-sequences, and other aspects of\\nthe interactional properties of human conversation developed in the ﬁeld of conver-\\nsation analysis (see Levinson (1983) for an introduction to the ﬁeld). This idea thatconversation\\nanalysis\\nacts set up strong local dialogue expectations was also preﬁgured by Firth (1935, p.\\n70), in a famous quotation:'),\n",
              " Document(metadata={'source': 'https://stanford.edu/~jurafsky/slp3/15.pdf', 'page': 0}, page_content='Speech and Language Processing. Daniel Jurafsky & James H. Martin. Copyright ©2023. All\\nrights reserved. Draft of February 3, 2024.\\nCHAPTER\\n15Chatbots & Dialogue Systems\\nLes lois de la conversation sont en g ´en´eral de ne s’y appesantir sur aucun ob-\\njet, mais de passer l ´eg`erement, sans effort et sans affectation, d’un sujet `a un\\nautre ; de savoir y parler de choses frivoles comme de choses s ´erieuses\\n[The rules of conversation are, in general, not to dwell on any one subject,\\nbut to pass lightly from one to another without effort and without affectation;\\nto know how to speak about trivial topics as well as serious ones;]\\nThe 18th C. Encyclopedia of Diderot, start of the entry on conversation\\nThe literature of the fantastic abounds in inanimate objects magically endowed with\\nthe gift of speech. From Ovid’s statue of Pygmalion to Mary Shelley’s story about\\nFrankenstein, we continually reinvent stories about creat-\\ning something and then having a chat with it. Legend has'),\n",
              " Document(metadata={'source': 'https://stanford.edu/~jurafsky/slp3/15.pdf', 'page': 12}, page_content='in “Au Midi has decent service”.\\n15.4 Chatbots\\nChatbots are systems that can carry on extended conversations with the goal of chatbot\\nmimicking the unstructured conversations or ‘chats’ characteristic of informal human-\\nhuman interaction. While early systems like ELIZA (Weizenbaum, 1966) or PARRY\\n(Colby et al., 1971) had theoretical goals like testing theories of psychological coun-\\nseling, for most of the last 50 years chatbots have been designed for entertainment.\\nThat changed with the recent rise of neural chatbots like ChatGPT, which incor-\\nporate solutions to NLP tasks like question answering, writing tools, or machine\\ntranslation into a conversational interface. A conversation with ChatGPT is shown\\nin Fig. 15.12. In this section we describe neural chatbot architectures and datasets.\\n[TBD]\\nFigure 15.12 A conversation with ChatGPT.\\n15.4.1 Training chatbots\\nData Chatbots are generally trained on a training set that includes standard large'),\n",
              " Document(metadata={'source': 'https://stanford.edu/~jurafsky/slp3/15.pdf', 'page': 2}, page_content='15.1 • P ROPERTIES OF HUMAN CONVERSATION 3\\nprivate information, even if they aren’t used for counseling as ELIZA was. Indeed,\\nif a chatbot is human-like, users are more likely to disclose private information, and\\nyet less likely to worry about the harm of this disclosure (Ischen et al., 2019).\\nBoth of these issues (emotional engagement and privacy) mean we need to think\\ncarefully about how we deploy chatbots and the people who are interacting with\\nthem. Dialogue research that uses human participants often requires getting permis-\\nsion from the Institutional Review Board (IRB) of your institution.\\nIn the next section we introduce some basic properties of human conversation.\\nWe then turn in the rest of the chapter to the two basic paradigms for conversational\\ninteraction: frame-based dialogue systems and chatbots.\\n15.1 Properties of Human Conversation\\nConversation between humans is an intricate and complex joint activity. Before\\nwe attempt to design a dialogue system to converse with humans, it is crucial to')]"
            ]
          },
          "execution_count": 28,
          "metadata": {},
          "output_type": "execute_result"
        }
      ],
      "source": [
        "ensemble_retriever_1.get_relevant_documents(\"properties of human conversation\")"
      ]
    },
    {
      "cell_type": "code",
      "execution_count": null,
      "metadata": {
        "colab": {
          "base_uri": "https://localhost:8080/"
        },
        "execution": {
          "iopub.execute_input": "2024-07-08T12:02:05.662303Z",
          "iopub.status.busy": "2024-07-08T12:02:05.661986Z",
          "iopub.status.idle": "2024-07-08T12:02:13.569494Z",
          "shell.execute_reply": "2024-07-08T12:02:13.568535Z",
          "shell.execute_reply.started": "2024-07-08T12:02:05.662250Z"
        },
        "id": "jOuv4U66jzwA",
        "outputId": "82958375-e24e-4fe0-b142-6da602ca0b5a",
        "trusted": true
      },
      "outputs": [
        {
          "data": {
            "text/plain": [
              "[Document(metadata={'source': 'https://stanford.edu/~jurafsky/slp3/15.pdf', 'page': 0}, page_content='Speech and Language Processing. Daniel Jurafsky & James H. Martin. Copyright ©2023. All\\nrights reserved. Draft of February 3, 2024.\\nCHAPTER\\n15Chatbots & Dialogue Systems\\nLes lois de la conversation sont en g ´en´eral de ne s’y appesantir sur aucun ob-\\njet, mais de passer l ´eg`erement, sans effort et sans affectation, d’un sujet `a un\\nautre ; de savoir y parler de choses frivoles comme de choses s ´erieuses\\n[The rules of conversation are, in general, not to dwell on any one subject,\\nbut to pass lightly from one to another without effort and without affectation;\\nto know how to speak about trivial topics as well as serious ones;]\\nThe 18th C. Encyclopedia of Diderot, start of the entry on conversation\\nThe literature of the fantastic abounds in inanimate objects magically endowed with\\nthe gift of speech. From Ovid’s statue of Pygmalion to Mary Shelley’s story about\\nFrankenstein, we continually reinvent stories about creat-\\ning something and then having a chat with it. Legend has'),\n",
              " Document(metadata={'source': 'https://stanford.edu/~jurafsky/slp3/15.pdf', 'page': 2}, page_content='15.1 • P ROPERTIES OF HUMAN CONVERSATION 3\\nprivate information, even if they aren’t used for counseling as ELIZA was. Indeed,\\nif a chatbot is human-like, users are more likely to disclose private information, and\\nyet less likely to worry about the harm of this disclosure (Ischen et al., 2019).\\nBoth of these issues (emotional engagement and privacy) mean we need to think\\ncarefully about how we deploy chatbots and the people who are interacting with\\nthem. Dialogue research that uses human participants often requires getting permis-\\nsion from the Institutional Review Board (IRB) of your institution.\\nIn the next section we introduce some basic properties of human conversation.\\nWe then turn in the rest of the chapter to the two basic paradigms for conversational\\ninteraction: frame-based dialogue systems and chatbots.\\n15.1 Properties of Human Conversation\\nConversation between humans is an intricate and complex joint activity. Before\\nwe attempt to design a dialogue system to converse with humans, it is crucial to'),\n",
              " Document(metadata={'source': 'https://stanford.edu/~jurafsky/slp3/15.pdf', 'page': 19}, page_content='on real users.\\nBibliographical and Historical Notes\\nThe linguistic, philosophical, and psychological literature on dialogue is quite ex-\\ntensive. For example the idea that utterances in a conversation are a kind of action\\nbeing performed by the speaker was due originally to the philosopher Wittgenstein\\n(1953) but worked out more fully by Austin (1962) and his student John Searle.\\nVarious sets of speech acts have been deﬁned over the years, and a rich linguistic\\nand philosophical literature developed, especially focused on explaining the use of\\nindirect speech acts. The idea of dialogue acts draws also from a number of other\\nsources, including the ideas of adjacency pairs, pre-sequences, and other aspects of\\nthe interactional properties of human conversation developed in the ﬁeld of conver-\\nsation analysis (see Levinson (1983) for an introduction to the ﬁeld). This idea thatconversation\\nanalysis\\nacts set up strong local dialogue expectations was also preﬁgured by Firth (1935, p.\\n70), in a famous quotation:'),\n",
              " Document(metadata={'source': 'https://stanford.edu/~jurafsky/slp3/15.pdf', 'page': 12}, page_content='in “Au Midi has decent service”.\\n15.4 Chatbots\\nChatbots are systems that can carry on extended conversations with the goal of chatbot\\nmimicking the unstructured conversations or ‘chats’ characteristic of informal human-\\nhuman interaction. While early systems like ELIZA (Weizenbaum, 1966) or PARRY\\n(Colby et al., 1971) had theoretical goals like testing theories of psychological coun-\\nseling, for most of the last 50 years chatbots have been designed for entertainment.\\nThat changed with the recent rise of neural chatbots like ChatGPT, which incor-\\nporate solutions to NLP tasks like question answering, writing tools, or machine\\ntranslation into a conversational interface. A conversation with ChatGPT is shown\\nin Fig. 15.12. In this section we describe neural chatbot architectures and datasets.\\n[TBD]\\nFigure 15.12 A conversation with ChatGPT.\\n15.4.1 Training chatbots\\nData Chatbots are generally trained on a training set that includes standard large')]"
            ]
          },
          "execution_count": 29,
          "metadata": {},
          "output_type": "execute_result"
        }
      ],
      "source": [
        "ensemble_retriever_2.get_relevant_documents(\"properties of human conversation\")"
      ]
    },
    {
      "cell_type": "code",
      "execution_count": null,
      "metadata": {
        "colab": {
          "base_uri": "https://localhost:8080/"
        },
        "execution": {
          "iopub.execute_input": "2024-07-08T12:02:16.352625Z",
          "iopub.status.busy": "2024-07-08T12:02:16.352223Z",
          "iopub.status.idle": "2024-07-08T12:02:24.338061Z",
          "shell.execute_reply": "2024-07-08T12:02:24.336823Z",
          "shell.execute_reply.started": "2024-07-08T12:02:16.352596Z"
        },
        "id": "85McxtDglMT0",
        "outputId": "f4d403ec-bc94-4826-f563-ce94ebe5ba69",
        "trusted": true
      },
      "outputs": [
        {
          "data": {
            "text/plain": [
              "[Document(metadata={'source': 'https://stanford.edu/~jurafsky/slp3/15.pdf', 'page': 19}, page_content='on real users.\\nBibliographical and Historical Notes\\nThe linguistic, philosophical, and psychological literature on dialogue is quite ex-\\ntensive. For example the idea that utterances in a conversation are a kind of action\\nbeing performed by the speaker was due originally to the philosopher Wittgenstein\\n(1953) but worked out more fully by Austin (1962) and his student John Searle.\\nVarious sets of speech acts have been deﬁned over the years, and a rich linguistic\\nand philosophical literature developed, especially focused on explaining the use of\\nindirect speech acts. The idea of dialogue acts draws also from a number of other\\nsources, including the ideas of adjacency pairs, pre-sequences, and other aspects of\\nthe interactional properties of human conversation developed in the ﬁeld of conver-\\nsation analysis (see Levinson (1983) for an introduction to the ﬁeld). This idea thatconversation\\nanalysis\\nacts set up strong local dialogue expectations was also preﬁgured by Firth (1935, p.\\n70), in a famous quotation:'),\n",
              " Document(metadata={'source': 'https://stanford.edu/~jurafsky/slp3/15.pdf', 'page': 12}, page_content='in “Au Midi has decent service”.\\n15.4 Chatbots\\nChatbots are systems that can carry on extended conversations with the goal of chatbot\\nmimicking the unstructured conversations or ‘chats’ characteristic of informal human-\\nhuman interaction. While early systems like ELIZA (Weizenbaum, 1966) or PARRY\\n(Colby et al., 1971) had theoretical goals like testing theories of psychological coun-\\nseling, for most of the last 50 years chatbots have been designed for entertainment.\\nThat changed with the recent rise of neural chatbots like ChatGPT, which incor-\\nporate solutions to NLP tasks like question answering, writing tools, or machine\\ntranslation into a conversational interface. A conversation with ChatGPT is shown\\nin Fig. 15.12. In this section we describe neural chatbot architectures and datasets.\\n[TBD]\\nFigure 15.12 A conversation with ChatGPT.\\n15.4.1 Training chatbots\\nData Chatbots are generally trained on a training set that includes standard large'),\n",
              " Document(metadata={'source': 'https://stanford.edu/~jurafsky/slp3/15.pdf', 'page': 0}, page_content='Speech and Language Processing. Daniel Jurafsky & James H. Martin. Copyright ©2023. All\\nrights reserved. Draft of February 3, 2024.\\nCHAPTER\\n15Chatbots & Dialogue Systems\\nLes lois de la conversation sont en g ´en´eral de ne s’y appesantir sur aucun ob-\\njet, mais de passer l ´eg`erement, sans effort et sans affectation, d’un sujet `a un\\nautre ; de savoir y parler de choses frivoles comme de choses s ´erieuses\\n[The rules of conversation are, in general, not to dwell on any one subject,\\nbut to pass lightly from one to another without effort and without affectation;\\nto know how to speak about trivial topics as well as serious ones;]\\nThe 18th C. Encyclopedia of Diderot, start of the entry on conversation\\nThe literature of the fantastic abounds in inanimate objects magically endowed with\\nthe gift of speech. From Ovid’s statue of Pygmalion to Mary Shelley’s story about\\nFrankenstein, we continually reinvent stories about creat-\\ning something and then having a chat with it. Legend has'),\n",
              " Document(metadata={'source': 'https://stanford.edu/~jurafsky/slp3/15.pdf', 'page': 2}, page_content='15.1 • P ROPERTIES OF HUMAN CONVERSATION 3\\nprivate information, even if they aren’t used for counseling as ELIZA was. Indeed,\\nif a chatbot is human-like, users are more likely to disclose private information, and\\nyet less likely to worry about the harm of this disclosure (Ischen et al., 2019).\\nBoth of these issues (emotional engagement and privacy) mean we need to think\\ncarefully about how we deploy chatbots and the people who are interacting with\\nthem. Dialogue research that uses human participants often requires getting permis-\\nsion from the Institutional Review Board (IRB) of your institution.\\nIn the next section we introduce some basic properties of human conversation.\\nWe then turn in the rest of the chapter to the two basic paradigms for conversational\\ninteraction: frame-based dialogue systems and chatbots.\\n15.1 Properties of Human Conversation\\nConversation between humans is an intricate and complex joint activity. Before\\nwe attempt to design a dialogue system to converse with humans, it is crucial to')]"
            ]
          },
          "execution_count": 30,
          "metadata": {},
          "output_type": "execute_result"
        }
      ],
      "source": [
        "ensemble_retriever_3.get_relevant_documents(\"properties of human conversation\")"
      ]
    },
    {
      "cell_type": "code",
      "execution_count": null,
      "metadata": {
        "execution": {
          "iopub.execute_input": "2024-07-08T12:02:24.340198Z",
          "iopub.status.busy": "2024-07-08T12:02:24.339906Z",
          "iopub.status.idle": "2024-07-08T12:02:24.344403Z",
          "shell.execute_reply": "2024-07-08T12:02:24.343413Z",
          "shell.execute_reply.started": "2024-07-08T12:02:24.340172Z"
        },
        "id": "0HDOdTuGlPHQ",
        "trusted": true
      },
      "outputs": [],
      "source": [
        "retriever = ensemble_retriever_2"
      ]
    },
    {
      "cell_type": "markdown",
      "metadata": {
        "id": "ePkKEIeXPmDs"
      },
      "source": [
        "## One example for NLP for retriever"
      ]
    },
    {
      "cell_type": "code",
      "execution_count": null,
      "metadata": {
        "colab": {
          "base_uri": "https://localhost:8080/"
        },
        "execution": {
          "iopub.execute_input": "2024-07-08T12:02:29.524361Z",
          "iopub.status.busy": "2024-07-08T12:02:29.523638Z",
          "iopub.status.idle": "2024-07-08T12:02:37.564975Z",
          "shell.execute_reply": "2024-07-08T12:02:37.563989Z",
          "shell.execute_reply.started": "2024-07-08T12:02:29.524332Z"
        },
        "id": "cgX2phJsPmDs",
        "outputId": "de6ec175-494b-4a36-cc93-3e48fdaff7f3",
        "trusted": true
      },
      "outputs": [
        {
          "data": {
            "text/plain": [
              "[Document(metadata={'source': 'https://stanford.edu/~jurafsky/slp3/15.pdf', 'page': 18}, page_content='help protect the safety of experimental subjects.\\n15.6 Summary\\nChatbots anddialogue systems are crucial speech and language processing appli-\\ncations that are already widely used commercially.\\n• In human dialogue, speaking is a kind of action; these acts are referred to\\nas speech acts or dialogue acts. Speakers also attempt to achieve common\\nground by acknowledging that they have understand each other. Conversation\\nalso is characterized by turn structure and dialogue structure.\\n• Chatbots are conversational systems designed to mimic the appearance of in-\\nformal human conversation. Rule-based chatbots like ELIZA and its modern'),\n",
              " Document(metadata={'source': 'https://stanford.edu/~jurafsky/slp3/15.pdf', 'page': 25}, page_content='26 Chapter 15 • Chatbots & Dialogue Systems\\nWilliams, J. D. and S. J. Young. 2007. Partially observ-\\nable markov decision processes for spoken dialog sys-\\ntems. Computer Speech and Language , 21(1):393–422.\\nWittgenstein, L. 1953. Philosophical Investigations. (Trans-\\nlated by Anscombe, G.E.M.) . Blackwell.\\nWolf, M. J., K. W. Miller, and F. S. Grodzinsky. 2017. Why\\nwe should have seen that coming: Comments on Mi-\\ncrosoft’s Tay “experiment,” and wider implications. The\\nORBIT Journal , 1(2):1–12.\\nXu, J., D. Ju, M. Li, Y .-L. Boureau, J. Weston, and E. Dinan.\\n2020. Recipes for safety in open-domain chatbots. ArXiv\\npreprint arXiv:2010.07079.\\nYankelovich, N., G.-A. Levow, and M. Marx. 1995. Design-\\ning SpeechActs: Issues in speech user interfaces. CHI-95 .\\nYoung, S. J., M. Ga ˇsi´c, S. Keizer, F. Mairesse, J. Schatz-\\nmann, B. Thomson, and K. Yu. 2010. The Hidden Infor-\\nmation State model: A practical framework for POMDP-\\nbased spoken dialogue management. Computer Speech &\\nLanguage , 24(2):150–174.'),\n",
              " Document(metadata={'source': 'https://stanford.edu/~jurafsky/slp3/15.pdf', 'page': 3}, page_content='challenging because of noise and because people often pause in the middle of turns.\\nSpeech Acts\\nA key insight into conversation—due originally to the philosopher Wittgenstein\\n(1953) but worked out more fully by Austin (1962)—is that each utterance in a\\ndialogue is a kind of action being performed by the speaker. These actions are com-\\nmonly called speech acts ordialogue acts : here’s one taxonomy consisting of 4 speech acts\\nmajor classes (Bach and Harnish, 1979):\\nConstatives: committing the speaker to something’s being the case ( answering ,claiming ,\\nconﬁrming ,denying ,disagreeing ,stating )\\nDirectives: attempts by the speaker to get the addressee to do something ( advising ,ask-\\ning,forbidding ,inviting ,ordering ,requesting )\\nCommissives: committing the speaker to some future course of action ( promising, planning,\\nvowing, betting, opposing )\\nAcknowledgments: express the speaker’s attitude regarding the hearer with respect to some so-')]"
            ]
          },
          "execution_count": 32,
          "metadata": {},
          "output_type": "execute_result"
        }
      ],
      "source": [
        "retriever.get_relevant_documents(\"Speech acts in chatbots\")"
      ]
    },
    {
      "cell_type": "markdown",
      "metadata": {
        "id": "oq8slDe3PmDs"
      },
      "source": [
        "## One example for Computer Science"
      ]
    },
    {
      "cell_type": "code",
      "execution_count": null,
      "metadata": {
        "colab": {
          "base_uri": "https://localhost:8080/"
        },
        "execution": {
          "iopub.execute_input": "2024-07-08T12:02:39.038012Z",
          "iopub.status.busy": "2024-07-08T12:02:39.037614Z",
          "iopub.status.idle": "2024-07-08T12:02:47.093962Z",
          "shell.execute_reply": "2024-07-08T12:02:47.093018Z",
          "shell.execute_reply.started": "2024-07-08T12:02:39.037982Z"
        },
        "id": "j6dJ0TQRPmDv",
        "outputId": "54e5e6e1-77bf-4aff-eaa7-4713987b338b",
        "trusted": true
      },
      "outputs": [
        {
          "data": {
            "text/plain": [
              "[Document(metadata={'source': 'https://stanford.edu/~jurafsky/slp3/18.pdf', 'page': 17}, page_content='18 CHAPTER 18 • D EPENDENCY PARSING\\nfunction MAXSPANNING TREE(G=(V ,E) ,root,score )returns spanning tree\\nF←[]\\nT’←[]\\nscore’←[]\\nfor each v∈Vdo\\nbestInEdge←argmaxe=(u,v)∈Escore[e]\\nF←F∪bestInEdge\\nfor each e=(u,v)∈Edo\\nscore’[e]←score[e]−score[bestInEdge]\\nifT=(V ,F) is a spanning tree then return it\\nelse\\nC←a cycle in F\\nG’←CONTRACT (G,C)\\nT’←MAXSPANNING TREE(G’,root,score’ )\\nT←EXPAND (T’,C)\\nreturn T\\nfunction CONTRACT (G,C)returns contracted graph\\nfunction EXPAND (T,C)returns expanded graph\\nFigure 18.12 The Chu-Liu Edmonds algorithm for ﬁnding a maximum spanning tree in a\\nweighted directed graph.\\nOn arbitrary directed graphs, this version of the CLE algorithm runs in O(mn)\\ntime, where mis the number of edges and nis the number of nodes. Since this par-\\nticular application of the algorithm begins by constructing a fully connected graph\\nm=n2yielding a running time of O(n3). Gabow et al. (1986) present a more efﬁ-\\ncient implementation with a running time of O(m+nlogn ).'),\n",
              " Document(metadata={'source': 'https://stanford.edu/~jurafsky/slp3/18.pdf', 'page': 14}, page_content='the search space as directed graphs and employ methods drawn from graph theory\\nto search the space for optimal solutions. More formally, given a sentence Swe’re\\nlooking for the best dependency tree in Gs, the space of all possible trees for that\\nsentence, that maximizes some score.\\nˆT(S) =argmax\\nt∈GSScore (t,S)'),\n",
              " Document(metadata={'source': 'https://stanford.edu/~jurafsky/slp3/15.pdf', 'page': 15}, page_content='16 CHAPTER 15 • C HATBOTS & D IALOGUE SYSTEMS\\n15.4.3 Learning to perform retrieval as part of responding\\nModern chatbots are also trained to do retrieval (calls to Google or Bing or other\\nsearch engines) as a component of generating a response. This is generally done\\nby having a sort of fake dialogue participant called something like Search Query\\nwhose utterances are passed to a search engine. The system can be encourged to do\\nsearches either by prompting or by ﬁne-tuning.\\nFor example in the Sparrow chatbot (Glaese et al., 2022), the prompt includes\\na few sample conversations that include two special users, Search Query , and\\nSearch Results :\\n...[this is preceded by other parts of the prompt]\\nUser: What color is the sky?\\nSparrow: Blue.\\nUser: Why?\\nSearch Query: why is sky blue\\nSearch Results: Page title: Sky Except for direct sunlight, most of the light in\\nthe daytime sky is caused by scattering, which is dominated by\\na small-particle limit called Rayleigh scattering. The scattering'),\n",
              " Document(metadata={'source': 'https://stanford.edu/~jurafsky/slp3/15.pdf', 'page': 15}, page_content='due to molecule-sized particles (as in air) is greater in the di-\\nrections both toward and away from the source of light than it\\nis in directions perpendicular to the incident path. Scattering is\\nsigniﬁcant for light at all visible wavelengths, but is stronger at\\nthe shorter (bluer) end of the visible spectrum, meaning that the\\nscattered light is bluer than its source: the Sun. The remain-\\ning direct sunlight, having lost some of its shorter-wavelength\\ncomponents, appears slightly less blue.\\nSparrow: Because of the Rayleigh scattering. It causes short waves of\\nblue light to be scattered more than the other colours in the spec-\\ntrum.\\nUser: Who was Raleigh?\\nSearch Query: who was Rayleigh\\n... ...\\nFrom these prompts, the system learns to generate texts with Search Query\\nturns for fact-based questions from the user, and these are passed to a search engine\\nto generate the Search Results turns.\\nAlternatively, systems can be ﬁnetuned to to know when to use a search en-')]"
            ]
          },
          "execution_count": 70,
          "metadata": {},
          "output_type": "execute_result"
        }
      ],
      "source": [
        "retriever.get_relevant_documents(\"Binary Search Tree(BST)\")"
      ]
    },
    {
      "cell_type": "markdown",
      "metadata": {
        "id": "ZBs0EoKT8Vah"
      },
      "source": [
        "## One example out of context"
      ]
    },
    {
      "cell_type": "code",
      "execution_count": null,
      "metadata": {
        "colab": {
          "base_uri": "https://localhost:8080/"
        },
        "execution": {
          "iopub.execute_input": "2024-07-08T12:02:52.325532Z",
          "iopub.status.busy": "2024-07-08T12:02:52.324695Z",
          "iopub.status.idle": "2024-07-08T12:03:00.304083Z",
          "shell.execute_reply": "2024-07-08T12:03:00.303312Z",
          "shell.execute_reply.started": "2024-07-08T12:02:52.325496Z"
        },
        "id": "hrqBj5XgPmDv",
        "outputId": "b02f59b8-bb0d-4ad0-efc0-c0559fc7729d",
        "trusted": true
      },
      "outputs": [
        {
          "data": {
            "text/plain": [
              "[Document(metadata={'source': 'https://stanford.edu/~jurafsky/slp3/3.pdf', 'page': 18}, page_content='COCA is a balanced corpus, meaning that it has roughly equal numbers of words\\nfrom different genres: web, newspapers, spoken conversation transcripts, ﬁction,\\nand so on, drawn from the period 1990-2019, and has the context of each n-gram as\\nwell as labels for genre and provenance.\\nSome example 4-grams from the Google Web corpus:\\n4-gram Count\\nserve as the incoming 92\\nserve as the incubator 99\\nserve as the independent 794\\nserve as the index 223\\nserve as the indication 72\\nserve as the indicator 120\\nserve as the indicators 45\\nEfﬁciency considerations are important when building language models that use\\nsuch large sets of n-grams. Rather than store each word as a string, it is generally\\nrepresented in memory as a 64-bit hash number, with the words themselves stored\\non disk. Probabilities are generally quantized using only 4-8 bits (instead of 8-byte\\nﬂoats), and n-grams are stored in reverse tries.\\nAn n-gram language model can also be shrunk by pruning, for example only'),\n",
              " Document(metadata={'source': 'https://stanford.edu/~jurafsky/slp3/13.pdf', 'page': 16}, page_content='in the training data that happens to have more resources. Perhaps we don’t know\\nthe meaning of a word in Galician, but the word appears in the similar and higher-\\nresourced language Spanish.\\n13.5.3 Sociotechnical issues\\nMany issues in dealing with low-resource languages go beyond the purely techni-\\ncal. One problem is that for low-resource languages, especially from low-income'),\n",
              " Document(metadata={'source': 'https://stanford.edu/~jurafsky/slp3/10.pdf', 'page': 19}, page_content='Q: Who wrote the book ‘‘The Origin of Species\"? A:\\nIf we ask a language model to compute\\nP(w|Q: Who wrote the book “The Origin of Species”? A: )\\nand look at which words whave high probabilities, we might expect to see that\\nCharles is very likely, and then if we choose Charles and continue and ask\\nP(w|Q: Who wrote the book “The Origin of Species”? A: Charles )\\nwe might now see that Darwin is the most probable word, and select it.\\nConditional generation can even be used to accomplish tasks that must generate\\nlonger responses. Consider the task of text summarization , which is to take a longtext\\nsummarization\\ntext, such as a full-length article, and produce an effective shorter summary of it.\\nWe can cast summarization as language modeling by giving a large language model\\na text, and follow the text by a token like tl;dr ; this token is short for something\\nlike ‘too long; don’t read’ and in recent years people often use this token, especially'),\n",
              " Document(metadata={'source': 'https://stanford.edu/~jurafsky/slp3/22.pdf', 'page': 6}, page_content='marked as mentions in coreference tasks; in our example the NPs $2.3 million and\\nthe company’s president , are attributive, describing properties of her pay andthe\\n38-year-old ; Example (22.27) shows a Chinese example in which the predicate NP\\n(中国最大的城市; China’s biggest city ) is not a mention.\\n(22.25) her pay jumped to $2.3 million\\n(22.26) the 38-year-old became the company’s president\\n(22.27)上海是[中国最大的城市] [Shanghai is China’s biggest city ]\\nExpletives: Many uses of pronouns like itin English and corresponding pronouns\\nin other languages are not referential. Such expletive orpleonastic cases include expletive\\nit is raining , in idioms like hit it off , or in particular syntactic situations like clefts clefts\\n(22.28a) or extraposition (22.28b):\\n(22.28) a. Itwas Emma Goldman who founded Mother Earth\\nb.Itsurprised me that there was a herring hanging on her wall.\\nGenerics: Another kind of expression that does not refer back to an entity explic-\\nitly evoked in the text is generic reference. Consider (22.29).')]"
            ]
          },
          "execution_count": 34,
          "metadata": {},
          "output_type": "execute_result"
        }
      ],
      "source": [
        "retriever.get_relevant_documents(\"Who is the president of Bolivia country?\")"
      ]
    },
    {
      "cell_type": "markdown",
      "metadata": {
        "id": "zlgCW7IfPmDw"
      },
      "source": [
        "# Chain implementing"
      ]
    },
    {
      "cell_type": "code",
      "execution_count": null,
      "metadata": {
        "execution": {
          "iopub.execute_input": "2024-07-08T12:03:02.339832Z",
          "iopub.status.busy": "2024-07-08T12:03:02.339194Z",
          "iopub.status.idle": "2024-07-08T12:03:02.368492Z",
          "shell.execute_reply": "2024-07-08T12:03:02.367572Z",
          "shell.execute_reply.started": "2024-07-08T12:03:02.339798Z"
        },
        "id": "KzL48MvuPmDw",
        "trusted": true
      },
      "outputs": [],
      "source": [
        "llm = ChatTogether(\n",
        "    model=\"meta-llama/Llama-3-70b-chat-hf\",\n",
        "    temperature= 0\n",
        "    )"
      ]
    },
    {
      "cell_type": "code",
      "execution_count": null,
      "metadata": {
        "execution": {
          "iopub.execute_input": "2024-07-08T12:03:05.167157Z",
          "iopub.status.busy": "2024-07-08T12:03:05.166557Z",
          "iopub.status.idle": "2024-07-08T12:03:05.171677Z",
          "shell.execute_reply": "2024-07-08T12:03:05.170661Z",
          "shell.execute_reply.started": "2024-07-08T12:03:05.167125Z"
        },
        "id": "ZPe-zljnPmDw",
        "trusted": true
      },
      "outputs": [],
      "source": [
        "router_prompt_template = (\n",
        "    \"You are an expert in routing user queries to either a VectorStore, SearchEngine, or a Fallback Message.\\n\"\n",
        "    \"Your VectorStore contains data specifically about natural language processing (NLP). If the given query is about NLP or contains data related to NLP, choose VectorStore.\\n\"\n",
        "    \"If the query is not about NLP but is related to computer science or contains data about computer science, choose SearchEngine.\\n\"\n",
        "    \"If the query does not contain any data about NLP or computer science, do not choose any tool and return the string None.\\n\"\n",
        "    \"Give me only and only the name of the tool you chose and nothing more. If there are no chosen tools, give me back the string None.\\n\"\n",
        "    \"{output_instructions}\\n\"\n",
        "    \"query: {query}\"\n",
        ")"
      ]
    },
    {
      "cell_type": "code",
      "execution_count": null,
      "metadata": {
        "execution": {
          "iopub.execute_input": "2024-07-08T12:03:07.419390Z",
          "iopub.status.busy": "2024-07-08T12:03:07.418949Z",
          "iopub.status.idle": "2024-07-08T12:03:07.424617Z",
          "shell.execute_reply": "2024-07-08T12:03:07.423335Z",
          "shell.execute_reply.started": "2024-07-08T12:03:07.419354Z"
        },
        "id": "VwUOZz-MPmDw",
        "trusted": true
      },
      "outputs": [],
      "source": [
        "prompt = ChatPromptTemplate.from_template(\n",
        "    template=router_prompt_template,\n",
        ")"
      ]
    },
    {
      "cell_type": "code",
      "execution_count": null,
      "metadata": {
        "colab": {
          "base_uri": "https://localhost:8080/",
          "height": 87
        },
        "execution": {
          "iopub.execute_input": "2024-07-08T12:03:07.659293Z",
          "iopub.status.busy": "2024-07-08T12:03:07.658581Z",
          "iopub.status.idle": "2024-07-08T12:03:07.667360Z",
          "shell.execute_reply": "2024-07-08T12:03:07.666402Z",
          "shell.execute_reply.started": "2024-07-08T12:03:07.659241Z"
        },
        "id": "QmsvvXowPmDw",
        "outputId": "92999955-484b-4883-c8d9-d3871105a857",
        "trusted": true
      },
      "outputs": [
        {
          "data": {
            "application/vnd.google.colaboratory.intrinsic+json": {
              "type": "string"
            },
            "text/plain": [
              "'The output should be formatted as a JSON instance that conforms to the JSON schema below.\\n\\nAs an example, for the schema {\"properties\": {\"foo\": {\"title\": \"Foo\", \"description\": \"a list of strings\", \"type\": \"array\", \"items\": {\"type\": \"string\"}}}, \"required\": [\"foo\"]}\\nthe object {\"foo\": [\"bar\", \"baz\"]} is a well-formatted instance of the schema. The object {\"properties\": {\"foo\": [\"bar\", \"baz\"]}} is not well-formatted.\\n\\nHere is the output schema:\\n```\\n{\"properties\": {\"tool_name\": {\"title\": \"Tool Name\", \"description\": \"the tool that was chosen by LLM in question routing stage\", \"enum\": [\"None\", \"VectorStore\", \"SearchEngine\"], \"type\": \"string\"}}, \"required\": [\"tool_name\"]}\\n```'"
            ]
          },
          "execution_count": 38,
          "metadata": {},
          "output_type": "execute_result"
        }
      ],
      "source": [
        "from typing import Literal\n",
        "class ChosenTool(BaseModel):\n",
        "    tool_name: Literal['None', \"VectorStore\", \"SearchEngine\"] = Field(description=\"the tool that was chosen by LLM in question routing stage\")\n",
        "question_router_parser = PydanticOutputParser(pydantic_object=ChosenTool)\n",
        "question_router_parser.get_format_instructions()"
      ]
    },
    {
      "cell_type": "code",
      "execution_count": null,
      "metadata": {
        "colab": {
          "base_uri": "https://localhost:8080/"
        },
        "execution": {
          "iopub.execute_input": "2024-07-08T12:03:08.275400Z",
          "iopub.status.busy": "2024-07-08T12:03:08.275032Z",
          "iopub.status.idle": "2024-07-08T12:03:09.393472Z",
          "shell.execute_reply": "2024-07-08T12:03:09.392607Z",
          "shell.execute_reply.started": "2024-07-08T12:03:08.275369Z"
        },
        "id": "SyQdxLH7PmDw",
        "outputId": "eb25392d-afe9-46e1-d653-e6b5e40b7a4a",
        "trusted": true
      },
      "outputs": [
        {
          "data": {
            "text/plain": [
              "ChosenTool(tool_name='None')"
            ]
          },
          "execution_count": 39,
          "metadata": {},
          "output_type": "execute_result"
        }
      ],
      "source": [
        "question_router = prompt | llm | question_router_parser\n",
        "res = question_router.invoke({\"query\": \"My name is Pouya. who are you?\",\n",
        "                                   \"output_instructions\": question_router_parser.get_format_instructions()\n",
        " })\n",
        "res"
      ]
    },
    {
      "cell_type": "code",
      "execution_count": null,
      "metadata": {
        "colab": {
          "base_uri": "https://localhost:8080/"
        },
        "execution": {
          "iopub.execute_input": "2024-07-08T12:03:11.003759Z",
          "iopub.status.busy": "2024-07-08T12:03:11.002950Z",
          "iopub.status.idle": "2024-07-08T12:03:11.415297Z",
          "shell.execute_reply": "2024-07-08T12:03:11.414433Z",
          "shell.execute_reply.started": "2024-07-08T12:03:11.003724Z"
        },
        "id": "jZRA1VJ6PmDw",
        "outputId": "77268b0a-6bc7-40c9-b7b0-0c8b2fcbfa9a",
        "trusted": true
      },
      "outputs": [
        {
          "data": {
            "text/plain": [
              "ChosenTool(tool_name='VectorStore')"
            ]
          },
          "execution_count": 40,
          "metadata": {},
          "output_type": "execute_result"
        }
      ],
      "source": [
        "res = question_router.invoke({\"query\": \"What is dependecy parsing?\",\n",
        "                                   \"output_instructions\": question_router_parser.get_format_instructions()\n",
        " })\n",
        "res"
      ]
    },
    {
      "cell_type": "code",
      "execution_count": null,
      "metadata": {
        "colab": {
          "base_uri": "https://localhost:8080/"
        },
        "execution": {
          "iopub.execute_input": "2024-07-08T12:03:11.417196Z",
          "iopub.status.busy": "2024-07-08T12:03:11.416926Z",
          "iopub.status.idle": "2024-07-08T12:03:12.591518Z",
          "shell.execute_reply": "2024-07-08T12:03:12.590531Z",
          "shell.execute_reply.started": "2024-07-08T12:03:11.417171Z"
        },
        "id": "DPmK6wzSPmDw",
        "outputId": "fb99a18e-6f35-4af3-f2e1-90e9fec04e06",
        "trusted": true
      },
      "outputs": [
        {
          "data": {
            "text/plain": [
              "ChosenTool(tool_name='SearchEngine')"
            ]
          },
          "execution_count": 41,
          "metadata": {},
          "output_type": "execute_result"
        }
      ],
      "source": [
        "res = question_router.invoke({\"query\": \"What is Binary Search Tree?\",\n",
        "                                   \"output_instructions\": question_router_parser.get_format_instructions()\n",
        " })\n",
        "res"
      ]
    },
    {
      "cell_type": "markdown",
      "metadata": {
        "id": "33ToQMEzPmDx"
      },
      "source": [
        "## Search Engine Chain"
      ]
    },
    {
      "cell_type": "code",
      "execution_count": null,
      "metadata": {
        "execution": {
          "iopub.execute_input": "2024-07-08T16:11:02.203031Z",
          "iopub.status.busy": "2024-07-08T16:11:02.202681Z",
          "iopub.status.idle": "2024-07-08T16:11:02.207547Z",
          "shell.execute_reply": "2024-07-08T16:11:02.206459Z",
          "shell.execute_reply.started": "2024-07-08T16:11:02.203004Z"
        },
        "id": "_GZv9wDiPmDx",
        "trusted": true
      },
      "outputs": [],
      "source": [
        "tool = TavilySearchResults(max_results=5)"
      ]
    },
    {
      "cell_type": "code",
      "execution_count": null,
      "metadata": {
        "colab": {
          "base_uri": "https://localhost:8080/"
        },
        "execution": {
          "iopub.execute_input": "2024-07-08T16:32:37.904371Z",
          "iopub.status.busy": "2024-07-08T16:32:37.903988Z",
          "iopub.status.idle": "2024-07-08T16:32:40.550979Z",
          "shell.execute_reply": "2024-07-08T16:32:40.550129Z",
          "shell.execute_reply.started": "2024-07-08T16:32:37.904340Z"
        },
        "id": "RLcIgHvpPmDx",
        "outputId": "bf888a41-e039-4e89-81cb-473835ab0501",
        "trusted": true
      },
      "outputs": [
        {
          "data": {
            "text/plain": [
              "[{'url': 'https://www.forbes.com/sites/janakirammsv/2024/07/06/qdrant-introduces-bm42-hybrid-search-for-enhanced-rag/',\n",
              "  'content': 'By embedding BM42 across its open source, cloud, and hybrid offerings, Qdrant positions itself as a versatile, efficient and forward-thinking option in the vector search market, particularly for organizations looking to implement or improve their RAG and AI applications.  BM42 combines the precision of traditional keyword search with the intelligence of AI-powered vector search, akin to a super-smart librarian who understands both the exact location and deeper context of your request.  Qdrant claims that BM42 provides an efficient and cost-effective solution compared to existing hybrid search approaches, with the ability to compute Inverse Document Frequency in real-time, allowing for dynamic updates without pre-computation of statistics.  More From Forbes Qdrant Introduces BM42: Hybrid Search For Enhanced RAG Blueprint Qdrant, a leading provider of vector database solutions, has recently unveiled an innovative search technology called BM42. This new approach promises to revolutionize information retrieval, especially in AI applications that rely on retrieving data as a part of retrieval-augmented generation pipelines that provide context to the language models. '},\n",
              " {'url': 'https://wgrv.com/2024/01/01/urban-and-community-forestry-assistance-grants-available/',\n",
              "  'content': 'And Ober Mountain Form Apprentice Training Partnership U.S. Population Estimated Over 8M On New Years Day One Person Charged with Aggravated Assault The 34th Annual Andrew Johnson Bank Ladies’ Classic Saturday Warrant Arrests WGRV Sports The 34th Annual Andrew Johnson Bank Ladies’ Classic Final Day Of Andrew Johnson Bank Ladies’ Classic Day Four of Andrew Johnson Bank Ladies’ Classic Ladies’ Classic Day Three Schedule and Scores Andrew Johnson Bank Ladies’ Classic Day Two Andrew Johnson Bank Ladies’ Classic Kicks off Today Five Pioneer Football Players Earn Academic Award Rebels Win Big H BBQ Christmas Bash WGRV Calendar RECOMMENDED NEWS Back to School Immunizations One Arrested After Complainant Calls In Reckless Driving Budget And Finance Committee Approve Donation To Sheriff’s Department, Sheriff Wesley Holt Shares Update On Civil Service Exam Greeneville Man Flees Greene County Sheriff’s, Almost Crashes Into Another Sheriff Vehicle Change In Public Record Policy For The Town Of Greeneville Will Include $100 Fee For Camera Footage Greeneville Board of Mayor and Aldermen Approve Rezoning And Table Pay Plan Update Since 1997, your first source for on-line news for Greene County, Tennessee.  The Tennessee Department of Agriculture Division of Forestry is providing funding through the Urban and Community Forestry Inflation Reduction Act Grant Program to promote the creation, enhancement, and protection of urban and community forest ecosystems in disadvantaged communities.  “Trees, forests, and greenspaces provide a multitude of health, economic, and environmental benefits such as protecting our creeks and streams, providing wildlife habitat, removing pollution from air, providing buffers from sound and wind, improving mental and physical health, and increasing property values.” '},\n",
              " {'url': 'https://www.aol.com/trees-inc-giving-another-10k-231900578.html',\n",
              "  'content': 'Advertisement Advertisement Advertisement Advertisement Advertisement Advertisement Advertisement Advertisement Advertisement Advertisement TREES Inc. giving another $10K to Terre Haute Apr. 19—As part of its 1,000 Trees for Terre Haute Storm Response Plan, TREES Inc. is giving the city of Terre Haute $10,000 to plant 100 trees.  Members of the group were inspired to begin the 1,000 Trees initiative after heavy storms in late June and early July of last year toppled or damaged many area trees.  \" The group will present Terre Haute Mayor Brandon Sakbun the $10,000 check Monday at 11:15 a.m. at Spencer Ball Park on 8th Avenue. The previous gift went to plant 100 trees on S. 11th Street and S. 16th Street. '},\n",
              " {'url': 'https://www.bozemandailychronicle.com/news/environment/scientists-mark-recovery-milestone-in-sequencing-whitebark-pine-genome/article_f996c1bc-a0e2-11ee-812e-d33e6ab57018.html',\n",
              "  'content': 'Log In Invalid password or account does not exist Sign in with Reset Password Submitting this form below will send a message to your email with a link to change your password.  Scientists mark recovery milestone in sequencing whitebark pine genome Let the news come to you Get any of our free daily email newsletters — news headlines, opinion, e-edition, obituaries and more.  Instead of growing out seeds to see if the tree has blister rust resistance, scientists could take needle tissue from trees and then test the sample to see if it has the resistant genes.  We recommend switching to one of the following browsers: Get up-to-the-minute news sent straight to your device.  “Sequencing the whitebark pine reference genome is an important scientific contribution,” project lead David Neale, professor emeritus in the Department of Plant Sciences at the University of California, Davis, said in a press release.'},\n",
              " {'url': 'https://www.chicagotribune.com/news/environment/ct-our-roots-chicago-tree-plantings-20231225-cefp4afjk5b4jpacyrjlbbzvsa-story.html',\n",
              "  'content': 'Finding ‘ideal’ spots For volunteers from the 12 organizations in the tree ambassador program, run by the Chicago Department of Public Health and the Morton Arboretum’s Chicago Region Trees Initiative, reaching these communities is the main goal, said Trinity Pierce, a stewardship manager for the tree initiative.  “It’s one thing to plant the trees and it’s another to make sure that the trees are well maintained, and it seems that the city is not yet equipped to fully maintain all of the trees,” Itaagi said.  But a Tribune investigation found the city has planted more trees in wealthier, whiter areas\\xa0] Even though trees are resilient — some even grow out of cracks in the sidewalk — Pierce said tree ambassadors look for “ideal locations,” meaning there’s enough space for the roots. “Having access to the CHI 311 app and then being able to put these tree requests at the top of the priority list is such a benefit and really has drawn more people to be involved in the program throughout our community,” she said. The city’s half million street trees, those often found on the strip of grass between the street and sidewalk, make up a part of the overall canopy coverage, along with trees in parks and yards. '}]"
            ]
          },
          "execution_count": 43,
          "metadata": {},
          "output_type": "execute_result"
        }
      ],
      "source": [
        "tool.invoke({\"query\": \"what is Binary Search Tree\"})"
      ]
    },
    {
      "cell_type": "code",
      "execution_count": null,
      "metadata": {
        "execution": {
          "iopub.execute_input": "2024-07-08T16:19:29.741157Z",
          "iopub.status.busy": "2024-07-08T16:19:29.740481Z",
          "iopub.status.idle": "2024-07-08T16:19:29.746428Z",
          "shell.execute_reply": "2024-07-08T16:19:29.745453Z",
          "shell.execute_reply.started": "2024-07-08T16:19:29.741123Z"
        },
        "id": "Iz01L85xPmDx",
        "trusted": true
      },
      "outputs": [],
      "source": [
        "def document_parsing(tavily_outputs:List[Dict[str, str]]) -> List[Document]:\n",
        "    documents = []\n",
        "    for iterate in tavily_outputs:\n",
        "        for tavily_output in iterate:\n",
        "            document = Document(\n",
        "                page_content = tavily_output['content'],\n",
        "                metadata={'url': tavily_output['url']}\n",
        "            )\n",
        "            documents.append(document)\n",
        "    yield documents"
      ]
    },
    {
      "cell_type": "code",
      "execution_count": null,
      "metadata": {
        "execution": {
          "iopub.execute_input": "2024-07-08T16:19:29.836066Z",
          "iopub.status.busy": "2024-07-08T16:19:29.835612Z",
          "iopub.status.idle": "2024-07-08T16:19:29.839991Z",
          "shell.execute_reply": "2024-07-08T16:19:29.839056Z",
          "shell.execute_reply.started": "2024-07-08T16:19:29.836041Z"
        },
        "id": "NZy1NYnhPmDx",
        "trusted": true
      },
      "outputs": [],
      "source": [
        "document_parsing = RunnableGenerator(document_parsing)"
      ]
    },
    {
      "cell_type": "code",
      "execution_count": null,
      "metadata": {
        "execution": {
          "iopub.execute_input": "2024-07-08T16:19:30.782220Z",
          "iopub.status.busy": "2024-07-08T16:19:30.781789Z",
          "iopub.status.idle": "2024-07-08T16:19:32.067202Z",
          "shell.execute_reply": "2024-07-08T16:19:32.066289Z",
          "shell.execute_reply.started": "2024-07-08T16:19:30.782186Z"
        },
        "id": "B4Q4YnFuPmDy",
        "trusted": true
      },
      "outputs": [],
      "source": [
        "search_engine_chain = tool | document_parsing\n",
        "res = search_engine_chain.invoke({\"query\": \"what is a Tree in computer science?\"})"
      ]
    },
    {
      "cell_type": "code",
      "execution_count": null,
      "metadata": {
        "colab": {
          "base_uri": "https://localhost:8080/"
        },
        "execution": {
          "iopub.execute_input": "2024-07-08T16:19:33.590415Z",
          "iopub.status.busy": "2024-07-08T16:19:33.589681Z",
          "iopub.status.idle": "2024-07-08T16:19:33.597204Z",
          "shell.execute_reply": "2024-07-08T16:19:33.596136Z",
          "shell.execute_reply.started": "2024-07-08T16:19:33.590379Z"
        },
        "id": "yfJsPkZzPmDy",
        "outputId": "a28a2b49-eb85-433f-c082-aa2d2afecd81",
        "trusted": true
      },
      "outputs": [
        {
          "data": {
            "text/plain": [
              "[Document(metadata={'url': 'https://www.npr.org/2024/07/05/g-s1-7145/how-40-different-fruits-grow-from-one-single-tree'}, page_content='The secret language of trees Related TED Playlist: TED Talks to inspire you to make art Related NPR Links How Art and Science Intersect How Hollywood art directors are working to keep their sets out of the landfill An Iranian artist on life in exile Sponsor Message Become an NPR sponsor How 40 different fruits grow from one single tree By Manoush Zomorodi , Chloee Weiner , Sanaz Meshkinpour Part 4 of\\xa0TED Radio Hour\\xa0episode About Sam Van Aken Sam Van Aken is a contemporary artist whose work concentrates on themes like communication, botany, agriculture, climatology and the impact of technology.  Van Aken lives and works in Syracuse, New York, where he is currently an associate professor in the School of Art at Syracuse University.  Artist Sam Van Aken cultivated the \"Tree of 40 Fruits\" to symbolize the biodiversity needed to feed our planet. '),\n",
              " Document(metadata={'url': 'https://www.chicagotribune.com/2024/04/14/how-should-i-plant-my-bare-root-tree/'}, page_content='The graft union is a swollen area near the base of the trunk and will be a few inches above the soil line when the tree is planted with the crown at the proper depth.  Share this: Sign up for email newsletters eNewspaper Trending: Things To Do Home and Garden Home and Garden | How should I plant my bare root tree?  For trees and shrubs with a very fibrous and dense root system, you might consider leaving a cone of soil in the center of the hole to spread the roots over for support as you backfill. If possible, dig a hole that is two to three times the diameter of the root spread — smaller is OK if the hole is wider than the root system. You can elevate the crowns 2 to 3 inches in gardens with heavy clay soil and add topsoil to mound the soil up to the crowns.'),\n",
              " Document(metadata={'url': 'https://www.pcgamer.com/games/rpg/elden-rings-lovable-living-pots-are-pure-body-horror-in-shadow-of-the-erdtree/'}, page_content=\"Genshin Impact Clorinde build—The best artifacts and weapons Genshin Impact Sethos build—The best artifacts and weapons This Intel and ASRock collaboration says screw it, put the whole PC in an immersion tank and call it a day PC Gamer is part of Future US Inc, an international media group and leading digital publisher. Shadow of the Erdtree is PCG's next cover Miyazaki explains why Erdtree had to be such a big expansion Getting punchy with Erdtree's new weapons Erdtree's new leveling system explained  The living parts of them—the things inside the pot, not the pot itself—are unspeakable shapeshifting hunks of gore that have learned to commandeer pots towards their own freakish ends. The biggest gaming news, reviews and hardware deals Keep up to date with the most important stories and the best deals, as picked by the PC Gamer team.  If you were hoping the Warrior Jar's words during that encounter were shrouded in poetic allusion, open to interpretation, and certainly not to be taken literally, then I hate to be the bearer of bad news.\"),\n",
              " Document(metadata={'url': 'https://www.kpcnews.com/outdoors/article_80e480e2-4cfb-5ddd-9215-ea2a925836f6.html'}, page_content='Two to three inches of mulch can be added around the tree to help reduce water loss in the root zone, suppress weeds and provide a visual cue to mowers to keep the mower deck away from the trunk, but no mulch should be in direct contact with the trunk, says Purdue Extension. Maybe you will explore the little flower, attempting to identify it on PlantNet or another app, taking down the number of petals, the color, the smell, the type of earth it grows in, the flora nearby.  The cambium layer just inside the bark is the part of tree responsible for the growth of new bark and new wood, the growth center of the tree.  The News Sun The Star The Herald Republican Special Sections Sorry, there are no recent results for popular videos.  The 34th annual Adopt-A-Tree Festival will be held on Saturday, April 27, 11 a.m. to 1 p.m. at the Selman Timber Frame Pavilion in Angola, hosted by the Angola Tree Board.'),\n",
              " Document(metadata={'url': 'https://www.lancasterfarming.com/country-life/family/how-to-choose-the-perfect-sapling-for-the-yard/article_f5518223-d901-567b-a9d3-a162b007cf42.html'}, page_content='We wanted to stick with a deciduous tree instead of an evergreen and — it almost goes without saying — we weren’t in the market for any tree that produced and dropped fruit, nuts or burrs.  However, since we were hoping for a speedy return to a shady backyard, we knew we needed a tree that was already off to a good start.  “A tree that looks at God all day, And lifts her leafy arms to pray; A tree that may in summer wear, A nest of robins in her hair; Upon whose bosom snow has lain; Who intimately lives with rain.”  We had to lose a well-established tree in our backyard this fall when we drilled a new well and the rig couldn’t get into our lawn unless the tree was gone. And since fall is the optimum time of year for tree planting, we knew we needed to put a priority on finding a new tree as soon as possible. ')]"
            ]
          },
          "execution_count": 47,
          "metadata": {},
          "output_type": "execute_result"
        }
      ],
      "source": [
        "res"
      ]
    },
    {
      "cell_type": "markdown",
      "metadata": {
        "id": "nDH_EW8hPmDy"
      },
      "source": [
        "## Relevancy Check Chain"
      ]
    },
    {
      "cell_type": "code",
      "execution_count": null,
      "metadata": {
        "execution": {
          "iopub.execute_input": "2024-07-08T16:19:38.366470Z",
          "iopub.status.busy": "2024-07-08T16:19:38.365508Z",
          "iopub.status.idle": "2024-07-08T16:19:38.370639Z",
          "shell.execute_reply": "2024-07-08T16:19:38.369796Z",
          "shell.execute_reply.started": "2024-07-08T16:19:38.366432Z"
        },
        "id": "kjG3C0PuPmDy",
        "trusted": true
      },
      "outputs": [],
      "source": [
        "relevancy_prompt_template = (\n",
        "    \"You are an expert in determining the relevancy of documents to a given query. \"\n",
        "    \"Given a query and a list of documents, respond with a list where each element corresponds to the relevancy of each document based on the given query. \"\n",
        "    \"If a document is relevant to the query, respond with the word 'relevant'. \"\n",
        "    \"If a document is not relevant, respond with the word 'irrelevant'. \"\n",
        "    \"Provide the responses as a list of words containing only either 'relevant' or 'irrelevant', in the same order as the provided documents list.\\n\"\n",
        "    \"{output_instructions}\\n\"\n",
        "    \"Query: {query}\\n\"\n",
        "    \"Documents: {documents}\"\n",
        ")"
      ]
    },
    {
      "cell_type": "code",
      "execution_count": null,
      "metadata": {
        "execution": {
          "iopub.execute_input": "2024-07-08T16:19:38.404127Z",
          "iopub.status.busy": "2024-07-08T16:19:38.403866Z",
          "iopub.status.idle": "2024-07-08T16:19:38.408372Z",
          "shell.execute_reply": "2024-07-08T16:19:38.407533Z",
          "shell.execute_reply.started": "2024-07-08T16:19:38.404103Z"
        },
        "id": "x9lzsyJRPmDy",
        "trusted": true
      },
      "outputs": [],
      "source": [
        "relevancy_prompt = ChatPromptTemplate.from_template(\n",
        "    template=relevancy_prompt_template,\n",
        ")"
      ]
    },
    {
      "cell_type": "code",
      "execution_count": null,
      "metadata": {
        "colab": {
          "base_uri": "https://localhost:8080/"
        },
        "execution": {
          "iopub.execute_input": "2024-07-08T16:19:38.584747Z",
          "iopub.status.busy": "2024-07-08T16:19:38.584486Z",
          "iopub.status.idle": "2024-07-08T16:19:38.591015Z",
          "shell.execute_reply": "2024-07-08T16:19:38.590203Z",
          "shell.execute_reply.started": "2024-07-08T16:19:38.584724Z"
        },
        "id": "KVrfZkopPmDy",
        "outputId": "71213fff-5f8c-48ec-badf-a7352fbcb74b",
        "trusted": true
      },
      "outputs": [
        {
          "name": "stdout",
          "output_type": "stream",
          "text": [
            "The output should be formatted as a JSON instance that conforms to the JSON schema below.\n",
            "\n",
            "As an example, for the schema {\"properties\": {\"foo\": {\"title\": \"Foo\", \"description\": \"a list of strings\", \"type\": \"array\", \"items\": {\"type\": \"string\"}}}, \"required\": [\"foo\"]}\n",
            "the object {\"foo\": [\"bar\", \"baz\"]} is a well-formatted instance of the schema. The object {\"properties\": {\"foo\": [\"bar\", \"baz\"]}} is not well-formatted.\n",
            "\n",
            "Here is the output schema:\n",
            "```\n",
            "{\"properties\": {\"word\": {\"title\": \"Word\", \"description\": \"the words that was chosen by LLM in relevancy check stage\", \"type\": \"array\", \"items\": {\"enum\": [\"relevant\", \"irrelevant\"], \"type\": \"string\"}}}, \"required\": [\"word\"]}\n",
            "```\n"
          ]
        }
      ],
      "source": [
        "class ChosenWord(BaseModel):\n",
        "    word: List[Literal['relevant', 'irrelevant']] = Field(description=\"the words that was chosen by LLM in relevancy check stage\")\n",
        "\n",
        "relevancy_parser = PydanticOutputParser(pydantic_object=ChosenWord)\n",
        "print(relevancy_parser.get_format_instructions())"
      ]
    },
    {
      "cell_type": "code",
      "execution_count": null,
      "metadata": {
        "colab": {
          "base_uri": "https://localhost:8080/"
        },
        "execution": {
          "iopub.execute_input": "2024-07-08T16:20:17.147718Z",
          "iopub.status.busy": "2024-07-08T16:20:17.147363Z",
          "iopub.status.idle": "2024-07-08T16:20:18.999884Z",
          "shell.execute_reply": "2024-07-08T16:20:18.999005Z",
          "shell.execute_reply.started": "2024-07-08T16:20:17.147689Z"
        },
        "id": "bB_LQ6onPmDz",
        "outputId": "dc96cf21-d4c8-4e46-f271-a6439399a159",
        "trusted": true
      },
      "outputs": [
        {
          "data": {
            "text/plain": [
              "ChosenWord(word=['irrelevant', 'irrelevant', 'irrelevant', 'irrelevant', 'irrelevant'])"
            ]
          },
          "execution_count": 51,
          "metadata": {},
          "output_type": "execute_result"
        }
      ],
      "source": [
        "relevancy_check_chain = relevancy_prompt | llm | relevancy_parser\n",
        "docs = search_engine_chain.invoke({\"query\": \"what is a chat bot?\"})\n",
        "res = relevancy_check_chain.invoke({\n",
        "    \"query\": \"my name is pouya.\",\n",
        "    \"documents\": docs,\n",
        "    \"output_instructions\": relevancy_parser.get_format_instructions()\n",
        "})\n",
        "res"
      ]
    },
    {
      "cell_type": "code",
      "execution_count": null,
      "metadata": {
        "colab": {
          "base_uri": "https://localhost:8080/"
        },
        "execution": {
          "iopub.execute_input": "2024-07-08T16:20:40.434552Z",
          "iopub.status.busy": "2024-07-08T16:20:40.433818Z",
          "iopub.status.idle": "2024-07-08T16:20:41.174017Z",
          "shell.execute_reply": "2024-07-08T16:20:41.172967Z",
          "shell.execute_reply.started": "2024-07-08T16:20:40.434517Z"
        },
        "id": "-HAqIEjaPmDz",
        "outputId": "98f4fbfd-028e-473d-e751-20e810cf6a4b",
        "trusted": true
      },
      "outputs": [
        {
          "data": {
            "text/plain": [
              "ChosenWord(word=['relevant', 'relevant', 'relevant', 'relevant', 'relevant'])"
            ]
          },
          "execution_count": 52,
          "metadata": {},
          "output_type": "execute_result"
        }
      ],
      "source": [
        "res = relevancy_check_chain.invoke({\n",
        "    \"query\": \"what is a chat bot?\",\n",
        "    \"documents\": docs,\n",
        "    \"output_instructions\": relevancy_parser.get_format_instructions()\n",
        "})\n",
        "res"
      ]
    },
    {
      "cell_type": "code",
      "execution_count": null,
      "metadata": {
        "colab": {
          "base_uri": "https://localhost:8080/"
        },
        "execution": {
          "iopub.execute_input": "2024-07-08T16:20:44.420739Z",
          "iopub.status.busy": "2024-07-08T16:20:44.420132Z",
          "iopub.status.idle": "2024-07-08T16:20:44.425586Z",
          "shell.execute_reply": "2024-07-08T16:20:44.424674Z",
          "shell.execute_reply.started": "2024-07-08T16:20:44.420707Z"
        },
        "id": "8oR0e4swPmDz",
        "outputId": "603d6a98-6130-4e02-944e-e09642dd6003",
        "trusted": true
      },
      "outputs": [
        {
          "name": "stdout",
          "output_type": "stream",
          "text": [
            "<class '__main__.ChosenWord'>\n",
            "['relevant', 'relevant', 'relevant', 'relevant', 'relevant']\n"
          ]
        }
      ],
      "source": [
        "print(type(res))\n",
        "print(res.word)"
      ]
    },
    {
      "cell_type": "markdown",
      "metadata": {
        "id": "3Mc8NfxZPmD0"
      },
      "source": [
        "## Fallback Chain"
      ]
    },
    {
      "cell_type": "code",
      "execution_count": null,
      "metadata": {
        "execution": {
          "iopub.execute_input": "2024-07-08T16:20:47.877084Z",
          "iopub.status.busy": "2024-07-08T16:20:47.876757Z",
          "iopub.status.idle": "2024-07-08T16:20:47.882161Z",
          "shell.execute_reply": "2024-07-08T16:20:47.881255Z",
          "shell.execute_reply.started": "2024-07-08T16:20:47.877058Z"
        },
        "id": "U6xG8XFGPmD0",
        "trusted": true
      },
      "outputs": [],
      "source": [
        "fallback_prompt = ChatPromptTemplate.from_template(\n",
        "    (\n",
        "        \"You are an expert in Natural Language Processing and computer science created by the NLP Staff Course at the University of Tehran.\\n\"\n",
        "        \"Do not respond to queries that are not related to Natural Language Processing or computer science.\\n\"\n",
        "        \"If a query is not related to Natural Language Processing or computer science, acknowledge your limitations.\\n\"\n",
        "        \"Provide concise responses to only NLP or computer science-related queries.\\n\\n\"\n",
        "        \"Current conversation:\\n\\n{chat_history}\\n\\n\"\n",
        "        \"human: {query}\"\n",
        "    )\n",
        ")\n"
      ]
    },
    {
      "cell_type": "code",
      "execution_count": null,
      "metadata": {
        "execution": {
          "iopub.execute_input": "2024-07-08T16:20:48.004461Z",
          "iopub.status.busy": "2024-07-08T16:20:48.003824Z",
          "iopub.status.idle": "2024-07-08T16:20:48.029833Z",
          "shell.execute_reply": "2024-07-08T16:20:48.028961Z",
          "shell.execute_reply.started": "2024-07-08T16:20:48.004432Z"
        },
        "id": "jqJBnRl2PmD0",
        "trusted": true
      },
      "outputs": [],
      "source": [
        "fall_back_llm = ChatTogether(\n",
        "    model=\"meta-llama/Llama-3-70b-chat-hf\",\n",
        "    temperature= 0.2\n",
        "    )"
      ]
    },
    {
      "cell_type": "code",
      "execution_count": null,
      "metadata": {
        "execution": {
          "iopub.execute_input": "2024-07-08T16:20:48.143675Z",
          "iopub.status.busy": "2024-07-08T16:20:48.143015Z",
          "iopub.status.idle": "2024-07-08T16:20:48.148689Z",
          "shell.execute_reply": "2024-07-08T16:20:48.147830Z",
          "shell.execute_reply.started": "2024-07-08T16:20:48.143647Z"
        },
        "id": "9-DtDdy_PmD0",
        "trusted": true
      },
      "outputs": [],
      "source": [
        "fallback_chain = (\n",
        "    {\n",
        "        \"chat_history\": lambda x: \"\\n\".join(\n",
        "            [\n",
        "                (\n",
        "                    f\"human: {msg.content}\"\n",
        "                    if isinstance(msg, HumanMessage)\n",
        "                    else f\"AI: {msg.content}\"\n",
        "                )\n",
        "                for msg in x[\"chat_history\"]\n",
        "            ]\n",
        "        ),\n",
        "        \"query\": itemgetter(\"query\") ,\n",
        "    }\n",
        "    | fallback_prompt\n",
        "    | fall_back_llm\n",
        "    | StrOutputParser()\n",
        ")"
      ]
    },
    {
      "cell_type": "code",
      "execution_count": null,
      "metadata": {
        "colab": {
          "base_uri": "https://localhost:8080/",
          "height": 35
        },
        "execution": {
          "iopub.execute_input": "2024-07-08T16:20:48.803240Z",
          "iopub.status.busy": "2024-07-08T16:20:48.802472Z",
          "iopub.status.idle": "2024-07-08T16:20:49.506444Z",
          "shell.execute_reply": "2024-07-08T16:20:49.505489Z",
          "shell.execute_reply.started": "2024-07-08T16:20:48.803208Z"
        },
        "id": "daJ8NrShPmD1",
        "outputId": "7545c6aa-1012-432f-82e7-ca7eb5d15a09",
        "trusted": true
      },
      "outputs": [
        {
          "data": {
            "application/vnd.google.colaboratory.intrinsic+json": {
              "type": "string"
            },
            "text/plain": [
              "\"Hello! I'm an NLP expert from the University of Tehran. I'm here to help with any Natural Language Processing or computer science-related questions you may have. What's on your mind?\""
            ]
          },
          "execution_count": 57,
          "metadata": {},
          "output_type": "execute_result"
        }
      ],
      "source": [
        "fallback_chain.invoke(\n",
        "    {\n",
        "        \"query\": \"Hello\",\n",
        "        \"chat_history\": [],\n",
        "    }\n",
        ")"
      ]
    },
    {
      "cell_type": "markdown",
      "metadata": {
        "id": "u2YNbVyrPmD1"
      },
      "source": [
        "## Generate with content chain"
      ]
    },
    {
      "cell_type": "code",
      "execution_count": null,
      "metadata": {
        "execution": {
          "iopub.execute_input": "2024-07-08T16:20:50.730248Z",
          "iopub.status.busy": "2024-07-08T16:20:50.729906Z",
          "iopub.status.idle": "2024-07-08T16:20:50.734824Z",
          "shell.execute_reply": "2024-07-08T16:20:50.733811Z",
          "shell.execute_reply.started": "2024-07-08T16:20:50.730220Z"
        },
        "id": "Thqy0w4UPmD1",
        "trusted": true
      },
      "outputs": [],
      "source": [
        "generate_with_context_template = (\n",
        "    \"You are a knowledgeable assistant specializing in providing accurate and context-specific answers. \"\n",
        "    \"You must answer the query below based on the provided context. \"\n",
        "    \"If the provided context is not relevant to the query, DO NOT answer based on your own knowledge\"\n",
        "    \"Do not use any information or knowledge outside of the given context to answer the query.\\n\\n\"\n",
        "    \"Context: {context}\\n\\n\"\n",
        "    \"Query: {query}\"\n",
        ")"
      ]
    },
    {
      "cell_type": "code",
      "execution_count": null,
      "metadata": {
        "execution": {
          "iopub.execute_input": "2024-07-08T16:20:52.287253Z",
          "iopub.status.busy": "2024-07-08T16:20:52.286670Z",
          "iopub.status.idle": "2024-07-08T16:20:52.291727Z",
          "shell.execute_reply": "2024-07-08T16:20:52.290656Z",
          "shell.execute_reply.started": "2024-07-08T16:20:52.287220Z"
        },
        "id": "sA9WRtvrPmD1",
        "trusted": true
      },
      "outputs": [],
      "source": [
        "generate_with_context_prompt = ChatPromptTemplate.from_template(generate_with_context_template)"
      ]
    },
    {
      "cell_type": "code",
      "execution_count": null,
      "metadata": {
        "execution": {
          "iopub.execute_input": "2024-07-08T16:20:52.293409Z",
          "iopub.status.busy": "2024-07-08T16:20:52.293130Z",
          "iopub.status.idle": "2024-07-08T16:20:52.302520Z",
          "shell.execute_reply": "2024-07-08T16:20:52.301718Z",
          "shell.execute_reply.started": "2024-07-08T16:20:52.293385Z"
        },
        "id": "6JmMR0EqPmD1",
        "trusted": true
      },
      "outputs": [],
      "source": [
        "generate_with_context_chain = generate_with_context_prompt | llm | StrOutputParser()"
      ]
    },
    {
      "cell_type": "code",
      "execution_count": null,
      "metadata": {
        "colab": {
          "base_uri": "https://localhost:8080/",
          "height": 46
        },
        "execution": {
          "iopub.execute_input": "2024-07-08T16:20:52.303998Z",
          "iopub.status.busy": "2024-07-08T16:20:52.303748Z",
          "iopub.status.idle": "2024-07-08T16:21:00.871199Z",
          "shell.execute_reply": "2024-07-08T16:21:00.870330Z",
          "shell.execute_reply.started": "2024-07-08T16:20:52.303975Z"
        },
        "id": "2TiTHNmsPmD1",
        "outputId": "600435b3-5a0d-42a2-be1a-9033b64ef8c5",
        "trusted": true
      },
      "outputs": [
        {
          "data": {
            "text/markdown": [
              "According to the provided context, a chatbot is a \"conversational system designed to mimic the appearance of informal human conversation.\""
            ],
            "text/plain": [
              "<IPython.core.display.Markdown object>"
            ]
          },
          "execution_count": 61,
          "metadata": {},
          "output_type": "execute_result"
        }
      ],
      "source": [
        "query = \"what is a chatbot?\"\n",
        "context = retriever.get_relevant_documents(query)\n",
        "response =  generate_with_context_chain.invoke({\"query\": query, \"context\": context})\n",
        "Markdown(response)"
      ]
    },
    {
      "cell_type": "code",
      "execution_count": null,
      "metadata": {
        "colab": {
          "base_uri": "https://localhost:8080/",
          "height": 64
        },
        "execution": {
          "iopub.execute_input": "2024-07-08T16:21:00.873485Z",
          "iopub.status.busy": "2024-07-08T16:21:00.872954Z",
          "iopub.status.idle": "2024-07-08T16:21:01.797051Z",
          "shell.execute_reply": "2024-07-08T16:21:01.796182Z",
          "shell.execute_reply.started": "2024-07-08T16:21:00.873451Z"
        },
        "id": "tNG7_PdiPmD2",
        "outputId": "fc1451ea-6bb9-4bcd-f44f-8d77d0b126a5",
        "trusted": true
      },
      "outputs": [
        {
          "data": {
            "text/markdown": [
              "Nice to meet you, Pouya! Unfortunately, I don't have any information about chatbots within our conversation so far. Since I'm only allowed to answer based on the provided context, I won't be able to define what a chatbot is. Maybe you can provide more context or information about chatbots, and I'll do my best to help?"
            ],
            "text/plain": [
              "<IPython.core.display.Markdown object>"
            ]
          },
          "execution_count": 62,
          "metadata": {},
          "output_type": "execute_result"
        }
      ],
      "source": [
        "query = \"what is a chatbot?\"\n",
        "context = \"My name is Pouya\"\n",
        "response =  generate_with_context_chain.invoke({\"query\": query, \"context\": context})\n",
        "Markdown(response)"
      ]
    },
    {
      "cell_type": "markdown",
      "metadata": {
        "id": "K4zZqTQFPmD2"
      },
      "source": [
        "## Workflow Agent"
      ]
    },
    {
      "cell_type": "code",
      "execution_count": null,
      "metadata": {
        "execution": {
          "iopub.execute_input": "2024-07-08T16:21:05.059226Z",
          "iopub.status.busy": "2024-07-08T16:21:05.058862Z",
          "iopub.status.idle": "2024-07-08T16:21:05.074970Z",
          "shell.execute_reply": "2024-07-08T16:21:05.074017Z",
          "shell.execute_reply.started": "2024-07-08T16:21:05.059190Z"
        },
        "id": "iRFvcPc7PmD2",
        "trusted": true
      },
      "outputs": [],
      "source": [
        "class AgentState(TypedDict):\n",
        "    \"\"\"\n",
        "    The dictionary keeps track of the data required by the various nodes in the graph.\n",
        "    \"\"\"\n",
        "    query: str\n",
        "    chat_history: list[BaseMessage]\n",
        "    generation: str\n",
        "    documents: list[Document]\n",
        "\n",
        "def router_node(state: dict):\n",
        "    \"\"\"\n",
        "    This node will get a query and choose an edge based on three possible choices: SearchEnginge, VectorStore, and LLMFallback\n",
        "    \"\"\"\n",
        "    query = state[\"query\"]\n",
        "    try:\n",
        "        respond = question_router.invoke({\"query\": query,\n",
        "                               \"output_instructions\": question_router_parser.get_format_instructions()\n",
        "                                         })\n",
        "    except Exception:\n",
        "        print('Exception in getting respond')\n",
        "\n",
        "    try:\n",
        "        chosen_tool = respond.tool_name.lower()\n",
        "    except Exception:\n",
        "        return \"LLMFallback\"\n",
        "\n",
        "    if chosen_tool == 'none':\n",
        "        print(\"-- No tool called --\")\n",
        "        return 'LLMFallback'\n",
        "    if chosen_tool == 'vectorstore':\n",
        "        print(\"-- Routing to VectorStore --\")\n",
        "        return \"VectorStore\"\n",
        "\n",
        "    if chosen_tool == 'searchengine':\n",
        "        print(\"-- Routing to SearchEngine --\")\n",
        "        return \"SearchEngine\"\n",
        "\n",
        "def vector_store_node(state: dict):\n",
        "    \"\"\"\n",
        "        This node will retrieve documents based on the given query\n",
        "    \"\"\"\n",
        "    query = state[\"query\"]\n",
        "    return {\"documents\" : retriever.invoke(input=query)}\n",
        "\n",
        "\n",
        "def search_engine_node(state: dict):\n",
        "    \"\"\"\n",
        "        Search Engine Node will use tavily and return the related documents\n",
        "    \"\"\"\n",
        "    query = state[\"query\"]\n",
        "    return {\"documents\" :search_engine_chain.invoke({\"query\": query})}\n",
        "\n",
        "def filter_docs_node(state: dict):\n",
        "    \"\"\"\n",
        "        Checking if documents are relevant and filter given documents\n",
        "    \"\"\"\n",
        "    query = state[\"query\"]\n",
        "    documents = state[\"documents\"]\n",
        "    releated_list = relevancy_check_chain.invoke({\n",
        "        \"query\": query,\n",
        "        \"documents\": documents,\n",
        "        \"output_instructions\": relevancy_parser.get_format_instructions()\n",
        "        })\n",
        "    filtered_docs = []\n",
        "    for index,word in enumerate(releated_list.word):\n",
        "        temp = word.lower()\n",
        "        if temp == 'relevant':\n",
        "            filtered_docs.append(documents[index])\n",
        "    return {\"documents\": filtered_docs}\n",
        "\n",
        "def should_continue(state: dict):\n",
        "    \"\"\"\n",
        "    Determines the next node based on the state\n",
        "    \"\"\"\n",
        "    documents = state.get(\"documents\", [])\n",
        "    if len(documents) == 0:\n",
        "        print(\"-- filtered was empty --\")\n",
        "        return \"SearchEngine\"\n",
        "    print(\"-- filtered was not empty --\")\n",
        "    return \"Generate\"\n",
        "\n",
        "def fallback_node(state: dict):\n",
        "    \"\"\"\n",
        "        When there is no tool chosen the fallback will called\n",
        "    \"\"\"\n",
        "    query = state[\"query\"]\n",
        "    chats = state[\"chat_history\"]\n",
        "    generation = fallback_chain.invoke({\n",
        "        \"query\": query,\n",
        "        \"chat_history\":chats\n",
        "    })\n",
        "    return {\"generation\": generation}\n",
        "\n",
        "def generate_with_context_node(state: dict):\n",
        "    \"\"\"\n",
        "        generate text according to given documents and query\n",
        "    \"\"\"\n",
        "    query = state[\"query\"]\n",
        "    documents = state[\"documents\"]\n",
        "    return {\"generation\": generate_with_context_chain.invoke({\"query\": query, \"context\": documents})}"
      ]
    },
    {
      "cell_type": "code",
      "execution_count": null,
      "metadata": {
        "execution": {
          "iopub.execute_input": "2024-07-08T16:21:05.232912Z",
          "iopub.status.busy": "2024-07-08T16:21:05.232648Z",
          "iopub.status.idle": "2024-07-08T16:21:05.240172Z",
          "shell.execute_reply": "2024-07-08T16:21:05.239319Z",
          "shell.execute_reply.started": "2024-07-08T16:21:05.232889Z"
        },
        "id": "VrDN4XTPPmD2",
        "trusted": true
      },
      "outputs": [],
      "source": [
        "workflow = StateGraph(AgentState)\n",
        "\n",
        "workflow.add_node(\"vector_store\", vector_store_node)\n",
        "workflow.add_node(\"fallback\", fallback_node)\n",
        "workflow.add_node(\"generate_with_context\", generate_with_context_node)\n",
        "workflow.add_node(\"filter_docs\", filter_docs_node)\n",
        "workflow.add_node(\"search_engine\", search_engine_node)\n",
        "\n",
        "workflow.set_conditional_entry_point(\n",
        "    router_node,\n",
        "    {\n",
        "        \"LLMFallback\": \"fallback\",\n",
        "        \"VectorStore\": \"vector_store\",\n",
        "        \"SearchEngine\": \"search_engine\",\n",
        "    },\n",
        ")\n",
        "workflow.add_conditional_edges(\n",
        "    \"filter_docs\",\n",
        "    should_continue,\n",
        "    {\n",
        "        \"SearchEngine\": \"search_engine\",\n",
        "        \"Generate\": \"generate_with_context\"\n",
        "    }\n",
        ")\n",
        "workflow.add_edge(\"vector_store\", \"filter_docs\")\n",
        "\n",
        "workflow.add_edge(\"search_engine\", \"filter_docs\")\n",
        "\n",
        "workflow.add_edge(\"generate_with_context\", END)\n",
        "\n",
        "workflow.add_edge(\"fallback\", END)"
      ]
    },
    {
      "cell_type": "code",
      "execution_count": null,
      "metadata": {
        "execution": {
          "iopub.execute_input": "2024-07-08T16:21:05.957022Z",
          "iopub.status.busy": "2024-07-08T16:21:05.956416Z",
          "iopub.status.idle": "2024-07-08T16:21:06.021165Z",
          "shell.execute_reply": "2024-07-08T16:21:06.020309Z",
          "shell.execute_reply.started": "2024-07-08T16:21:05.956989Z"
        },
        "id": "P1I6x6jWPmD3",
        "trusted": true
      },
      "outputs": [],
      "source": [
        "app = workflow.compile(debug=False)\n",
        "plot = app.get_graph().draw_mermaid_png()\n",
        "\n",
        "with open(\"plot.png\", \"wb\") as fp:\n",
        "    fp.write(plot)"
      ]
    },
    {
      "cell_type": "code",
      "execution_count": null,
      "metadata": {
        "colab": {
          "base_uri": "https://localhost:8080/",
          "height": 460
        },
        "execution": {
          "iopub.execute_input": "2024-07-08T16:21:06.380234Z",
          "iopub.status.busy": "2024-07-08T16:21:06.379352Z",
          "iopub.status.idle": "2024-07-08T16:21:06.416113Z",
          "shell.execute_reply": "2024-07-08T16:21:06.415315Z",
          "shell.execute_reply.started": "2024-07-08T16:21:06.380198Z"
        },
        "id": "qDVmkTHHPmD3",
        "outputId": "0e005626-6296-4de7-ba96-dbf14805a956",
        "trusted": true
      },
      "outputs": [
        {
          "data": {
            "image/png": "[encoded data removed]",
            "text/plain": [
              "<PIL.JpegImagePlugin.JpegImageFile image mode=RGB size=544x443>"
            ]
          },
          "metadata": {},
          "output_type": "display_data"
        }
      ],
      "source": [
        "from io import BytesIO\n",
        "from PIL import Image\n",
        "from IPython.display import display\n",
        "\n",
        "img = Image.open(BytesIO(plot))\n",
        "display(img)"
      ]
    },
    {
      "cell_type": "markdown",
      "metadata": {
        "id": "Io-usQitPmD3"
      },
      "source": [
        "# Named it and talk with it"
      ]
    },
    {
      "cell_type": "code",
      "execution_count": null,
      "metadata": {
        "colab": {
          "base_uri": "https://localhost:8080/",
          "height": 98
        },
        "execution": {
          "iopub.execute_input": "2024-07-08T16:21:08.906091Z",
          "iopub.status.busy": "2024-07-08T16:21:08.905754Z",
          "iopub.status.idle": "2024-07-08T16:21:10.373191Z",
          "shell.execute_reply": "2024-07-08T16:21:10.372277Z",
          "shell.execute_reply.started": "2024-07-08T16:21:08.906064Z"
        },
        "id": "IZtYxfwEPmD3",
        "outputId": "752b6c66-6f77-42e7-add8-a2282af90b6d",
        "trusted": true
      },
      "outputs": [
        {
          "name": "stdout",
          "output_type": "stream",
          "text": [
            "-- No tool called --\n"
          ]
        },
        {
          "data": {
            "text/markdown": [
              "I'm happy to help! However, I must acknowledge that this question is not related to Natural Language Processing or computer science, which are my areas of expertise. I'm not equipped to provide information on current events or politics. If you have any questions related to NLP or computer science, I'd be delighted to assist you!"
            ],
            "text/plain": [
              "<IPython.core.display.Markdown object>"
            ]
          },
          "execution_count": 67,
          "metadata": {},
          "output_type": "execute_result"
        }
      ],
      "source": [
        "response = app.invoke({\"query\": \"who is the president of Iran?\", \"chat_history\": []})\n",
        "Markdown(response[\"generation\"])"
      ]
    },
    {
      "cell_type": "code",
      "execution_count": null,
      "metadata": {
        "colab": {
          "base_uri": "https://localhost:8080/",
          "height": 81
        },
        "execution": {
          "iopub.execute_input": "2024-07-08T16:43:53.121844Z",
          "iopub.status.busy": "2024-07-08T16:43:53.121013Z",
          "iopub.status.idle": "2024-07-08T16:44:11.964876Z",
          "shell.execute_reply": "2024-07-08T16:44:11.963597Z",
          "shell.execute_reply.started": "2024-07-08T16:43:53.121807Z"
        },
        "id": "4OjBx449PmD3",
        "outputId": "bf6455f6-6273-4ad4-e324-65b9126fb629",
        "trusted": true
      },
      "outputs": [
        {
          "name": "stdout",
          "output_type": "stream",
          "text": [
            "-- Routing to VectorStore --\n",
            "-- filtered was not empty --\n"
          ]
        },
        {
          "data": {
            "text/markdown": [
              "According to the provided context, a chatbot is a conversational system designed to mimic the appearance of informal human conversation."
            ],
            "text/plain": [
              "<IPython.core.display.Markdown object>"
            ]
          },
          "execution_count": 68,
          "metadata": {},
          "output_type": "execute_result"
        }
      ],
      "source": [
        "response = app.invoke({\"query\": \"what is a chat bot ?\", \"chat_history\": []})\n",
        "Markdown(response[\"generation\"])"
      ]
    },
    {
      "cell_type": "code",
      "execution_count": null,
      "metadata": {
        "colab": {
          "base_uri": "https://localhost:8080/",
          "height": 267
        },
        "execution": {
          "iopub.execute_input": "2024-07-08T16:35:14.463081Z",
          "iopub.status.busy": "2024-07-08T16:35:14.462720Z",
          "iopub.status.idle": "2024-07-08T16:35:20.632472Z",
          "shell.execute_reply": "2024-07-08T16:35:20.631654Z",
          "shell.execute_reply.started": "2024-07-08T16:35:14.463053Z"
        },
        "id": "IpskMYqdPmD4",
        "outputId": "01ddbc74-bee9-49d9-db1e-bc71e04b8a21",
        "trusted": true
      },
      "outputs": [
        {
          "name": "stdout",
          "output_type": "stream",
          "text": [
            "-- Routing to SearchEngine --\n",
            "-- filtered was not empty --\n"
          ]
        },
        {
          "data": {
            "text/markdown": [
              "Based on the provided context, a tree in computer science is:\n",
              "\n",
              "* \"a widely used abstract data type that represents a hierarchical tree structure with a set of connected nodes.\" (Source: https://en.wikipedia.org/wiki/Tree_(data_structure))\n",
              "* \"a nonlinear data structure, compared to arrays, linked lists, stacks and queues which are linear data structures.\" (Source: https://www.cs.cmu.edu/~clo/www/CMU/DataStructures/Lessons/lesson4_1.htm)\n",
              "* \"a collection of entities called nodes. Nodes are connected by edges. Each node contains a value or data, and it may or may not have...\" (Source: https://www.freecodecamp.org/news/all-you-need-to-know-about-tree-data-structures-bceacb85490c/)\n",
              "* \"a hierarchical structure that is used to represent and organize data in a way that is easy to navigate and search.\" (Source: https://www.geeksforgeeks.org/introduction-to-tree-data-structure/)\n",
              "\n",
              "In summary, a tree in computer science is a hierarchical data structure composed of connected nodes, which can be used to represent and organize data in a way that is easy to navigate and search."
            ],
            "text/plain": [
              "<IPython.core.display.Markdown object>"
            ]
          },
          "execution_count": 69,
          "metadata": {},
          "output_type": "execute_result"
        }
      ],
      "source": [
        "response = app.invoke({\"query\": \"what is a Tree in computer science?\", \"chat_history\": []})\n",
        "Markdown(response[\"generation\"])"
      ]
    },
    {
      "cell_type": "code",
      "execution_count": null,
      "metadata": {
        "id": "Mxw58uUmPmD4"
      },
      "outputs": [],
      "source": []
    }
  ],
  "metadata": {
    "accelerator": "GPU",
    "colab": {
      "gpuType": "T4",
      "provenance": []
    },
    "kaggle": {
      "accelerator": "gpu",
      "dataSources": [],
      "dockerImageVersionId": 30733,
      "isGpuEnabled": true,
      "isInternetEnabled": true,
      "language": "python",
      "sourceType": "notebook"
    },
    "kernelspec": {
      "display_name": "Python 3",
      "language": "python",
      "name": "python3"
    },
    "language_info": {
      "codemirror_mode": {
        "name": "ipython",
        "version": 3
      },
      "file_extension": ".py",
      "mimetype": "text/x-python",
      "name": "python",
      "nbconvert_exporter": "python",
      "pygments_lexer": "ipython3",
      "version": "3.10.13"
    },
    "widgets": {
      "application/vnd.jupyter.widget-state+json": {
        "004a10a4c2704094bcf0da2daf723653": {
          "model_module": "@jupyter-widgets/base",
          "model_module_version": "1.2.0",
          "model_name": "LayoutModel",
          "state": {
            "_model_module": "@jupyter-widgets/base",
            "_model_module_version": "1.2.0",
            "_model_name": "LayoutModel",
            "_view_count": null,
            "_view_module": "@jupyter-widgets/base",
            "_view_module_version": "1.2.0",
            "_view_name": "LayoutView",
            "align_content": null,
            "align_items": null,
            "align_self": null,
            "border": null,
            "bottom": null,
            "display": null,
            "flex": null,
            "flex_flow": null,
            "grid_area": null,
            "grid_auto_columns": null,
            "grid_auto_flow": null,
            "grid_auto_rows": null,
            "grid_column": null,
            "grid_gap": null,
            "grid_row": null,
            "grid_template_areas": null,
            "grid_template_columns": null,
            "grid_template_rows": null,
            "height": null,
            "justify_content": null,
            "justify_items": null,
            "left": null,
            "margin": null,
            "max_height": null,
            "max_width": null,
            "min_height": null,
            "min_width": null,
            "object_fit": null,
            "object_position": null,
            "order": null,
            "overflow": null,
            "overflow_x": null,
            "overflow_y": null,
            "padding": null,
            "right": null,
            "top": null,
            "visibility": null,
            "width": null
          }
        },
        "009feba9eb364485b1bb00ba24ccf5c6": {
          "model_module": "@jupyter-widgets/controls",
          "model_module_version": "1.5.0",
          "model_name": "FloatProgressModel",
          "state": {
            "_dom_classes": [],
            "_model_module": "@jupyter-widgets/controls",
            "_model_module_version": "1.5.0",
            "_model_name": "FloatProgressModel",
            "_view_count": null,
            "_view_module": "@jupyter-widgets/controls",
            "_view_module_version": "1.5.0",
            "_view_name": "ProgressView",
            "bar_style": "success",
            "description": "",
            "description_tooltip": null,
            "layout": "IPY_MODEL_bb307961485c4838b89663070759488d",
            "max": 53,
            "min": 0,
            "orientation": "horizontal",
            "style": "IPY_MODEL_1241ac838b444677ae99e7658457cc19",
            "value": 53
          }
        },
        "0111919faf6c4dce887d5a6ec2c01a8f": {
          "model_module": "@jupyter-widgets/controls",
          "model_module_version": "1.5.0",
          "model_name": "DescriptionStyleModel",
          "state": {
            "_model_module": "@jupyter-widgets/controls",
            "_model_module_version": "1.5.0",
            "_model_name": "DescriptionStyleModel",
            "_view_count": null,
            "_view_module": "@jupyter-widgets/base",
            "_view_module_version": "1.2.0",
            "_view_name": "StyleView",
            "description_width": ""
          }
        },
        "02a6a4a38f5a4df8a037082e7f219817": {
          "model_module": "@jupyter-widgets/base",
          "model_module_version": "1.2.0",
          "model_name": "LayoutModel",
          "state": {
            "_model_module": "@jupyter-widgets/base",
            "_model_module_version": "1.2.0",
            "_model_name": "LayoutModel",
            "_view_count": null,
            "_view_module": "@jupyter-widgets/base",
            "_view_module_version": "1.2.0",
            "_view_name": "LayoutView",
            "align_content": null,
            "align_items": null,
            "align_self": null,
            "border": null,
            "bottom": null,
            "display": null,
            "flex": null,
            "flex_flow": null,
            "grid_area": null,
            "grid_auto_columns": null,
            "grid_auto_flow": null,
            "grid_auto_rows": null,
            "grid_column": null,
            "grid_gap": null,
            "grid_row": null,
            "grid_template_areas": null,
            "grid_template_columns": null,
            "grid_template_rows": null,
            "height": null,
            "justify_content": null,
            "justify_items": null,
            "left": null,
            "margin": null,
            "max_height": null,
            "max_width": null,
            "min_height": null,
            "min_width": null,
            "object_fit": null,
            "object_position": null,
            "order": null,
            "overflow": null,
            "overflow_x": null,
            "overflow_y": null,
            "padding": null,
            "right": null,
            "top": null,
            "visibility": null,
            "width": null
          }
        },
        "030a5a329b5e4ac5bcc1d7a88b630239": {
          "model_module": "@jupyter-widgets/controls",
          "model_module_version": "1.5.0",
          "model_name": "DescriptionStyleModel",
          "state": {
            "_model_module": "@jupyter-widgets/controls",
            "_model_module_version": "1.5.0",
            "_model_name": "DescriptionStyleModel",
            "_view_count": null,
            "_view_module": "@jupyter-widgets/base",
            "_view_module_version": "1.2.0",
            "_view_name": "StyleView",
            "description_width": ""
          }
        },
        "0367e39d7922499fac9c089768ded0e1": {
          "model_module": "@jupyter-widgets/controls",
          "model_module_version": "1.5.0",
          "model_name": "DescriptionStyleModel",
          "state": {
            "_model_module": "@jupyter-widgets/controls",
            "_model_module_version": "1.5.0",
            "_model_name": "DescriptionStyleModel",
            "_view_count": null,
            "_view_module": "@jupyter-widgets/base",
            "_view_module_version": "1.2.0",
            "_view_name": "StyleView",
            "description_width": ""
          }
        },
        "03a8e062f4574ac48c7fff45c33a62b3": {
          "model_module": "@jupyter-widgets/controls",
          "model_module_version": "1.5.0",
          "model_name": "HTMLModel",
          "state": {
            "_dom_classes": [],
            "_model_module": "@jupyter-widgets/controls",
            "_model_module_version": "1.5.0",
            "_model_name": "HTMLModel",
            "_view_count": null,
            "_view_module": "@jupyter-widgets/controls",
            "_view_module_version": "1.5.0",
            "_view_name": "HTMLView",
            "description": "",
            "description_tooltip": null,
            "layout": "IPY_MODEL_45af670022014ae9ba4ae27b2ac8c8eb",
            "placeholder": "​",
            "style": "IPY_MODEL_0367e39d7922499fac9c089768ded0e1",
            "value": "model.safetensors: 100%"
          }
        },
        "04cb5acada994feb8ce708521c0c830a": {
          "model_module": "@jupyter-widgets/base",
          "model_module_version": "1.2.0",
          "model_name": "LayoutModel",
          "state": {
            "_model_module": "@jupyter-widgets/base",
            "_model_module_version": "1.2.0",
            "_model_name": "LayoutModel",
            "_view_count": null,
            "_view_module": "@jupyter-widgets/base",
            "_view_module_version": "1.2.0",
            "_view_name": "LayoutView",
            "align_content": null,
            "align_items": null,
            "align_self": null,
            "border": null,
            "bottom": null,
            "display": null,
            "flex": null,
            "flex_flow": null,
            "grid_area": null,
            "grid_auto_columns": null,
            "grid_auto_flow": null,
            "grid_auto_rows": null,
            "grid_column": null,
            "grid_gap": null,
            "grid_row": null,
            "grid_template_areas": null,
            "grid_template_columns": null,
            "grid_template_rows": null,
            "height": null,
            "justify_content": null,
            "justify_items": null,
            "left": null,
            "margin": null,
            "max_height": null,
            "max_width": null,
            "min_height": null,
            "min_width": null,
            "object_fit": null,
            "object_position": null,
            "order": null,
            "overflow": null,
            "overflow_x": null,
            "overflow_y": null,
            "padding": null,
            "right": null,
            "top": null,
            "visibility": null,
            "width": null
          }
        },
        "065cf64957f14e5b8f0bf84c2393a9f0": {
          "model_module": "@jupyter-widgets/base",
          "model_module_version": "1.2.0",
          "model_name": "LayoutModel",
          "state": {
            "_model_module": "@jupyter-widgets/base",
            "_model_module_version": "1.2.0",
            "_model_name": "LayoutModel",
            "_view_count": null,
            "_view_module": "@jupyter-widgets/base",
            "_view_module_version": "1.2.0",
            "_view_name": "LayoutView",
            "align_content": null,
            "align_items": null,
            "align_self": null,
            "border": null,
            "bottom": null,
            "display": null,
            "flex": null,
            "flex_flow": null,
            "grid_area": null,
            "grid_auto_columns": null,
            "grid_auto_flow": null,
            "grid_auto_rows": null,
            "grid_column": null,
            "grid_gap": null,
            "grid_row": null,
            "grid_template_areas": null,
            "grid_template_columns": null,
            "grid_template_rows": null,
            "height": null,
            "justify_content": null,
            "justify_items": null,
            "left": null,
            "margin": null,
            "max_height": null,
            "max_width": null,
            "min_height": null,
            "min_width": null,
            "object_fit": null,
            "object_position": null,
            "order": null,
            "overflow": null,
            "overflow_x": null,
            "overflow_y": null,
            "padding": null,
            "right": null,
            "top": null,
            "visibility": null,
            "width": null
          }
        },
        "0a058f055a8e4b909d301ada98f76818": {
          "model_module": "@jupyter-widgets/base",
          "model_module_version": "1.2.0",
          "model_name": "LayoutModel",
          "state": {
            "_model_module": "@jupyter-widgets/base",
            "_model_module_version": "1.2.0",
            "_model_name": "LayoutModel",
            "_view_count": null,
            "_view_module": "@jupyter-widgets/base",
            "_view_module_version": "1.2.0",
            "_view_name": "LayoutView",
            "align_content": null,
            "align_items": null,
            "align_self": null,
            "border": null,
            "bottom": null,
            "display": null,
            "flex": null,
            "flex_flow": null,
            "grid_area": null,
            "grid_auto_columns": null,
            "grid_auto_flow": null,
            "grid_auto_rows": null,
            "grid_column": null,
            "grid_gap": null,
            "grid_row": null,
            "grid_template_areas": null,
            "grid_template_columns": null,
            "grid_template_rows": null,
            "height": null,
            "justify_content": null,
            "justify_items": null,
            "left": null,
            "margin": null,
            "max_height": null,
            "max_width": null,
            "min_height": null,
            "min_width": null,
            "object_fit": null,
            "object_position": null,
            "order": null,
            "overflow": null,
            "overflow_x": null,
            "overflow_y": null,
            "padding": null,
            "right": null,
            "top": null,
            "visibility": null,
            "width": null
          }
        },
        "0a46d54b1ad644cb9b4e68d579d226b0": {
          "model_module": "@jupyter-widgets/controls",
          "model_module_version": "1.5.0",
          "model_name": "HBoxModel",
          "state": {
            "_dom_classes": [],
            "_model_module": "@jupyter-widgets/controls",
            "_model_module_version": "1.5.0",
            "_model_name": "HBoxModel",
            "_view_count": null,
            "_view_module": "@jupyter-widgets/controls",
            "_view_module_version": "1.5.0",
            "_view_name": "HBoxView",
            "box_style": "",
            "children": [
              "IPY_MODEL_7286bc1f42e24a1dbe83f1c65e599f85",
              "IPY_MODEL_9dbf736063444ff29f74e034f14d06f9",
              "IPY_MODEL_4b5ab31ea67a4b7d8f6da1b36664dda7"
            ],
            "layout": "IPY_MODEL_b0267b241f8b47f398e1637715e87898"
          }
        },
        "10f81b7082a54c86b07cc1a9c76a2f89": {
          "model_module": "@jupyter-widgets/controls",
          "model_module_version": "1.5.0",
          "model_name": "DescriptionStyleModel",
          "state": {
            "_model_module": "@jupyter-widgets/controls",
            "_model_module_version": "1.5.0",
            "_model_name": "DescriptionStyleModel",
            "_view_count": null,
            "_view_module": "@jupyter-widgets/base",
            "_view_module_version": "1.2.0",
            "_view_name": "StyleView",
            "description_width": ""
          }
        },
        "1188b51f97a843939a42d0486ea32386": {
          "model_module": "@jupyter-widgets/controls",
          "model_module_version": "1.5.0",
          "model_name": "ProgressStyleModel",
          "state": {
            "_model_module": "@jupyter-widgets/controls",
            "_model_module_version": "1.5.0",
            "_model_name": "ProgressStyleModel",
            "_view_count": null,
            "_view_module": "@jupyter-widgets/base",
            "_view_module_version": "1.2.0",
            "_view_name": "StyleView",
            "bar_color": null,
            "description_width": ""
          }
        },
        "11bd285a12414e14abb1e584675aeb3c": {
          "model_module": "@jupyter-widgets/base",
          "model_module_version": "1.2.0",
          "model_name": "LayoutModel",
          "state": {
            "_model_module": "@jupyter-widgets/base",
            "_model_module_version": "1.2.0",
            "_model_name": "LayoutModel",
            "_view_count": null,
            "_view_module": "@jupyter-widgets/base",
            "_view_module_version": "1.2.0",
            "_view_name": "LayoutView",
            "align_content": null,
            "align_items": null,
            "align_self": null,
            "border": null,
            "bottom": null,
            "display": null,
            "flex": null,
            "flex_flow": null,
            "grid_area": null,
            "grid_auto_columns": null,
            "grid_auto_flow": null,
            "grid_auto_rows": null,
            "grid_column": null,
            "grid_gap": null,
            "grid_row": null,
            "grid_template_areas": null,
            "grid_template_columns": null,
            "grid_template_rows": null,
            "height": null,
            "justify_content": null,
            "justify_items": null,
            "left": null,
            "margin": null,
            "max_height": null,
            "max_width": null,
            "min_height": null,
            "min_width": null,
            "object_fit": null,
            "object_position": null,
            "order": null,
            "overflow": null,
            "overflow_x": null,
            "overflow_y": null,
            "padding": null,
            "right": null,
            "top": null,
            "visibility": null,
            "width": null
          }
        },
        "1211a1c588504b809451796cbc2d02fb": {
          "model_module": "@jupyter-widgets/base",
          "model_module_version": "1.2.0",
          "model_name": "LayoutModel",
          "state": {
            "_model_module": "@jupyter-widgets/base",
            "_model_module_version": "1.2.0",
            "_model_name": "LayoutModel",
            "_view_count": null,
            "_view_module": "@jupyter-widgets/base",
            "_view_module_version": "1.2.0",
            "_view_name": "LayoutView",
            "align_content": null,
            "align_items": null,
            "align_self": null,
            "border": null,
            "bottom": null,
            "display": null,
            "flex": null,
            "flex_flow": null,
            "grid_area": null,
            "grid_auto_columns": null,
            "grid_auto_flow": null,
            "grid_auto_rows": null,
            "grid_column": null,
            "grid_gap": null,
            "grid_row": null,
            "grid_template_areas": null,
            "grid_template_columns": null,
            "grid_template_rows": null,
            "height": null,
            "justify_content": null,
            "justify_items": null,
            "left": null,
            "margin": null,
            "max_height": null,
            "max_width": null,
            "min_height": null,
            "min_width": null,
            "object_fit": null,
            "object_position": null,
            "order": null,
            "overflow": null,
            "overflow_x": null,
            "overflow_y": null,
            "padding": null,
            "right": null,
            "top": null,
            "visibility": null,
            "width": null
          }
        },
        "1241ac838b444677ae99e7658457cc19": {
          "model_module": "@jupyter-widgets/controls",
          "model_module_version": "1.5.0",
          "model_name": "ProgressStyleModel",
          "state": {
            "_model_module": "@jupyter-widgets/controls",
            "_model_module_version": "1.5.0",
            "_model_name": "ProgressStyleModel",
            "_view_count": null,
            "_view_module": "@jupyter-widgets/base",
            "_view_module_version": "1.2.0",
            "_view_name": "StyleView",
            "bar_color": null,
            "description_width": ""
          }
        },
        "1a0a7a6f801047b1ac7ab73c407a1a0f": {
          "model_module": "@jupyter-widgets/controls",
          "model_module_version": "1.5.0",
          "model_name": "ProgressStyleModel",
          "state": {
            "_model_module": "@jupyter-widgets/controls",
            "_model_module_version": "1.5.0",
            "_model_name": "ProgressStyleModel",
            "_view_count": null,
            "_view_module": "@jupyter-widgets/base",
            "_view_module_version": "1.2.0",
            "_view_name": "StyleView",
            "bar_color": null,
            "description_width": ""
          }
        },
        "1cf00414ac7d4cab981706fb9af5cae1": {
          "model_module": "@jupyter-widgets/base",
          "model_module_version": "1.2.0",
          "model_name": "LayoutModel",
          "state": {
            "_model_module": "@jupyter-widgets/base",
            "_model_module_version": "1.2.0",
            "_model_name": "LayoutModel",
            "_view_count": null,
            "_view_module": "@jupyter-widgets/base",
            "_view_module_version": "1.2.0",
            "_view_name": "LayoutView",
            "align_content": null,
            "align_items": null,
            "align_self": null,
            "border": null,
            "bottom": null,
            "display": null,
            "flex": null,
            "flex_flow": null,
            "grid_area": null,
            "grid_auto_columns": null,
            "grid_auto_flow": null,
            "grid_auto_rows": null,
            "grid_column": null,
            "grid_gap": null,
            "grid_row": null,
            "grid_template_areas": null,
            "grid_template_columns": null,
            "grid_template_rows": null,
            "height": null,
            "justify_content": null,
            "justify_items": null,
            "left": null,
            "margin": null,
            "max_height": null,
            "max_width": null,
            "min_height": null,
            "min_width": null,
            "object_fit": null,
            "object_position": null,
            "order": null,
            "overflow": null,
            "overflow_x": null,
            "overflow_y": null,
            "padding": null,
            "right": null,
            "top": null,
            "visibility": null,
            "width": null
          }
        },
        "210abb933f9a47ca97670099c52b4cc7": {
          "model_module": "@jupyter-widgets/base",
          "model_module_version": "1.2.0",
          "model_name": "LayoutModel",
          "state": {
            "_model_module": "@jupyter-widgets/base",
            "_model_module_version": "1.2.0",
            "_model_name": "LayoutModel",
            "_view_count": null,
            "_view_module": "@jupyter-widgets/base",
            "_view_module_version": "1.2.0",
            "_view_name": "LayoutView",
            "align_content": null,
            "align_items": null,
            "align_self": null,
            "border": null,
            "bottom": null,
            "display": null,
            "flex": null,
            "flex_flow": null,
            "grid_area": null,
            "grid_auto_columns": null,
            "grid_auto_flow": null,
            "grid_auto_rows": null,
            "grid_column": null,
            "grid_gap": null,
            "grid_row": null,
            "grid_template_areas": null,
            "grid_template_columns": null,
            "grid_template_rows": null,
            "height": null,
            "justify_content": null,
            "justify_items": null,
            "left": null,
            "margin": null,
            "max_height": null,
            "max_width": null,
            "min_height": null,
            "min_width": null,
            "object_fit": null,
            "object_position": null,
            "order": null,
            "overflow": null,
            "overflow_x": null,
            "overflow_y": null,
            "padding": null,
            "right": null,
            "top": null,
            "visibility": null,
            "width": null
          }
        },
        "24843cfc2a7e43289914825677b79024": {
          "model_module": "@jupyter-widgets/base",
          "model_module_version": "1.2.0",
          "model_name": "LayoutModel",
          "state": {
            "_model_module": "@jupyter-widgets/base",
            "_model_module_version": "1.2.0",
            "_model_name": "LayoutModel",
            "_view_count": null,
            "_view_module": "@jupyter-widgets/base",
            "_view_module_version": "1.2.0",
            "_view_name": "LayoutView",
            "align_content": null,
            "align_items": null,
            "align_self": null,
            "border": null,
            "bottom": null,
            "display": null,
            "flex": null,
            "flex_flow": null,
            "grid_area": null,
            "grid_auto_columns": null,
            "grid_auto_flow": null,
            "grid_auto_rows": null,
            "grid_column": null,
            "grid_gap": null,
            "grid_row": null,
            "grid_template_areas": null,
            "grid_template_columns": null,
            "grid_template_rows": null,
            "height": null,
            "justify_content": null,
            "justify_items": null,
            "left": null,
            "margin": null,
            "max_height": null,
            "max_width": null,
            "min_height": null,
            "min_width": null,
            "object_fit": null,
            "object_position": null,
            "order": null,
            "overflow": null,
            "overflow_x": null,
            "overflow_y": null,
            "padding": null,
            "right": null,
            "top": null,
            "visibility": null,
            "width": null
          }
        },
        "25a9f00ee0984bc1aad8594d2627ceb6": {
          "model_module": "@jupyter-widgets/base",
          "model_module_version": "1.2.0",
          "model_name": "LayoutModel",
          "state": {
            "_model_module": "@jupyter-widgets/base",
            "_model_module_version": "1.2.0",
            "_model_name": "LayoutModel",
            "_view_count": null,
            "_view_module": "@jupyter-widgets/base",
            "_view_module_version": "1.2.0",
            "_view_name": "LayoutView",
            "align_content": null,
            "align_items": null,
            "align_self": null,
            "border": null,
            "bottom": null,
            "display": null,
            "flex": null,
            "flex_flow": null,
            "grid_area": null,
            "grid_auto_columns": null,
            "grid_auto_flow": null,
            "grid_auto_rows": null,
            "grid_column": null,
            "grid_gap": null,
            "grid_row": null,
            "grid_template_areas": null,
            "grid_template_columns": null,
            "grid_template_rows": null,
            "height": null,
            "justify_content": null,
            "justify_items": null,
            "left": null,
            "margin": null,
            "max_height": null,
            "max_width": null,
            "min_height": null,
            "min_width": null,
            "object_fit": null,
            "object_position": null,
            "order": null,
            "overflow": null,
            "overflow_x": null,
            "overflow_y": null,
            "padding": null,
            "right": null,
            "top": null,
            "visibility": null,
            "width": null
          }
        },
        "26daac80f0bd463c96a502351b2cd67e": {
          "model_module": "@jupyter-widgets/controls",
          "model_module_version": "1.5.0",
          "model_name": "HTMLModel",
          "state": {
            "_dom_classes": [],
            "_model_module": "@jupyter-widgets/controls",
            "_model_module_version": "1.5.0",
            "_model_name": "HTMLModel",
            "_view_count": null,
            "_view_module": "@jupyter-widgets/controls",
            "_view_module_version": "1.5.0",
            "_view_name": "HTMLView",
            "description": "",
            "description_tooltip": null,
            "layout": "IPY_MODEL_f4f4ab13f37444da8a406d57793d63dc",
            "placeholder": "​",
            "style": "IPY_MODEL_81ad3ac4151b47a89649ec0378aff61c",
            "value": " 363/363 [00:00&lt;00:00, 24.2kB/s]"
          }
        },
        "28051a22fb80403082ca5947806c9f7f": {
          "model_module": "@jupyter-widgets/controls",
          "model_module_version": "1.5.0",
          "model_name": "FloatProgressModel",
          "state": {
            "_dom_classes": [],
            "_model_module": "@jupyter-widgets/controls",
            "_model_module_version": "1.5.0",
            "_model_name": "FloatProgressModel",
            "_view_count": null,
            "_view_module": "@jupyter-widgets/controls",
            "_view_module_version": "1.5.0",
            "_view_name": "ProgressView",
            "bar_style": "success",
            "description": "",
            "description_tooltip": null,
            "layout": "IPY_MODEL_5c57ff1634c44703b6da9c1b7af109a1",
            "max": 466021,
            "min": 0,
            "orientation": "horizontal",
            "style": "IPY_MODEL_9cf3d15e95a94ae98b84ab6a5e221dd8",
            "value": 466021
          }
        },
        "30d0445b9c2b40f9beb8dadceecb56e2": {
          "model_module": "@jupyter-widgets/controls",
          "model_module_version": "1.5.0",
          "model_name": "FloatProgressModel",
          "state": {
            "_dom_classes": [],
            "_model_module": "@jupyter-widgets/controls",
            "_model_module_version": "1.5.0",
            "_model_name": "FloatProgressModel",
            "_view_count": null,
            "_view_module": "@jupyter-widgets/controls",
            "_view_module_version": "1.5.0",
            "_view_name": "ProgressView",
            "bar_style": "success",
            "description": "",
            "description_tooltip": null,
            "layout": "IPY_MODEL_edd63801b5c1468ba3d4480f0940a921",
            "max": 571,
            "min": 0,
            "orientation": "horizontal",
            "style": "IPY_MODEL_d931c8149afa41689a18e3f2c6b7463d",
            "value": 571
          }
        },
        "32573586f9f847509dbe1f46418216e9": {
          "model_module": "@jupyter-widgets/controls",
          "model_module_version": "1.5.0",
          "model_name": "HBoxModel",
          "state": {
            "_dom_classes": [],
            "_model_module": "@jupyter-widgets/controls",
            "_model_module_version": "1.5.0",
            "_model_name": "HBoxModel",
            "_view_count": null,
            "_view_module": "@jupyter-widgets/controls",
            "_view_module_version": "1.5.0",
            "_view_name": "HBoxView",
            "box_style": "",
            "children": [
              "IPY_MODEL_e6b2b40c65c04718b51a843e79dadfba",
              "IPY_MODEL_890498a33ca94d31910887d7e4773c6b",
              "IPY_MODEL_e29ce421d03d43aca0149752831e98ca"
            ],
            "layout": "IPY_MODEL_45494d3d38d6453b86d0b79597ddb845"
          }
        },
        "32ac98c48de74648a93f89b5c56283f7": {
          "model_module": "@jupyter-widgets/base",
          "model_module_version": "1.2.0",
          "model_name": "LayoutModel",
          "state": {
            "_model_module": "@jupyter-widgets/base",
            "_model_module_version": "1.2.0",
            "_model_name": "LayoutModel",
            "_view_count": null,
            "_view_module": "@jupyter-widgets/base",
            "_view_module_version": "1.2.0",
            "_view_name": "LayoutView",
            "align_content": null,
            "align_items": null,
            "align_self": null,
            "border": null,
            "bottom": null,
            "display": null,
            "flex": null,
            "flex_flow": null,
            "grid_area": null,
            "grid_auto_columns": null,
            "grid_auto_flow": null,
            "grid_auto_rows": null,
            "grid_column": null,
            "grid_gap": null,
            "grid_row": null,
            "grid_template_areas": null,
            "grid_template_columns": null,
            "grid_template_rows": null,
            "height": null,
            "justify_content": null,
            "justify_items": null,
            "left": null,
            "margin": null,
            "max_height": null,
            "max_width": null,
            "min_height": null,
            "min_width": null,
            "object_fit": null,
            "object_position": null,
            "order": null,
            "overflow": null,
            "overflow_x": null,
            "overflow_y": null,
            "padding": null,
            "right": null,
            "top": null,
            "visibility": null,
            "width": null
          }
        },
        "33bb17232bbc4ff38e7c305ede65f2bc": {
          "model_module": "@jupyter-widgets/controls",
          "model_module_version": "1.5.0",
          "model_name": "HTMLModel",
          "state": {
            "_dom_classes": [],
            "_model_module": "@jupyter-widgets/controls",
            "_model_module_version": "1.5.0",
            "_model_name": "HTMLModel",
            "_view_count": null,
            "_view_module": "@jupyter-widgets/controls",
            "_view_module_version": "1.5.0",
            "_view_name": "HTMLView",
            "description": "",
            "description_tooltip": null,
            "layout": "IPY_MODEL_1cf00414ac7d4cab981706fb9af5cae1",
            "placeholder": "​",
            "style": "IPY_MODEL_e84b238203dc429194139532baafe728",
            "value": "1_Pooling/config.json: 100%"
          }
        },
        "38d8291d90e74fb695fb20c1f5203d4a": {
          "model_module": "@jupyter-widgets/controls",
          "model_module_version": "1.5.0",
          "model_name": "DescriptionStyleModel",
          "state": {
            "_model_module": "@jupyter-widgets/controls",
            "_model_module_version": "1.5.0",
            "_model_name": "DescriptionStyleModel",
            "_view_count": null,
            "_view_module": "@jupyter-widgets/base",
            "_view_module_version": "1.2.0",
            "_view_name": "StyleView",
            "description_width": ""
          }
        },
        "3aa93ab1acba449eaa2a016a88875e2d": {
          "model_module": "@jupyter-widgets/controls",
          "model_module_version": "1.5.0",
          "model_name": "FloatProgressModel",
          "state": {
            "_dom_classes": [],
            "_model_module": "@jupyter-widgets/controls",
            "_model_module_version": "1.5.0",
            "_model_name": "FloatProgressModel",
            "_view_count": null,
            "_view_module": "@jupyter-widgets/controls",
            "_view_module_version": "1.5.0",
            "_view_name": "ProgressView",
            "bar_style": "success",
            "description": "",
            "description_tooltip": null,
            "layout": "IPY_MODEL_529298613ae34988ae449096dcaefe81",
            "max": 190,
            "min": 0,
            "orientation": "horizontal",
            "style": "IPY_MODEL_8f2d43f3ea4f49db8bd9a353d15384af",
            "value": 190
          }
        },
        "3bba33e9ef2a4d23bfe3fe38881eeb7e": {
          "model_module": "@jupyter-widgets/base",
          "model_module_version": "1.2.0",
          "model_name": "LayoutModel",
          "state": {
            "_model_module": "@jupyter-widgets/base",
            "_model_module_version": "1.2.0",
            "_model_name": "LayoutModel",
            "_view_count": null,
            "_view_module": "@jupyter-widgets/base",
            "_view_module_version": "1.2.0",
            "_view_name": "LayoutView",
            "align_content": null,
            "align_items": null,
            "align_self": null,
            "border": null,
            "bottom": null,
            "display": null,
            "flex": null,
            "flex_flow": null,
            "grid_area": null,
            "grid_auto_columns": null,
            "grid_auto_flow": null,
            "grid_auto_rows": null,
            "grid_column": null,
            "grid_gap": null,
            "grid_row": null,
            "grid_template_areas": null,
            "grid_template_columns": null,
            "grid_template_rows": null,
            "height": null,
            "justify_content": null,
            "justify_items": null,
            "left": null,
            "margin": null,
            "max_height": null,
            "max_width": null,
            "min_height": null,
            "min_width": null,
            "object_fit": null,
            "object_position": null,
            "order": null,
            "overflow": null,
            "overflow_x": null,
            "overflow_y": null,
            "padding": null,
            "right": null,
            "top": null,
            "visibility": null,
            "width": null
          }
        },
        "3e335e4e01c449359a20622bd8497c65": {
          "model_module": "@jupyter-widgets/base",
          "model_module_version": "1.2.0",
          "model_name": "LayoutModel",
          "state": {
            "_model_module": "@jupyter-widgets/base",
            "_model_module_version": "1.2.0",
            "_model_name": "LayoutModel",
            "_view_count": null,
            "_view_module": "@jupyter-widgets/base",
            "_view_module_version": "1.2.0",
            "_view_name": "LayoutView",
            "align_content": null,
            "align_items": null,
            "align_self": null,
            "border": null,
            "bottom": null,
            "display": null,
            "flex": null,
            "flex_flow": null,
            "grid_area": null,
            "grid_auto_columns": null,
            "grid_auto_flow": null,
            "grid_auto_rows": null,
            "grid_column": null,
            "grid_gap": null,
            "grid_row": null,
            "grid_template_areas": null,
            "grid_template_columns": null,
            "grid_template_rows": null,
            "height": null,
            "justify_content": null,
            "justify_items": null,
            "left": null,
            "margin": null,
            "max_height": null,
            "max_width": null,
            "min_height": null,
            "min_width": null,
            "object_fit": null,
            "object_position": null,
            "order": null,
            "overflow": null,
            "overflow_x": null,
            "overflow_y": null,
            "padding": null,
            "right": null,
            "top": null,
            "visibility": null,
            "width": null
          }
        },
        "45494d3d38d6453b86d0b79597ddb845": {
          "model_module": "@jupyter-widgets/base",
          "model_module_version": "1.2.0",
          "model_name": "LayoutModel",
          "state": {
            "_model_module": "@jupyter-widgets/base",
            "_model_module_version": "1.2.0",
            "_model_name": "LayoutModel",
            "_view_count": null,
            "_view_module": "@jupyter-widgets/base",
            "_view_module_version": "1.2.0",
            "_view_name": "LayoutView",
            "align_content": null,
            "align_items": null,
            "align_self": null,
            "border": null,
            "bottom": null,
            "display": null,
            "flex": null,
            "flex_flow": null,
            "grid_area": null,
            "grid_auto_columns": null,
            "grid_auto_flow": null,
            "grid_auto_rows": null,
            "grid_column": null,
            "grid_gap": null,
            "grid_row": null,
            "grid_template_areas": null,
            "grid_template_columns": null,
            "grid_template_rows": null,
            "height": null,
            "justify_content": null,
            "justify_items": null,
            "left": null,
            "margin": null,
            "max_height": null,
            "max_width": null,
            "min_height": null,
            "min_width": null,
            "object_fit": null,
            "object_position": null,
            "order": null,
            "overflow": null,
            "overflow_x": null,
            "overflow_y": null,
            "padding": null,
            "right": null,
            "top": null,
            "visibility": null,
            "width": null
          }
        },
        "45af670022014ae9ba4ae27b2ac8c8eb": {
          "model_module": "@jupyter-widgets/base",
          "model_module_version": "1.2.0",
          "model_name": "LayoutModel",
          "state": {
            "_model_module": "@jupyter-widgets/base",
            "_model_module_version": "1.2.0",
            "_model_name": "LayoutModel",
            "_view_count": null,
            "_view_module": "@jupyter-widgets/base",
            "_view_module_version": "1.2.0",
            "_view_name": "LayoutView",
            "align_content": null,
            "align_items": null,
            "align_self": null,
            "border": null,
            "bottom": null,
            "display": null,
            "flex": null,
            "flex_flow": null,
            "grid_area": null,
            "grid_auto_columns": null,
            "grid_auto_flow": null,
            "grid_auto_rows": null,
            "grid_column": null,
            "grid_gap": null,
            "grid_row": null,
            "grid_template_areas": null,
            "grid_template_columns": null,
            "grid_template_rows": null,
            "height": null,
            "justify_content": null,
            "justify_items": null,
            "left": null,
            "margin": null,
            "max_height": null,
            "max_width": null,
            "min_height": null,
            "min_width": null,
            "object_fit": null,
            "object_position": null,
            "order": null,
            "overflow": null,
            "overflow_x": null,
            "overflow_y": null,
            "padding": null,
            "right": null,
            "top": null,
            "visibility": null,
            "width": null
          }
        },
        "499da0fe0649428793d51e064fd2577d": {
          "model_module": "@jupyter-widgets/controls",
          "model_module_version": "1.5.0",
          "model_name": "DescriptionStyleModel",
          "state": {
            "_model_module": "@jupyter-widgets/controls",
            "_model_module_version": "1.5.0",
            "_model_name": "DescriptionStyleModel",
            "_view_count": null,
            "_view_module": "@jupyter-widgets/base",
            "_view_module_version": "1.2.0",
            "_view_name": "StyleView",
            "description_width": ""
          }
        },
        "4ac4057eade44034af46901f26d53010": {
          "model_module": "@jupyter-widgets/controls",
          "model_module_version": "1.5.0",
          "model_name": "ProgressStyleModel",
          "state": {
            "_model_module": "@jupyter-widgets/controls",
            "_model_module_version": "1.5.0",
            "_model_name": "ProgressStyleModel",
            "_view_count": null,
            "_view_module": "@jupyter-widgets/base",
            "_view_module_version": "1.2.0",
            "_view_name": "StyleView",
            "bar_color": null,
            "description_width": ""
          }
        },
        "4b5ab31ea67a4b7d8f6da1b36664dda7": {
          "model_module": "@jupyter-widgets/controls",
          "model_module_version": "1.5.0",
          "model_name": "HTMLModel",
          "state": {
            "_dom_classes": [],
            "_model_module": "@jupyter-widgets/controls",
            "_model_module_version": "1.5.0",
            "_model_name": "HTMLModel",
            "_view_count": null,
            "_view_module": "@jupyter-widgets/controls",
            "_view_module_version": "1.5.0",
            "_view_name": "HTMLView",
            "description": "",
            "description_tooltip": null,
            "layout": "IPY_MODEL_210abb933f9a47ca97670099c52b4cc7",
            "placeholder": "​",
            "style": "IPY_MODEL_e72baa4375cd4ed2b94547abb2fe401f",
            "value": " 349/349 [00:00&lt;00:00, 24.2kB/s]"
          }
        },
        "4c2e47419fba4e83b455195d2ed0cd8f": {
          "model_module": "@jupyter-widgets/controls",
          "model_module_version": "1.5.0",
          "model_name": "HTMLModel",
          "state": {
            "_dom_classes": [],
            "_model_module": "@jupyter-widgets/controls",
            "_model_module_version": "1.5.0",
            "_model_name": "HTMLModel",
            "_view_count": null,
            "_view_module": "@jupyter-widgets/controls",
            "_view_module_version": "1.5.0",
            "_view_name": "HTMLView",
            "description": "",
            "description_tooltip": null,
            "layout": "IPY_MODEL_b775a584973f4d76b25b2254f2273c71",
            "placeholder": "​",
            "style": "IPY_MODEL_7cc42afbb91743b68bef260e96c086c0",
            "value": "README.md: 100%"
          }
        },
        "4eb49893e0c341b984a55b1bd303fb64": {
          "model_module": "@jupyter-widgets/controls",
          "model_module_version": "1.5.0",
          "model_name": "HTMLModel",
          "state": {
            "_dom_classes": [],
            "_model_module": "@jupyter-widgets/controls",
            "_model_module_version": "1.5.0",
            "_model_name": "HTMLModel",
            "_view_count": null,
            "_view_module": "@jupyter-widgets/controls",
            "_view_module_version": "1.5.0",
            "_view_name": "HTMLView",
            "description": "",
            "description_tooltip": null,
            "layout": "IPY_MODEL_8760f5d11a784f9fa5f3b7a038978208",
            "placeholder": "​",
            "style": "IPY_MODEL_ca3d36e2ff8d42f78a30f77a1ea46858",
            "value": " 10.6k/10.6k [00:00&lt;00:00, 759kB/s]"
          }
        },
        "4f936a3ded83425a98d8a6b16d33f41a": {
          "model_module": "@jupyter-widgets/controls",
          "model_module_version": "1.5.0",
          "model_name": "DescriptionStyleModel",
          "state": {
            "_model_module": "@jupyter-widgets/controls",
            "_model_module_version": "1.5.0",
            "_model_name": "DescriptionStyleModel",
            "_view_count": null,
            "_view_module": "@jupyter-widgets/base",
            "_view_module_version": "1.2.0",
            "_view_name": "StyleView",
            "description_width": ""
          }
        },
        "529298613ae34988ae449096dcaefe81": {
          "model_module": "@jupyter-widgets/base",
          "model_module_version": "1.2.0",
          "model_name": "LayoutModel",
          "state": {
            "_model_module": "@jupyter-widgets/base",
            "_model_module_version": "1.2.0",
            "_model_name": "LayoutModel",
            "_view_count": null,
            "_view_module": "@jupyter-widgets/base",
            "_view_module_version": "1.2.0",
            "_view_name": "LayoutView",
            "align_content": null,
            "align_items": null,
            "align_self": null,
            "border": null,
            "bottom": null,
            "display": null,
            "flex": null,
            "flex_flow": null,
            "grid_area": null,
            "grid_auto_columns": null,
            "grid_auto_flow": null,
            "grid_auto_rows": null,
            "grid_column": null,
            "grid_gap": null,
            "grid_row": null,
            "grid_template_areas": null,
            "grid_template_columns": null,
            "grid_template_rows": null,
            "height": null,
            "justify_content": null,
            "justify_items": null,
            "left": null,
            "margin": null,
            "max_height": null,
            "max_width": null,
            "min_height": null,
            "min_width": null,
            "object_fit": null,
            "object_position": null,
            "order": null,
            "overflow": null,
            "overflow_x": null,
            "overflow_y": null,
            "padding": null,
            "right": null,
            "top": null,
            "visibility": null,
            "width": null
          }
        },
        "56e5836b1a0b4a27861e8e3b741e804d": {
          "model_module": "@jupyter-widgets/base",
          "model_module_version": "1.2.0",
          "model_name": "LayoutModel",
          "state": {
            "_model_module": "@jupyter-widgets/base",
            "_model_module_version": "1.2.0",
            "_model_name": "LayoutModel",
            "_view_count": null,
            "_view_module": "@jupyter-widgets/base",
            "_view_module_version": "1.2.0",
            "_view_name": "LayoutView",
            "align_content": null,
            "align_items": null,
            "align_self": null,
            "border": null,
            "bottom": null,
            "display": null,
            "flex": null,
            "flex_flow": null,
            "grid_area": null,
            "grid_auto_columns": null,
            "grid_auto_flow": null,
            "grid_auto_rows": null,
            "grid_column": null,
            "grid_gap": null,
            "grid_row": null,
            "grid_template_areas": null,
            "grid_template_columns": null,
            "grid_template_rows": null,
            "height": null,
            "justify_content": null,
            "justify_items": null,
            "left": null,
            "margin": null,
            "max_height": null,
            "max_width": null,
            "min_height": null,
            "min_width": null,
            "object_fit": null,
            "object_position": null,
            "order": null,
            "overflow": null,
            "overflow_x": null,
            "overflow_y": null,
            "padding": null,
            "right": null,
            "top": null,
            "visibility": null,
            "width": null
          }
        },
        "5783c95edd8640a19faa8c8a9906c987": {
          "model_module": "@jupyter-widgets/controls",
          "model_module_version": "1.5.0",
          "model_name": "HBoxModel",
          "state": {
            "_dom_classes": [],
            "_model_module": "@jupyter-widgets/controls",
            "_model_module_version": "1.5.0",
            "_model_name": "HBoxModel",
            "_view_count": null,
            "_view_module": "@jupyter-widgets/controls",
            "_view_module_version": "1.5.0",
            "_view_name": "HBoxView",
            "box_style": "",
            "children": [
              "IPY_MODEL_59139ff8fd1247d380ee1a47b6366a05",
              "IPY_MODEL_009feba9eb364485b1bb00ba24ccf5c6",
              "IPY_MODEL_6a40a2c5073240e99bf44f3e05169973"
            ],
            "layout": "IPY_MODEL_616289627a5d429f9d329672078490ad"
          }
        },
        "59139ff8fd1247d380ee1a47b6366a05": {
          "model_module": "@jupyter-widgets/controls",
          "model_module_version": "1.5.0",
          "model_name": "HTMLModel",
          "state": {
            "_dom_classes": [],
            "_model_module": "@jupyter-widgets/controls",
            "_model_module_version": "1.5.0",
            "_model_name": "HTMLModel",
            "_view_count": null,
            "_view_module": "@jupyter-widgets/controls",
            "_view_module_version": "1.5.0",
            "_view_name": "HTMLView",
            "description": "",
            "description_tooltip": null,
            "layout": "IPY_MODEL_9564d59987fc417792f041b74d3d1689",
            "placeholder": "​",
            "style": "IPY_MODEL_0111919faf6c4dce887d5a6ec2c01a8f",
            "value": "sentence_bert_config.json: 100%"
          }
        },
        "5c57ff1634c44703b6da9c1b7af109a1": {
          "model_module": "@jupyter-widgets/base",
          "model_module_version": "1.2.0",
          "model_name": "LayoutModel",
          "state": {
            "_model_module": "@jupyter-widgets/base",
            "_model_module_version": "1.2.0",
            "_model_name": "LayoutModel",
            "_view_count": null,
            "_view_module": "@jupyter-widgets/base",
            "_view_module_version": "1.2.0",
            "_view_name": "LayoutView",
            "align_content": null,
            "align_items": null,
            "align_self": null,
            "border": null,
            "bottom": null,
            "display": null,
            "flex": null,
            "flex_flow": null,
            "grid_area": null,
            "grid_auto_columns": null,
            "grid_auto_flow": null,
            "grid_auto_rows": null,
            "grid_column": null,
            "grid_gap": null,
            "grid_row": null,
            "grid_template_areas": null,
            "grid_template_columns": null,
            "grid_template_rows": null,
            "height": null,
            "justify_content": null,
            "justify_items": null,
            "left": null,
            "margin": null,
            "max_height": null,
            "max_width": null,
            "min_height": null,
            "min_width": null,
            "object_fit": null,
            "object_position": null,
            "order": null,
            "overflow": null,
            "overflow_x": null,
            "overflow_y": null,
            "padding": null,
            "right": null,
            "top": null,
            "visibility": null,
            "width": null
          }
        },
        "5e72be3ef26f4d1693f1f58df7bd1958": {
          "model_module": "@jupyter-widgets/controls",
          "model_module_version": "1.5.0",
          "model_name": "DescriptionStyleModel",
          "state": {
            "_model_module": "@jupyter-widgets/controls",
            "_model_module_version": "1.5.0",
            "_model_name": "DescriptionStyleModel",
            "_view_count": null,
            "_view_module": "@jupyter-widgets/base",
            "_view_module_version": "1.2.0",
            "_view_name": "StyleView",
            "description_width": ""
          }
        },
        "5eb2801e915b4244b96bdc76d69fa103": {
          "model_module": "@jupyter-widgets/base",
          "model_module_version": "1.2.0",
          "model_name": "LayoutModel",
          "state": {
            "_model_module": "@jupyter-widgets/base",
            "_model_module_version": "1.2.0",
            "_model_name": "LayoutModel",
            "_view_count": null,
            "_view_module": "@jupyter-widgets/base",
            "_view_module_version": "1.2.0",
            "_view_name": "LayoutView",
            "align_content": null,
            "align_items": null,
            "align_self": null,
            "border": null,
            "bottom": null,
            "display": null,
            "flex": null,
            "flex_flow": null,
            "grid_area": null,
            "grid_auto_columns": null,
            "grid_auto_flow": null,
            "grid_auto_rows": null,
            "grid_column": null,
            "grid_gap": null,
            "grid_row": null,
            "grid_template_areas": null,
            "grid_template_columns": null,
            "grid_template_rows": null,
            "height": null,
            "justify_content": null,
            "justify_items": null,
            "left": null,
            "margin": null,
            "max_height": null,
            "max_width": null,
            "min_height": null,
            "min_width": null,
            "object_fit": null,
            "object_position": null,
            "order": null,
            "overflow": null,
            "overflow_x": null,
            "overflow_y": null,
            "padding": null,
            "right": null,
            "top": null,
            "visibility": null,
            "width": null
          }
        },
        "5ed85625ae54449bb73496b17a5da616": {
          "model_module": "@jupyter-widgets/controls",
          "model_module_version": "1.5.0",
          "model_name": "HTMLModel",
          "state": {
            "_dom_classes": [],
            "_model_module": "@jupyter-widgets/controls",
            "_model_module_version": "1.5.0",
            "_model_name": "HTMLModel",
            "_view_count": null,
            "_view_module": "@jupyter-widgets/controls",
            "_view_module_version": "1.5.0",
            "_view_name": "HTMLView",
            "description": "",
            "description_tooltip": null,
            "layout": "IPY_MODEL_1211a1c588504b809451796cbc2d02fb",
            "placeholder": "​",
            "style": "IPY_MODEL_a607423dd3334ab7924f564fbdbceb33",
            "value": "tokenizer_config.json: 100%"
          }
        },
        "616289627a5d429f9d329672078490ad": {
          "model_module": "@jupyter-widgets/base",
          "model_module_version": "1.2.0",
          "model_name": "LayoutModel",
          "state": {
            "_model_module": "@jupyter-widgets/base",
            "_model_module_version": "1.2.0",
            "_model_name": "LayoutModel",
            "_view_count": null,
            "_view_module": "@jupyter-widgets/base",
            "_view_module_version": "1.2.0",
            "_view_name": "LayoutView",
            "align_content": null,
            "align_items": null,
            "align_self": null,
            "border": null,
            "bottom": null,
            "display": null,
            "flex": null,
            "flex_flow": null,
            "grid_area": null,
            "grid_auto_columns": null,
            "grid_auto_flow": null,
            "grid_auto_rows": null,
            "grid_column": null,
            "grid_gap": null,
            "grid_row": null,
            "grid_template_areas": null,
            "grid_template_columns": null,
            "grid_template_rows": null,
            "height": null,
            "justify_content": null,
            "justify_items": null,
            "left": null,
            "margin": null,
            "max_height": null,
            "max_width": null,
            "min_height": null,
            "min_width": null,
            "object_fit": null,
            "object_position": null,
            "order": null,
            "overflow": null,
            "overflow_x": null,
            "overflow_y": null,
            "padding": null,
            "right": null,
            "top": null,
            "visibility": null,
            "width": null
          }
        },
        "63c5ec13838640a7b8190fd61b0087b6": {
          "model_module": "@jupyter-widgets/base",
          "model_module_version": "1.2.0",
          "model_name": "LayoutModel",
          "state": {
            "_model_module": "@jupyter-widgets/base",
            "_model_module_version": "1.2.0",
            "_model_name": "LayoutModel",
            "_view_count": null,
            "_view_module": "@jupyter-widgets/base",
            "_view_module_version": "1.2.0",
            "_view_name": "LayoutView",
            "align_content": null,
            "align_items": null,
            "align_self": null,
            "border": null,
            "bottom": null,
            "display": null,
            "flex": null,
            "flex_flow": null,
            "grid_area": null,
            "grid_auto_columns": null,
            "grid_auto_flow": null,
            "grid_auto_rows": null,
            "grid_column": null,
            "grid_gap": null,
            "grid_row": null,
            "grid_template_areas": null,
            "grid_template_columns": null,
            "grid_template_rows": null,
            "height": null,
            "justify_content": null,
            "justify_items": null,
            "left": null,
            "margin": null,
            "max_height": null,
            "max_width": null,
            "min_height": null,
            "min_width": null,
            "object_fit": null,
            "object_position": null,
            "order": null,
            "overflow": null,
            "overflow_x": null,
            "overflow_y": null,
            "padding": null,
            "right": null,
            "top": null,
            "visibility": null,
            "width": null
          }
        },
        "66306024965842d9a81ba2b70a62fbd7": {
          "model_module": "@jupyter-widgets/controls",
          "model_module_version": "1.5.0",
          "model_name": "HTMLModel",
          "state": {
            "_dom_classes": [],
            "_model_module": "@jupyter-widgets/controls",
            "_model_module_version": "1.5.0",
            "_model_name": "HTMLModel",
            "_view_count": null,
            "_view_module": "@jupyter-widgets/controls",
            "_view_module_version": "1.5.0",
            "_view_name": "HTMLView",
            "description": "",
            "description_tooltip": null,
            "layout": "IPY_MODEL_3e335e4e01c449359a20622bd8497c65",
            "placeholder": "​",
            "style": "IPY_MODEL_4f936a3ded83425a98d8a6b16d33f41a",
            "value": "vocab.txt: 100%"
          }
        },
        "66744ee1b5ef44c5ac7d73562c23fa3b": {
          "model_module": "@jupyter-widgets/controls",
          "model_module_version": "1.5.0",
          "model_name": "DescriptionStyleModel",
          "state": {
            "_model_module": "@jupyter-widgets/controls",
            "_model_module_version": "1.5.0",
            "_model_name": "DescriptionStyleModel",
            "_view_count": null,
            "_view_module": "@jupyter-widgets/base",
            "_view_module_version": "1.2.0",
            "_view_name": "StyleView",
            "description_width": ""
          }
        },
        "6a40a2c5073240e99bf44f3e05169973": {
          "model_module": "@jupyter-widgets/controls",
          "model_module_version": "1.5.0",
          "model_name": "HTMLModel",
          "state": {
            "_dom_classes": [],
            "_model_module": "@jupyter-widgets/controls",
            "_model_module_version": "1.5.0",
            "_model_name": "HTMLModel",
            "_view_count": null,
            "_view_module": "@jupyter-widgets/controls",
            "_view_module_version": "1.5.0",
            "_view_name": "HTMLView",
            "description": "",
            "description_tooltip": null,
            "layout": "IPY_MODEL_3bba33e9ef2a4d23bfe3fe38881eeb7e",
            "placeholder": "​",
            "style": "IPY_MODEL_38d8291d90e74fb695fb20c1f5203d4a",
            "value": " 53.0/53.0 [00:00&lt;00:00, 3.19kB/s]"
          }
        },
        "7286bc1f42e24a1dbe83f1c65e599f85": {
          "model_module": "@jupyter-widgets/controls",
          "model_module_version": "1.5.0",
          "model_name": "HTMLModel",
          "state": {
            "_dom_classes": [],
            "_model_module": "@jupyter-widgets/controls",
            "_model_module_version": "1.5.0",
            "_model_name": "HTMLModel",
            "_view_count": null,
            "_view_module": "@jupyter-widgets/controls",
            "_view_module_version": "1.5.0",
            "_view_name": "HTMLView",
            "description": "",
            "description_tooltip": null,
            "layout": "IPY_MODEL_24843cfc2a7e43289914825677b79024",
            "placeholder": "​",
            "style": "IPY_MODEL_030a5a329b5e4ac5bcc1d7a88b630239",
            "value": "modules.json: 100%"
          }
        },
        "7350420f67d543419b76452aa8637959": {
          "model_module": "@jupyter-widgets/base",
          "model_module_version": "1.2.0",
          "model_name": "LayoutModel",
          "state": {
            "_model_module": "@jupyter-widgets/base",
            "_model_module_version": "1.2.0",
            "_model_name": "LayoutModel",
            "_view_count": null,
            "_view_module": "@jupyter-widgets/base",
            "_view_module_version": "1.2.0",
            "_view_name": "LayoutView",
            "align_content": null,
            "align_items": null,
            "align_self": null,
            "border": null,
            "bottom": null,
            "display": null,
            "flex": null,
            "flex_flow": null,
            "grid_area": null,
            "grid_auto_columns": null,
            "grid_auto_flow": null,
            "grid_auto_rows": null,
            "grid_column": null,
            "grid_gap": null,
            "grid_row": null,
            "grid_template_areas": null,
            "grid_template_columns": null,
            "grid_template_rows": null,
            "height": null,
            "justify_content": null,
            "justify_items": null,
            "left": null,
            "margin": null,
            "max_height": null,
            "max_width": null,
            "min_height": null,
            "min_width": null,
            "object_fit": null,
            "object_position": null,
            "order": null,
            "overflow": null,
            "overflow_x": null,
            "overflow_y": null,
            "padding": null,
            "right": null,
            "top": null,
            "visibility": null,
            "width": null
          }
        },
        "740cbbf42eb8433680064991b2f014b1": {
          "model_module": "@jupyter-widgets/controls",
          "model_module_version": "1.5.0",
          "model_name": "ProgressStyleModel",
          "state": {
            "_model_module": "@jupyter-widgets/controls",
            "_model_module_version": "1.5.0",
            "_model_name": "ProgressStyleModel",
            "_view_count": null,
            "_view_module": "@jupyter-widgets/base",
            "_view_module_version": "1.2.0",
            "_view_name": "StyleView",
            "bar_color": null,
            "description_width": ""
          }
        },
        "7cc42afbb91743b68bef260e96c086c0": {
          "model_module": "@jupyter-widgets/controls",
          "model_module_version": "1.5.0",
          "model_name": "DescriptionStyleModel",
          "state": {
            "_model_module": "@jupyter-widgets/controls",
            "_model_module_version": "1.5.0",
            "_model_name": "DescriptionStyleModel",
            "_view_count": null,
            "_view_module": "@jupyter-widgets/base",
            "_view_module_version": "1.2.0",
            "_view_name": "StyleView",
            "description_width": ""
          }
        },
        "81ad3ac4151b47a89649ec0378aff61c": {
          "model_module": "@jupyter-widgets/controls",
          "model_module_version": "1.5.0",
          "model_name": "DescriptionStyleModel",
          "state": {
            "_model_module": "@jupyter-widgets/controls",
            "_model_module_version": "1.5.0",
            "_model_name": "DescriptionStyleModel",
            "_view_count": null,
            "_view_module": "@jupyter-widgets/base",
            "_view_module_version": "1.2.0",
            "_view_name": "StyleView",
            "description_width": ""
          }
        },
        "8760f5d11a784f9fa5f3b7a038978208": {
          "model_module": "@jupyter-widgets/base",
          "model_module_version": "1.2.0",
          "model_name": "LayoutModel",
          "state": {
            "_model_module": "@jupyter-widgets/base",
            "_model_module_version": "1.2.0",
            "_model_name": "LayoutModel",
            "_view_count": null,
            "_view_module": "@jupyter-widgets/base",
            "_view_module_version": "1.2.0",
            "_view_name": "LayoutView",
            "align_content": null,
            "align_items": null,
            "align_self": null,
            "border": null,
            "bottom": null,
            "display": null,
            "flex": null,
            "flex_flow": null,
            "grid_area": null,
            "grid_auto_columns": null,
            "grid_auto_flow": null,
            "grid_auto_rows": null,
            "grid_column": null,
            "grid_gap": null,
            "grid_row": null,
            "grid_template_areas": null,
            "grid_template_columns": null,
            "grid_template_rows": null,
            "height": null,
            "justify_content": null,
            "justify_items": null,
            "left": null,
            "margin": null,
            "max_height": null,
            "max_width": null,
            "min_height": null,
            "min_width": null,
            "object_fit": null,
            "object_position": null,
            "order": null,
            "overflow": null,
            "overflow_x": null,
            "overflow_y": null,
            "padding": null,
            "right": null,
            "top": null,
            "visibility": null,
            "width": null
          }
        },
        "888fc12d6cd84c87988a0d1e675176b5": {
          "model_module": "@jupyter-widgets/base",
          "model_module_version": "1.2.0",
          "model_name": "LayoutModel",
          "state": {
            "_model_module": "@jupyter-widgets/base",
            "_model_module_version": "1.2.0",
            "_model_name": "LayoutModel",
            "_view_count": null,
            "_view_module": "@jupyter-widgets/base",
            "_view_module_version": "1.2.0",
            "_view_name": "LayoutView",
            "align_content": null,
            "align_items": null,
            "align_self": null,
            "border": null,
            "bottom": null,
            "display": null,
            "flex": null,
            "flex_flow": null,
            "grid_area": null,
            "grid_auto_columns": null,
            "grid_auto_flow": null,
            "grid_auto_rows": null,
            "grid_column": null,
            "grid_gap": null,
            "grid_row": null,
            "grid_template_areas": null,
            "grid_template_columns": null,
            "grid_template_rows": null,
            "height": null,
            "justify_content": null,
            "justify_items": null,
            "left": null,
            "margin": null,
            "max_height": null,
            "max_width": null,
            "min_height": null,
            "min_width": null,
            "object_fit": null,
            "object_position": null,
            "order": null,
            "overflow": null,
            "overflow_x": null,
            "overflow_y": null,
            "padding": null,
            "right": null,
            "top": null,
            "visibility": null,
            "width": null
          }
        },
        "890498a33ca94d31910887d7e4773c6b": {
          "model_module": "@jupyter-widgets/controls",
          "model_module_version": "1.5.0",
          "model_name": "FloatProgressModel",
          "state": {
            "_dom_classes": [],
            "_model_module": "@jupyter-widgets/controls",
            "_model_module_version": "1.5.0",
            "_model_name": "FloatProgressModel",
            "_view_count": null,
            "_view_module": "@jupyter-widgets/controls",
            "_view_module_version": "1.5.0",
            "_view_name": "ProgressView",
            "bar_style": "success",
            "description": "",
            "description_tooltip": null,
            "layout": "IPY_MODEL_cf8ac1eba2274423adf078c7b8a550cd",
            "max": 239,
            "min": 0,
            "orientation": "horizontal",
            "style": "IPY_MODEL_4ac4057eade44034af46901f26d53010",
            "value": 239
          }
        },
        "8dc5a1c926884431b4df4064b79459b0": {
          "model_module": "@jupyter-widgets/base",
          "model_module_version": "1.2.0",
          "model_name": "LayoutModel",
          "state": {
            "_model_module": "@jupyter-widgets/base",
            "_model_module_version": "1.2.0",
            "_model_name": "LayoutModel",
            "_view_count": null,
            "_view_module": "@jupyter-widgets/base",
            "_view_module_version": "1.2.0",
            "_view_name": "LayoutView",
            "align_content": null,
            "align_items": null,
            "align_self": null,
            "border": null,
            "bottom": null,
            "display": null,
            "flex": null,
            "flex_flow": null,
            "grid_area": null,
            "grid_auto_columns": null,
            "grid_auto_flow": null,
            "grid_auto_rows": null,
            "grid_column": null,
            "grid_gap": null,
            "grid_row": null,
            "grid_template_areas": null,
            "grid_template_columns": null,
            "grid_template_rows": null,
            "height": null,
            "justify_content": null,
            "justify_items": null,
            "left": null,
            "margin": null,
            "max_height": null,
            "max_width": null,
            "min_height": null,
            "min_width": null,
            "object_fit": null,
            "object_position": null,
            "order": null,
            "overflow": null,
            "overflow_x": null,
            "overflow_y": null,
            "padding": null,
            "right": null,
            "top": null,
            "visibility": null,
            "width": null
          }
        },
        "8f2d43f3ea4f49db8bd9a353d15384af": {
          "model_module": "@jupyter-widgets/controls",
          "model_module_version": "1.5.0",
          "model_name": "ProgressStyleModel",
          "state": {
            "_model_module": "@jupyter-widgets/controls",
            "_model_module_version": "1.5.0",
            "_model_name": "ProgressStyleModel",
            "_view_count": null,
            "_view_module": "@jupyter-widgets/base",
            "_view_module_version": "1.2.0",
            "_view_name": "StyleView",
            "bar_color": null,
            "description_width": ""
          }
        },
        "9346765d24834ab1b24ea65c74938f31": {
          "model_module": "@jupyter-widgets/base",
          "model_module_version": "1.2.0",
          "model_name": "LayoutModel",
          "state": {
            "_model_module": "@jupyter-widgets/base",
            "_model_module_version": "1.2.0",
            "_model_name": "LayoutModel",
            "_view_count": null,
            "_view_module": "@jupyter-widgets/base",
            "_view_module_version": "1.2.0",
            "_view_name": "LayoutView",
            "align_content": null,
            "align_items": null,
            "align_self": null,
            "border": null,
            "bottom": null,
            "display": null,
            "flex": null,
            "flex_flow": null,
            "grid_area": null,
            "grid_auto_columns": null,
            "grid_auto_flow": null,
            "grid_auto_rows": null,
            "grid_column": null,
            "grid_gap": null,
            "grid_row": null,
            "grid_template_areas": null,
            "grid_template_columns": null,
            "grid_template_rows": null,
            "height": null,
            "justify_content": null,
            "justify_items": null,
            "left": null,
            "margin": null,
            "max_height": null,
            "max_width": null,
            "min_height": null,
            "min_width": null,
            "object_fit": null,
            "object_position": null,
            "order": null,
            "overflow": null,
            "overflow_x": null,
            "overflow_y": null,
            "padding": null,
            "right": null,
            "top": null,
            "visibility": null,
            "width": null
          }
        },
        "94e1ee16fedb4daa93b0aa0591bb3bbf": {
          "model_module": "@jupyter-widgets/controls",
          "model_module_version": "1.5.0",
          "model_name": "HTMLModel",
          "state": {
            "_dom_classes": [],
            "_model_module": "@jupyter-widgets/controls",
            "_model_module_version": "1.5.0",
            "_model_name": "HTMLModel",
            "_view_count": null,
            "_view_module": "@jupyter-widgets/controls",
            "_view_module_version": "1.5.0",
            "_view_name": "HTMLView",
            "description": "",
            "description_tooltip": null,
            "layout": "IPY_MODEL_cbbe18d28e2e468fadd7cb80f5ee6b08",
            "placeholder": "​",
            "style": "IPY_MODEL_66744ee1b5ef44c5ac7d73562c23fa3b",
            "value": "config.json: 100%"
          }
        },
        "9564d59987fc417792f041b74d3d1689": {
          "model_module": "@jupyter-widgets/base",
          "model_module_version": "1.2.0",
          "model_name": "LayoutModel",
          "state": {
            "_model_module": "@jupyter-widgets/base",
            "_model_module_version": "1.2.0",
            "_model_name": "LayoutModel",
            "_view_count": null,
            "_view_module": "@jupyter-widgets/base",
            "_view_module_version": "1.2.0",
            "_view_name": "LayoutView",
            "align_content": null,
            "align_items": null,
            "align_self": null,
            "border": null,
            "bottom": null,
            "display": null,
            "flex": null,
            "flex_flow": null,
            "grid_area": null,
            "grid_auto_columns": null,
            "grid_auto_flow": null,
            "grid_auto_rows": null,
            "grid_column": null,
            "grid_gap": null,
            "grid_row": null,
            "grid_template_areas": null,
            "grid_template_columns": null,
            "grid_template_rows": null,
            "height": null,
            "justify_content": null,
            "justify_items": null,
            "left": null,
            "margin": null,
            "max_height": null,
            "max_width": null,
            "min_height": null,
            "min_width": null,
            "object_fit": null,
            "object_position": null,
            "order": null,
            "overflow": null,
            "overflow_x": null,
            "overflow_y": null,
            "padding": null,
            "right": null,
            "top": null,
            "visibility": null,
            "width": null
          }
        },
        "972ab79c991c4f85ada0bb2b46cb774b": {
          "model_module": "@jupyter-widgets/controls",
          "model_module_version": "1.5.0",
          "model_name": "ProgressStyleModel",
          "state": {
            "_model_module": "@jupyter-widgets/controls",
            "_model_module_version": "1.5.0",
            "_model_name": "ProgressStyleModel",
            "_view_count": null,
            "_view_module": "@jupyter-widgets/base",
            "_view_module_version": "1.2.0",
            "_view_name": "StyleView",
            "bar_color": null,
            "description_width": ""
          }
        },
        "9990d1ff326d432098230d4367a3d6c1": {
          "model_module": "@jupyter-widgets/controls",
          "model_module_version": "1.5.0",
          "model_name": "FloatProgressModel",
          "state": {
            "_dom_classes": [],
            "_model_module": "@jupyter-widgets/controls",
            "_model_module_version": "1.5.0",
            "_model_name": "FloatProgressModel",
            "_view_count": null,
            "_view_module": "@jupyter-widgets/controls",
            "_view_module_version": "1.5.0",
            "_view_name": "ProgressView",
            "bar_style": "success",
            "description": "",
            "description_tooltip": null,
            "layout": "IPY_MODEL_0a058f055a8e4b909d301ada98f76818",
            "max": 363,
            "min": 0,
            "orientation": "horizontal",
            "style": "IPY_MODEL_9d330467728a482dbdfa65e2f1f4261e",
            "value": 363
          }
        },
        "9a2ca97d497b4dbaa31672bca579b787": {
          "model_module": "@jupyter-widgets/controls",
          "model_module_version": "1.5.0",
          "model_name": "HBoxModel",
          "state": {
            "_dom_classes": [],
            "_model_module": "@jupyter-widgets/controls",
            "_model_module_version": "1.5.0",
            "_model_name": "HBoxModel",
            "_view_count": null,
            "_view_module": "@jupyter-widgets/controls",
            "_view_module_version": "1.5.0",
            "_view_name": "HBoxView",
            "box_style": "",
            "children": [
              "IPY_MODEL_f35e355f525048959e373a6931fca187",
              "IPY_MODEL_d5fd73a0fde847759b210d5715d4db2e",
              "IPY_MODEL_bbac19b86c8c4310bb4ad032e05f2e10"
            ],
            "layout": "IPY_MODEL_004a10a4c2704094bcf0da2daf723653"
          }
        },
        "9cf3d15e95a94ae98b84ab6a5e221dd8": {
          "model_module": "@jupyter-widgets/controls",
          "model_module_version": "1.5.0",
          "model_name": "ProgressStyleModel",
          "state": {
            "_model_module": "@jupyter-widgets/controls",
            "_model_module_version": "1.5.0",
            "_model_name": "ProgressStyleModel",
            "_view_count": null,
            "_view_module": "@jupyter-widgets/base",
            "_view_module_version": "1.2.0",
            "_view_name": "StyleView",
            "bar_color": null,
            "description_width": ""
          }
        },
        "9d330467728a482dbdfa65e2f1f4261e": {
          "model_module": "@jupyter-widgets/controls",
          "model_module_version": "1.5.0",
          "model_name": "ProgressStyleModel",
          "state": {
            "_model_module": "@jupyter-widgets/controls",
            "_model_module_version": "1.5.0",
            "_model_name": "ProgressStyleModel",
            "_view_count": null,
            "_view_module": "@jupyter-widgets/base",
            "_view_module_version": "1.2.0",
            "_view_name": "StyleView",
            "bar_color": null,
            "description_width": ""
          }
        },
        "9dbf736063444ff29f74e034f14d06f9": {
          "model_module": "@jupyter-widgets/controls",
          "model_module_version": "1.5.0",
          "model_name": "FloatProgressModel",
          "state": {
            "_dom_classes": [],
            "_model_module": "@jupyter-widgets/controls",
            "_model_module_version": "1.5.0",
            "_model_name": "FloatProgressModel",
            "_view_count": null,
            "_view_module": "@jupyter-widgets/controls",
            "_view_module_version": "1.5.0",
            "_view_name": "ProgressView",
            "bar_style": "success",
            "description": "",
            "description_tooltip": null,
            "layout": "IPY_MODEL_5eb2801e915b4244b96bdc76d69fa103",
            "max": 349,
            "min": 0,
            "orientation": "horizontal",
            "style": "IPY_MODEL_1188b51f97a843939a42d0486ea32386",
            "value": 349
          }
        },
        "a607423dd3334ab7924f564fbdbceb33": {
          "model_module": "@jupyter-widgets/controls",
          "model_module_version": "1.5.0",
          "model_name": "DescriptionStyleModel",
          "state": {
            "_model_module": "@jupyter-widgets/controls",
            "_model_module_version": "1.5.0",
            "_model_name": "DescriptionStyleModel",
            "_view_count": null,
            "_view_module": "@jupyter-widgets/base",
            "_view_module_version": "1.2.0",
            "_view_name": "StyleView",
            "description_width": ""
          }
        },
        "a6689af31fc34f1994b623e98020e7cb": {
          "model_module": "@jupyter-widgets/controls",
          "model_module_version": "1.5.0",
          "model_name": "FloatProgressModel",
          "state": {
            "_dom_classes": [],
            "_model_module": "@jupyter-widgets/controls",
            "_model_module_version": "1.5.0",
            "_model_name": "FloatProgressModel",
            "_view_count": null,
            "_view_module": "@jupyter-widgets/controls",
            "_view_module_version": "1.5.0",
            "_view_name": "ProgressView",
            "bar_style": "success",
            "description": "",
            "description_tooltip": null,
            "layout": "IPY_MODEL_e602bfa72f914c579cc235fb7faca641",
            "max": 10621,
            "min": 0,
            "orientation": "horizontal",
            "style": "IPY_MODEL_d5df56b315154a61aac6c7ac1c4fe625",
            "value": 10621
          }
        },
        "aeb444f57d4040ce967ec8394f9b6495": {
          "model_module": "@jupyter-widgets/controls",
          "model_module_version": "1.5.0",
          "model_name": "DescriptionStyleModel",
          "state": {
            "_model_module": "@jupyter-widgets/controls",
            "_model_module_version": "1.5.0",
            "_model_name": "DescriptionStyleModel",
            "_view_count": null,
            "_view_module": "@jupyter-widgets/base",
            "_view_module_version": "1.2.0",
            "_view_name": "StyleView",
            "description_width": ""
          }
        },
        "b0267b241f8b47f398e1637715e87898": {
          "model_module": "@jupyter-widgets/base",
          "model_module_version": "1.2.0",
          "model_name": "LayoutModel",
          "state": {
            "_model_module": "@jupyter-widgets/base",
            "_model_module_version": "1.2.0",
            "_model_name": "LayoutModel",
            "_view_count": null,
            "_view_module": "@jupyter-widgets/base",
            "_view_module_version": "1.2.0",
            "_view_name": "LayoutView",
            "align_content": null,
            "align_items": null,
            "align_self": null,
            "border": null,
            "bottom": null,
            "display": null,
            "flex": null,
            "flex_flow": null,
            "grid_area": null,
            "grid_auto_columns": null,
            "grid_auto_flow": null,
            "grid_auto_rows": null,
            "grid_column": null,
            "grid_gap": null,
            "grid_row": null,
            "grid_template_areas": null,
            "grid_template_columns": null,
            "grid_template_rows": null,
            "height": null,
            "justify_content": null,
            "justify_items": null,
            "left": null,
            "margin": null,
            "max_height": null,
            "max_width": null,
            "min_height": null,
            "min_width": null,
            "object_fit": null,
            "object_position": null,
            "order": null,
            "overflow": null,
            "overflow_x": null,
            "overflow_y": null,
            "padding": null,
            "right": null,
            "top": null,
            "visibility": null,
            "width": null
          }
        },
        "b1bb5a28e1ad4d5abd5ece076bc4660f": {
          "model_module": "@jupyter-widgets/controls",
          "model_module_version": "1.5.0",
          "model_name": "DescriptionStyleModel",
          "state": {
            "_model_module": "@jupyter-widgets/controls",
            "_model_module_version": "1.5.0",
            "_model_name": "DescriptionStyleModel",
            "_view_count": null,
            "_view_module": "@jupyter-widgets/base",
            "_view_module_version": "1.2.0",
            "_view_name": "StyleView",
            "description_width": ""
          }
        },
        "b3b9249f92c1429a9ad76330538256b6": {
          "model_module": "@jupyter-widgets/controls",
          "model_module_version": "1.5.0",
          "model_name": "HTMLModel",
          "state": {
            "_dom_classes": [],
            "_model_module": "@jupyter-widgets/controls",
            "_model_module_version": "1.5.0",
            "_model_name": "HTMLModel",
            "_view_count": null,
            "_view_module": "@jupyter-widgets/controls",
            "_view_module_version": "1.5.0",
            "_view_name": "HTMLView",
            "description": "",
            "description_tooltip": null,
            "layout": "IPY_MODEL_f66c8381bd094f059570516273738a90",
            "placeholder": "​",
            "style": "IPY_MODEL_e731db71d2d643caa28d1373338ce8fd",
            "value": " 232k/232k [00:00&lt;00:00, 12.1MB/s]"
          }
        },
        "b4b3d3afb77f4d90be7554a743c0d4da": {
          "model_module": "@jupyter-widgets/controls",
          "model_module_version": "1.5.0",
          "model_name": "HTMLModel",
          "state": {
            "_dom_classes": [],
            "_model_module": "@jupyter-widgets/controls",
            "_model_module_version": "1.5.0",
            "_model_name": "HTMLModel",
            "_view_count": null,
            "_view_module": "@jupyter-widgets/controls",
            "_view_module_version": "1.5.0",
            "_view_name": "HTMLView",
            "description": "",
            "description_tooltip": null,
            "layout": "IPY_MODEL_25a9f00ee0984bc1aad8594d2627ceb6",
            "placeholder": "​",
            "style": "IPY_MODEL_df2663e1d87c454e924e142498654847",
            "value": " 466k/466k [00:00&lt;00:00, 2.20MB/s]"
          }
        },
        "b775a584973f4d76b25b2254f2273c71": {
          "model_module": "@jupyter-widgets/base",
          "model_module_version": "1.2.0",
          "model_name": "LayoutModel",
          "state": {
            "_model_module": "@jupyter-widgets/base",
            "_model_module_version": "1.2.0",
            "_model_name": "LayoutModel",
            "_view_count": null,
            "_view_module": "@jupyter-widgets/base",
            "_view_module_version": "1.2.0",
            "_view_name": "LayoutView",
            "align_content": null,
            "align_items": null,
            "align_self": null,
            "border": null,
            "bottom": null,
            "display": null,
            "flex": null,
            "flex_flow": null,
            "grid_area": null,
            "grid_auto_columns": null,
            "grid_auto_flow": null,
            "grid_auto_rows": null,
            "grid_column": null,
            "grid_gap": null,
            "grid_row": null,
            "grid_template_areas": null,
            "grid_template_columns": null,
            "grid_template_rows": null,
            "height": null,
            "justify_content": null,
            "justify_items": null,
            "left": null,
            "margin": null,
            "max_height": null,
            "max_width": null,
            "min_height": null,
            "min_width": null,
            "object_fit": null,
            "object_position": null,
            "order": null,
            "overflow": null,
            "overflow_x": null,
            "overflow_y": null,
            "padding": null,
            "right": null,
            "top": null,
            "visibility": null,
            "width": null
          }
        },
        "b81d454546dc44d5a303fca4a1da4935": {
          "model_module": "@jupyter-widgets/controls",
          "model_module_version": "1.5.0",
          "model_name": "DescriptionStyleModel",
          "state": {
            "_model_module": "@jupyter-widgets/controls",
            "_model_module_version": "1.5.0",
            "_model_name": "DescriptionStyleModel",
            "_view_count": null,
            "_view_module": "@jupyter-widgets/base",
            "_view_module_version": "1.2.0",
            "_view_name": "StyleView",
            "description_width": ""
          }
        },
        "b82e2906b9924f4692496af69a0a9efd": {
          "model_module": "@jupyter-widgets/base",
          "model_module_version": "1.2.0",
          "model_name": "LayoutModel",
          "state": {
            "_model_module": "@jupyter-widgets/base",
            "_model_module_version": "1.2.0",
            "_model_name": "LayoutModel",
            "_view_count": null,
            "_view_module": "@jupyter-widgets/base",
            "_view_module_version": "1.2.0",
            "_view_name": "LayoutView",
            "align_content": null,
            "align_items": null,
            "align_self": null,
            "border": null,
            "bottom": null,
            "display": null,
            "flex": null,
            "flex_flow": null,
            "grid_area": null,
            "grid_auto_columns": null,
            "grid_auto_flow": null,
            "grid_auto_rows": null,
            "grid_column": null,
            "grid_gap": null,
            "grid_row": null,
            "grid_template_areas": null,
            "grid_template_columns": null,
            "grid_template_rows": null,
            "height": null,
            "justify_content": null,
            "justify_items": null,
            "left": null,
            "margin": null,
            "max_height": null,
            "max_width": null,
            "min_height": null,
            "min_width": null,
            "object_fit": null,
            "object_position": null,
            "order": null,
            "overflow": null,
            "overflow_x": null,
            "overflow_y": null,
            "padding": null,
            "right": null,
            "top": null,
            "visibility": null,
            "width": null
          }
        },
        "b98043b039af4e05a5fd077418346137": {
          "model_module": "@jupyter-widgets/base",
          "model_module_version": "1.2.0",
          "model_name": "LayoutModel",
          "state": {
            "_model_module": "@jupyter-widgets/base",
            "_model_module_version": "1.2.0",
            "_model_name": "LayoutModel",
            "_view_count": null,
            "_view_module": "@jupyter-widgets/base",
            "_view_module_version": "1.2.0",
            "_view_name": "LayoutView",
            "align_content": null,
            "align_items": null,
            "align_self": null,
            "border": null,
            "bottom": null,
            "display": null,
            "flex": null,
            "flex_flow": null,
            "grid_area": null,
            "grid_auto_columns": null,
            "grid_auto_flow": null,
            "grid_auto_rows": null,
            "grid_column": null,
            "grid_gap": null,
            "grid_row": null,
            "grid_template_areas": null,
            "grid_template_columns": null,
            "grid_template_rows": null,
            "height": null,
            "justify_content": null,
            "justify_items": null,
            "left": null,
            "margin": null,
            "max_height": null,
            "max_width": null,
            "min_height": null,
            "min_width": null,
            "object_fit": null,
            "object_position": null,
            "order": null,
            "overflow": null,
            "overflow_x": null,
            "overflow_y": null,
            "padding": null,
            "right": null,
            "top": null,
            "visibility": null,
            "width": null
          }
        },
        "ba5e0d2c6fb74842a1225ce5591161e8": {
          "model_module": "@jupyter-widgets/controls",
          "model_module_version": "1.5.0",
          "model_name": "HBoxModel",
          "state": {
            "_dom_classes": [],
            "_model_module": "@jupyter-widgets/controls",
            "_model_module_version": "1.5.0",
            "_model_name": "HBoxModel",
            "_view_count": null,
            "_view_module": "@jupyter-widgets/controls",
            "_view_module_version": "1.5.0",
            "_view_name": "HBoxView",
            "box_style": "",
            "children": [
              "IPY_MODEL_03a8e062f4574ac48c7fff45c33a62b3",
              "IPY_MODEL_d64cf2fdb0ca40158742ee7296373a5d",
              "IPY_MODEL_ec7ade038a1a4038810f716a1d5950d7"
            ],
            "layout": "IPY_MODEL_f04355553f67490689188f69dfdc4ac2"
          }
        },
        "bb307961485c4838b89663070759488d": {
          "model_module": "@jupyter-widgets/base",
          "model_module_version": "1.2.0",
          "model_name": "LayoutModel",
          "state": {
            "_model_module": "@jupyter-widgets/base",
            "_model_module_version": "1.2.0",
            "_model_name": "LayoutModel",
            "_view_count": null,
            "_view_module": "@jupyter-widgets/base",
            "_view_module_version": "1.2.0",
            "_view_name": "LayoutView",
            "align_content": null,
            "align_items": null,
            "align_self": null,
            "border": null,
            "bottom": null,
            "display": null,
            "flex": null,
            "flex_flow": null,
            "grid_area": null,
            "grid_auto_columns": null,
            "grid_auto_flow": null,
            "grid_auto_rows": null,
            "grid_column": null,
            "grid_gap": null,
            "grid_row": null,
            "grid_template_areas": null,
            "grid_template_columns": null,
            "grid_template_rows": null,
            "height": null,
            "justify_content": null,
            "justify_items": null,
            "left": null,
            "margin": null,
            "max_height": null,
            "max_width": null,
            "min_height": null,
            "min_width": null,
            "object_fit": null,
            "object_position": null,
            "order": null,
            "overflow": null,
            "overflow_x": null,
            "overflow_y": null,
            "padding": null,
            "right": null,
            "top": null,
            "visibility": null,
            "width": null
          }
        },
        "bbac19b86c8c4310bb4ad032e05f2e10": {
          "model_module": "@jupyter-widgets/controls",
          "model_module_version": "1.5.0",
          "model_name": "HTMLModel",
          "state": {
            "_dom_classes": [],
            "_model_module": "@jupyter-widgets/controls",
            "_model_module_version": "1.5.0",
            "_model_name": "HTMLModel",
            "_view_count": null,
            "_view_module": "@jupyter-widgets/controls",
            "_view_module_version": "1.5.0",
            "_view_name": "HTMLView",
            "description": "",
            "description_tooltip": null,
            "layout": "IPY_MODEL_56e5836b1a0b4a27861e8e3b741e804d",
            "placeholder": "​",
            "style": "IPY_MODEL_10f81b7082a54c86b07cc1a9c76a2f89",
            "value": " 116/116 [00:00&lt;00:00, 5.67kB/s]"
          }
        },
        "bc21f47cf3e549eba1f1e98142189663": {
          "model_module": "@jupyter-widgets/base",
          "model_module_version": "1.2.0",
          "model_name": "LayoutModel",
          "state": {
            "_model_module": "@jupyter-widgets/base",
            "_model_module_version": "1.2.0",
            "_model_name": "LayoutModel",
            "_view_count": null,
            "_view_module": "@jupyter-widgets/base",
            "_view_module_version": "1.2.0",
            "_view_name": "LayoutView",
            "align_content": null,
            "align_items": null,
            "align_self": null,
            "border": null,
            "bottom": null,
            "display": null,
            "flex": null,
            "flex_flow": null,
            "grid_area": null,
            "grid_auto_columns": null,
            "grid_auto_flow": null,
            "grid_auto_rows": null,
            "grid_column": null,
            "grid_gap": null,
            "grid_row": null,
            "grid_template_areas": null,
            "grid_template_columns": null,
            "grid_template_rows": null,
            "height": null,
            "justify_content": null,
            "justify_items": null,
            "left": null,
            "margin": null,
            "max_height": null,
            "max_width": null,
            "min_height": null,
            "min_width": null,
            "object_fit": null,
            "object_position": null,
            "order": null,
            "overflow": null,
            "overflow_x": null,
            "overflow_y": null,
            "padding": null,
            "right": null,
            "top": null,
            "visibility": null,
            "width": null
          }
        },
        "c87984039bd04806a7a47426866aa73d": {
          "model_module": "@jupyter-widgets/base",
          "model_module_version": "1.2.0",
          "model_name": "LayoutModel",
          "state": {
            "_model_module": "@jupyter-widgets/base",
            "_model_module_version": "1.2.0",
            "_model_name": "LayoutModel",
            "_view_count": null,
            "_view_module": "@jupyter-widgets/base",
            "_view_module_version": "1.2.0",
            "_view_name": "LayoutView",
            "align_content": null,
            "align_items": null,
            "align_self": null,
            "border": null,
            "bottom": null,
            "display": null,
            "flex": null,
            "flex_flow": null,
            "grid_area": null,
            "grid_auto_columns": null,
            "grid_auto_flow": null,
            "grid_auto_rows": null,
            "grid_column": null,
            "grid_gap": null,
            "grid_row": null,
            "grid_template_areas": null,
            "grid_template_columns": null,
            "grid_template_rows": null,
            "height": null,
            "justify_content": null,
            "justify_items": null,
            "left": null,
            "margin": null,
            "max_height": null,
            "max_width": null,
            "min_height": null,
            "min_width": null,
            "object_fit": null,
            "object_position": null,
            "order": null,
            "overflow": null,
            "overflow_x": null,
            "overflow_y": null,
            "padding": null,
            "right": null,
            "top": null,
            "visibility": null,
            "width": null
          }
        },
        "c87d63d5b55c47dfa6b06286e6e5b496": {
          "model_module": "@jupyter-widgets/controls",
          "model_module_version": "1.5.0",
          "model_name": "HBoxModel",
          "state": {
            "_dom_classes": [],
            "_model_module": "@jupyter-widgets/controls",
            "_model_module_version": "1.5.0",
            "_model_name": "HBoxModel",
            "_view_count": null,
            "_view_module": "@jupyter-widgets/controls",
            "_view_module_version": "1.5.0",
            "_view_name": "HBoxView",
            "box_style": "",
            "children": [
              "IPY_MODEL_94e1ee16fedb4daa93b0aa0591bb3bbf",
              "IPY_MODEL_30d0445b9c2b40f9beb8dadceecb56e2",
              "IPY_MODEL_cc5a890f4a874d76b34ea0fba178ec83"
            ],
            "layout": "IPY_MODEL_9346765d24834ab1b24ea65c74938f31"
          }
        },
        "c963261959134250aa339f700c59dfc0": {
          "model_module": "@jupyter-widgets/controls",
          "model_module_version": "1.5.0",
          "model_name": "DescriptionStyleModel",
          "state": {
            "_model_module": "@jupyter-widgets/controls",
            "_model_module_version": "1.5.0",
            "_model_name": "DescriptionStyleModel",
            "_view_count": null,
            "_view_module": "@jupyter-widgets/base",
            "_view_module_version": "1.2.0",
            "_view_name": "StyleView",
            "description_width": ""
          }
        },
        "ca3d36e2ff8d42f78a30f77a1ea46858": {
          "model_module": "@jupyter-widgets/controls",
          "model_module_version": "1.5.0",
          "model_name": "DescriptionStyleModel",
          "state": {
            "_model_module": "@jupyter-widgets/controls",
            "_model_module_version": "1.5.0",
            "_model_name": "DescriptionStyleModel",
            "_view_count": null,
            "_view_module": "@jupyter-widgets/base",
            "_view_module_version": "1.2.0",
            "_view_name": "StyleView",
            "description_width": ""
          }
        },
        "cbbe18d28e2e468fadd7cb80f5ee6b08": {
          "model_module": "@jupyter-widgets/base",
          "model_module_version": "1.2.0",
          "model_name": "LayoutModel",
          "state": {
            "_model_module": "@jupyter-widgets/base",
            "_model_module_version": "1.2.0",
            "_model_name": "LayoutModel",
            "_view_count": null,
            "_view_module": "@jupyter-widgets/base",
            "_view_module_version": "1.2.0",
            "_view_name": "LayoutView",
            "align_content": null,
            "align_items": null,
            "align_self": null,
            "border": null,
            "bottom": null,
            "display": null,
            "flex": null,
            "flex_flow": null,
            "grid_area": null,
            "grid_auto_columns": null,
            "grid_auto_flow": null,
            "grid_auto_rows": null,
            "grid_column": null,
            "grid_gap": null,
            "grid_row": null,
            "grid_template_areas": null,
            "grid_template_columns": null,
            "grid_template_rows": null,
            "height": null,
            "justify_content": null,
            "justify_items": null,
            "left": null,
            "margin": null,
            "max_height": null,
            "max_width": null,
            "min_height": null,
            "min_width": null,
            "object_fit": null,
            "object_position": null,
            "order": null,
            "overflow": null,
            "overflow_x": null,
            "overflow_y": null,
            "padding": null,
            "right": null,
            "top": null,
            "visibility": null,
            "width": null
          }
        },
        "cc5a890f4a874d76b34ea0fba178ec83": {
          "model_module": "@jupyter-widgets/controls",
          "model_module_version": "1.5.0",
          "model_name": "HTMLModel",
          "state": {
            "_dom_classes": [],
            "_model_module": "@jupyter-widgets/controls",
            "_model_module_version": "1.5.0",
            "_model_name": "HTMLModel",
            "_view_count": null,
            "_view_module": "@jupyter-widgets/controls",
            "_view_module_version": "1.5.0",
            "_view_name": "HTMLView",
            "description": "",
            "description_tooltip": null,
            "layout": "IPY_MODEL_bc21f47cf3e549eba1f1e98142189663",
            "placeholder": "​",
            "style": "IPY_MODEL_b1bb5a28e1ad4d5abd5ece076bc4660f",
            "value": " 571/571 [00:00&lt;00:00, 52.0kB/s]"
          }
        },
        "cf8ac1eba2274423adf078c7b8a550cd": {
          "model_module": "@jupyter-widgets/base",
          "model_module_version": "1.2.0",
          "model_name": "LayoutModel",
          "state": {
            "_model_module": "@jupyter-widgets/base",
            "_model_module_version": "1.2.0",
            "_model_name": "LayoutModel",
            "_view_count": null,
            "_view_module": "@jupyter-widgets/base",
            "_view_module_version": "1.2.0",
            "_view_name": "LayoutView",
            "align_content": null,
            "align_items": null,
            "align_self": null,
            "border": null,
            "bottom": null,
            "display": null,
            "flex": null,
            "flex_flow": null,
            "grid_area": null,
            "grid_auto_columns": null,
            "grid_auto_flow": null,
            "grid_auto_rows": null,
            "grid_column": null,
            "grid_gap": null,
            "grid_row": null,
            "grid_template_areas": null,
            "grid_template_columns": null,
            "grid_template_rows": null,
            "height": null,
            "justify_content": null,
            "justify_items": null,
            "left": null,
            "margin": null,
            "max_height": null,
            "max_width": null,
            "min_height": null,
            "min_width": null,
            "object_fit": null,
            "object_position": null,
            "order": null,
            "overflow": null,
            "overflow_x": null,
            "overflow_y": null,
            "padding": null,
            "right": null,
            "top": null,
            "visibility": null,
            "width": null
          }
        },
        "d0a8863c62cd4bd588e819e1afdcfefe": {
          "model_module": "@jupyter-widgets/base",
          "model_module_version": "1.2.0",
          "model_name": "LayoutModel",
          "state": {
            "_model_module": "@jupyter-widgets/base",
            "_model_module_version": "1.2.0",
            "_model_name": "LayoutModel",
            "_view_count": null,
            "_view_module": "@jupyter-widgets/base",
            "_view_module_version": "1.2.0",
            "_view_name": "LayoutView",
            "align_content": null,
            "align_items": null,
            "align_self": null,
            "border": null,
            "bottom": null,
            "display": null,
            "flex": null,
            "flex_flow": null,
            "grid_area": null,
            "grid_auto_columns": null,
            "grid_auto_flow": null,
            "grid_auto_rows": null,
            "grid_column": null,
            "grid_gap": null,
            "grid_row": null,
            "grid_template_areas": null,
            "grid_template_columns": null,
            "grid_template_rows": null,
            "height": null,
            "justify_content": null,
            "justify_items": null,
            "left": null,
            "margin": null,
            "max_height": null,
            "max_width": null,
            "min_height": null,
            "min_width": null,
            "object_fit": null,
            "object_position": null,
            "order": null,
            "overflow": null,
            "overflow_x": null,
            "overflow_y": null,
            "padding": null,
            "right": null,
            "top": null,
            "visibility": null,
            "width": null
          }
        },
        "d1f3de7c72d94a0e9cbd57c01744d97e": {
          "model_module": "@jupyter-widgets/controls",
          "model_module_version": "1.5.0",
          "model_name": "HBoxModel",
          "state": {
            "_dom_classes": [],
            "_model_module": "@jupyter-widgets/controls",
            "_model_module_version": "1.5.0",
            "_model_name": "HBoxModel",
            "_view_count": null,
            "_view_module": "@jupyter-widgets/controls",
            "_view_module_version": "1.5.0",
            "_view_name": "HBoxView",
            "box_style": "",
            "children": [
              "IPY_MODEL_d75aa307eb784c37914eae0c99b868d3",
              "IPY_MODEL_28051a22fb80403082ca5947806c9f7f",
              "IPY_MODEL_b4b3d3afb77f4d90be7554a743c0d4da"
            ],
            "layout": "IPY_MODEL_888fc12d6cd84c87988a0d1e675176b5"
          }
        },
        "d5df56b315154a61aac6c7ac1c4fe625": {
          "model_module": "@jupyter-widgets/controls",
          "model_module_version": "1.5.0",
          "model_name": "ProgressStyleModel",
          "state": {
            "_model_module": "@jupyter-widgets/controls",
            "_model_module_version": "1.5.0",
            "_model_name": "ProgressStyleModel",
            "_view_count": null,
            "_view_module": "@jupyter-widgets/base",
            "_view_module_version": "1.2.0",
            "_view_name": "StyleView",
            "bar_color": null,
            "description_width": ""
          }
        },
        "d5fd73a0fde847759b210d5715d4db2e": {
          "model_module": "@jupyter-widgets/controls",
          "model_module_version": "1.5.0",
          "model_name": "FloatProgressModel",
          "state": {
            "_dom_classes": [],
            "_model_module": "@jupyter-widgets/controls",
            "_model_module_version": "1.5.0",
            "_model_name": "FloatProgressModel",
            "_view_count": null,
            "_view_module": "@jupyter-widgets/controls",
            "_view_module_version": "1.5.0",
            "_view_name": "ProgressView",
            "bar_style": "success",
            "description": "",
            "description_tooltip": null,
            "layout": "IPY_MODEL_04cb5acada994feb8ce708521c0c830a",
            "max": 116,
            "min": 0,
            "orientation": "horizontal",
            "style": "IPY_MODEL_1a0a7a6f801047b1ac7ab73c407a1a0f",
            "value": 116
          }
        },
        "d64cf2fdb0ca40158742ee7296373a5d": {
          "model_module": "@jupyter-widgets/controls",
          "model_module_version": "1.5.0",
          "model_name": "FloatProgressModel",
          "state": {
            "_dom_classes": [],
            "_model_module": "@jupyter-widgets/controls",
            "_model_module_version": "1.5.0",
            "_model_name": "FloatProgressModel",
            "_view_count": null,
            "_view_module": "@jupyter-widgets/controls",
            "_view_module_version": "1.5.0",
            "_view_name": "ProgressView",
            "bar_style": "success",
            "description": "",
            "description_tooltip": null,
            "layout": "IPY_MODEL_b82e2906b9924f4692496af69a0a9efd",
            "max": 437971872,
            "min": 0,
            "orientation": "horizontal",
            "style": "IPY_MODEL_972ab79c991c4f85ada0bb2b46cb774b",
            "value": 437971872
          }
        },
        "d75aa307eb784c37914eae0c99b868d3": {
          "model_module": "@jupyter-widgets/controls",
          "model_module_version": "1.5.0",
          "model_name": "HTMLModel",
          "state": {
            "_dom_classes": [],
            "_model_module": "@jupyter-widgets/controls",
            "_model_module_version": "1.5.0",
            "_model_name": "HTMLModel",
            "_view_count": null,
            "_view_module": "@jupyter-widgets/controls",
            "_view_module_version": "1.5.0",
            "_view_name": "HTMLView",
            "description": "",
            "description_tooltip": null,
            "layout": "IPY_MODEL_8dc5a1c926884431b4df4064b79459b0",
            "placeholder": "​",
            "style": "IPY_MODEL_aeb444f57d4040ce967ec8394f9b6495",
            "value": "tokenizer.json: 100%"
          }
        },
        "d931c8149afa41689a18e3f2c6b7463d": {
          "model_module": "@jupyter-widgets/controls",
          "model_module_version": "1.5.0",
          "model_name": "ProgressStyleModel",
          "state": {
            "_model_module": "@jupyter-widgets/controls",
            "_model_module_version": "1.5.0",
            "_model_name": "ProgressStyleModel",
            "_view_count": null,
            "_view_module": "@jupyter-widgets/base",
            "_view_module_version": "1.2.0",
            "_view_name": "StyleView",
            "bar_color": null,
            "description_width": ""
          }
        },
        "da68220ed2ec45e0806cb8290eac5210": {
          "model_module": "@jupyter-widgets/controls",
          "model_module_version": "1.5.0",
          "model_name": "HBoxModel",
          "state": {
            "_dom_classes": [],
            "_model_module": "@jupyter-widgets/controls",
            "_model_module_version": "1.5.0",
            "_model_name": "HBoxModel",
            "_view_count": null,
            "_view_module": "@jupyter-widgets/controls",
            "_view_module_version": "1.5.0",
            "_view_name": "HBoxView",
            "box_style": "",
            "children": [
              "IPY_MODEL_4c2e47419fba4e83b455195d2ed0cd8f",
              "IPY_MODEL_a6689af31fc34f1994b623e98020e7cb",
              "IPY_MODEL_4eb49893e0c341b984a55b1bd303fb64"
            ],
            "layout": "IPY_MODEL_02a6a4a38f5a4df8a037082e7f219817"
          }
        },
        "de10c041f0a64c3bbc55ab1f0ffa514d": {
          "model_module": "@jupyter-widgets/controls",
          "model_module_version": "1.5.0",
          "model_name": "FloatProgressModel",
          "state": {
            "_dom_classes": [],
            "_model_module": "@jupyter-widgets/controls",
            "_model_module_version": "1.5.0",
            "_model_name": "FloatProgressModel",
            "_view_count": null,
            "_view_module": "@jupyter-widgets/controls",
            "_view_module_version": "1.5.0",
            "_view_name": "ProgressView",
            "bar_style": "success",
            "description": "",
            "description_tooltip": null,
            "layout": "IPY_MODEL_63c5ec13838640a7b8190fd61b0087b6",
            "max": 231536,
            "min": 0,
            "orientation": "horizontal",
            "style": "IPY_MODEL_740cbbf42eb8433680064991b2f014b1",
            "value": 231536
          }
        },
        "df2663e1d87c454e924e142498654847": {
          "model_module": "@jupyter-widgets/controls",
          "model_module_version": "1.5.0",
          "model_name": "DescriptionStyleModel",
          "state": {
            "_model_module": "@jupyter-widgets/controls",
            "_model_module_version": "1.5.0",
            "_model_name": "DescriptionStyleModel",
            "_view_count": null,
            "_view_module": "@jupyter-widgets/base",
            "_view_module_version": "1.2.0",
            "_view_name": "StyleView",
            "description_width": ""
          }
        },
        "e29ce421d03d43aca0149752831e98ca": {
          "model_module": "@jupyter-widgets/controls",
          "model_module_version": "1.5.0",
          "model_name": "HTMLModel",
          "state": {
            "_dom_classes": [],
            "_model_module": "@jupyter-widgets/controls",
            "_model_module_version": "1.5.0",
            "_model_name": "HTMLModel",
            "_view_count": null,
            "_view_module": "@jupyter-widgets/controls",
            "_view_module_version": "1.5.0",
            "_view_name": "HTMLView",
            "description": "",
            "description_tooltip": null,
            "layout": "IPY_MODEL_b98043b039af4e05a5fd077418346137",
            "placeholder": "​",
            "style": "IPY_MODEL_b81d454546dc44d5a303fca4a1da4935",
            "value": " 239/239 [00:00&lt;00:00, 16.6kB/s]"
          }
        },
        "e5c1d7c9b09b4c2aa39366be1e998d10": {
          "model_module": "@jupyter-widgets/base",
          "model_module_version": "1.2.0",
          "model_name": "LayoutModel",
          "state": {
            "_model_module": "@jupyter-widgets/base",
            "_model_module_version": "1.2.0",
            "_model_name": "LayoutModel",
            "_view_count": null,
            "_view_module": "@jupyter-widgets/base",
            "_view_module_version": "1.2.0",
            "_view_name": "LayoutView",
            "align_content": null,
            "align_items": null,
            "align_self": null,
            "border": null,
            "bottom": null,
            "display": null,
            "flex": null,
            "flex_flow": null,
            "grid_area": null,
            "grid_auto_columns": null,
            "grid_auto_flow": null,
            "grid_auto_rows": null,
            "grid_column": null,
            "grid_gap": null,
            "grid_row": null,
            "grid_template_areas": null,
            "grid_template_columns": null,
            "grid_template_rows": null,
            "height": null,
            "justify_content": null,
            "justify_items": null,
            "left": null,
            "margin": null,
            "max_height": null,
            "max_width": null,
            "min_height": null,
            "min_width": null,
            "object_fit": null,
            "object_position": null,
            "order": null,
            "overflow": null,
            "overflow_x": null,
            "overflow_y": null,
            "padding": null,
            "right": null,
            "top": null,
            "visibility": null,
            "width": null
          }
        },
        "e602bfa72f914c579cc235fb7faca641": {
          "model_module": "@jupyter-widgets/base",
          "model_module_version": "1.2.0",
          "model_name": "LayoutModel",
          "state": {
            "_model_module": "@jupyter-widgets/base",
            "_model_module_version": "1.2.0",
            "_model_name": "LayoutModel",
            "_view_count": null,
            "_view_module": "@jupyter-widgets/base",
            "_view_module_version": "1.2.0",
            "_view_name": "LayoutView",
            "align_content": null,
            "align_items": null,
            "align_self": null,
            "border": null,
            "bottom": null,
            "display": null,
            "flex": null,
            "flex_flow": null,
            "grid_area": null,
            "grid_auto_columns": null,
            "grid_auto_flow": null,
            "grid_auto_rows": null,
            "grid_column": null,
            "grid_gap": null,
            "grid_row": null,
            "grid_template_areas": null,
            "grid_template_columns": null,
            "grid_template_rows": null,
            "height": null,
            "justify_content": null,
            "justify_items": null,
            "left": null,
            "margin": null,
            "max_height": null,
            "max_width": null,
            "min_height": null,
            "min_width": null,
            "object_fit": null,
            "object_position": null,
            "order": null,
            "overflow": null,
            "overflow_x": null,
            "overflow_y": null,
            "padding": null,
            "right": null,
            "top": null,
            "visibility": null,
            "width": null
          }
        },
        "e6947ba8dd484107abb64904dcd7bd1e": {
          "model_module": "@jupyter-widgets/controls",
          "model_module_version": "1.5.0",
          "model_name": "DescriptionStyleModel",
          "state": {
            "_model_module": "@jupyter-widgets/controls",
            "_model_module_version": "1.5.0",
            "_model_name": "DescriptionStyleModel",
            "_view_count": null,
            "_view_module": "@jupyter-widgets/base",
            "_view_module_version": "1.2.0",
            "_view_name": "StyleView",
            "description_width": ""
          }
        },
        "e6b2b40c65c04718b51a843e79dadfba": {
          "model_module": "@jupyter-widgets/controls",
          "model_module_version": "1.5.0",
          "model_name": "HTMLModel",
          "state": {
            "_dom_classes": [],
            "_model_module": "@jupyter-widgets/controls",
            "_model_module_version": "1.5.0",
            "_model_name": "HTMLModel",
            "_view_count": null,
            "_view_module": "@jupyter-widgets/controls",
            "_view_module_version": "1.5.0",
            "_view_name": "HTMLView",
            "description": "",
            "description_tooltip": null,
            "layout": "IPY_MODEL_d0a8863c62cd4bd588e819e1afdcfefe",
            "placeholder": "​",
            "style": "IPY_MODEL_5e72be3ef26f4d1693f1f58df7bd1958",
            "value": "special_tokens_map.json: 100%"
          }
        },
        "e72baa4375cd4ed2b94547abb2fe401f": {
          "model_module": "@jupyter-widgets/controls",
          "model_module_version": "1.5.0",
          "model_name": "DescriptionStyleModel",
          "state": {
            "_model_module": "@jupyter-widgets/controls",
            "_model_module_version": "1.5.0",
            "_model_name": "DescriptionStyleModel",
            "_view_count": null,
            "_view_module": "@jupyter-widgets/base",
            "_view_module_version": "1.2.0",
            "_view_name": "StyleView",
            "description_width": ""
          }
        },
        "e731db71d2d643caa28d1373338ce8fd": {
          "model_module": "@jupyter-widgets/controls",
          "model_module_version": "1.5.0",
          "model_name": "DescriptionStyleModel",
          "state": {
            "_model_module": "@jupyter-widgets/controls",
            "_model_module_version": "1.5.0",
            "_model_name": "DescriptionStyleModel",
            "_view_count": null,
            "_view_module": "@jupyter-widgets/base",
            "_view_module_version": "1.2.0",
            "_view_name": "StyleView",
            "description_width": ""
          }
        },
        "e84b238203dc429194139532baafe728": {
          "model_module": "@jupyter-widgets/controls",
          "model_module_version": "1.5.0",
          "model_name": "DescriptionStyleModel",
          "state": {
            "_model_module": "@jupyter-widgets/controls",
            "_model_module_version": "1.5.0",
            "_model_name": "DescriptionStyleModel",
            "_view_count": null,
            "_view_module": "@jupyter-widgets/base",
            "_view_module_version": "1.2.0",
            "_view_name": "StyleView",
            "description_width": ""
          }
        },
        "ec7ade038a1a4038810f716a1d5950d7": {
          "model_module": "@jupyter-widgets/controls",
          "model_module_version": "1.5.0",
          "model_name": "HTMLModel",
          "state": {
            "_dom_classes": [],
            "_model_module": "@jupyter-widgets/controls",
            "_model_module_version": "1.5.0",
            "_model_name": "HTMLModel",
            "_view_count": null,
            "_view_module": "@jupyter-widgets/controls",
            "_view_module_version": "1.5.0",
            "_view_name": "HTMLView",
            "description": "",
            "description_tooltip": null,
            "layout": "IPY_MODEL_11bd285a12414e14abb1e584675aeb3c",
            "placeholder": "​",
            "style": "IPY_MODEL_499da0fe0649428793d51e064fd2577d",
            "value": " 438M/438M [00:01&lt;00:00, 307MB/s]"
          }
        },
        "edd63801b5c1468ba3d4480f0940a921": {
          "model_module": "@jupyter-widgets/base",
          "model_module_version": "1.2.0",
          "model_name": "LayoutModel",
          "state": {
            "_model_module": "@jupyter-widgets/base",
            "_model_module_version": "1.2.0",
            "_model_name": "LayoutModel",
            "_view_count": null,
            "_view_module": "@jupyter-widgets/base",
            "_view_module_version": "1.2.0",
            "_view_name": "LayoutView",
            "align_content": null,
            "align_items": null,
            "align_self": null,
            "border": null,
            "bottom": null,
            "display": null,
            "flex": null,
            "flex_flow": null,
            "grid_area": null,
            "grid_auto_columns": null,
            "grid_auto_flow": null,
            "grid_auto_rows": null,
            "grid_column": null,
            "grid_gap": null,
            "grid_row": null,
            "grid_template_areas": null,
            "grid_template_columns": null,
            "grid_template_rows": null,
            "height": null,
            "justify_content": null,
            "justify_items": null,
            "left": null,
            "margin": null,
            "max_height": null,
            "max_width": null,
            "min_height": null,
            "min_width": null,
            "object_fit": null,
            "object_position": null,
            "order": null,
            "overflow": null,
            "overflow_x": null,
            "overflow_y": null,
            "padding": null,
            "right": null,
            "top": null,
            "visibility": null,
            "width": null
          }
        },
        "f04355553f67490689188f69dfdc4ac2": {
          "model_module": "@jupyter-widgets/base",
          "model_module_version": "1.2.0",
          "model_name": "LayoutModel",
          "state": {
            "_model_module": "@jupyter-widgets/base",
            "_model_module_version": "1.2.0",
            "_model_name": "LayoutModel",
            "_view_count": null,
            "_view_module": "@jupyter-widgets/base",
            "_view_module_version": "1.2.0",
            "_view_name": "LayoutView",
            "align_content": null,
            "align_items": null,
            "align_self": null,
            "border": null,
            "bottom": null,
            "display": null,
            "flex": null,
            "flex_flow": null,
            "grid_area": null,
            "grid_auto_columns": null,
            "grid_auto_flow": null,
            "grid_auto_rows": null,
            "grid_column": null,
            "grid_gap": null,
            "grid_row": null,
            "grid_template_areas": null,
            "grid_template_columns": null,
            "grid_template_rows": null,
            "height": null,
            "justify_content": null,
            "justify_items": null,
            "left": null,
            "margin": null,
            "max_height": null,
            "max_width": null,
            "min_height": null,
            "min_width": null,
            "object_fit": null,
            "object_position": null,
            "order": null,
            "overflow": null,
            "overflow_x": null,
            "overflow_y": null,
            "padding": null,
            "right": null,
            "top": null,
            "visibility": null,
            "width": null
          }
        },
        "f20571880697478fb9edb7fba189c236": {
          "model_module": "@jupyter-widgets/controls",
          "model_module_version": "1.5.0",
          "model_name": "HBoxModel",
          "state": {
            "_dom_classes": [],
            "_model_module": "@jupyter-widgets/controls",
            "_model_module_version": "1.5.0",
            "_model_name": "HBoxModel",
            "_view_count": null,
            "_view_module": "@jupyter-widgets/controls",
            "_view_module_version": "1.5.0",
            "_view_name": "HBoxView",
            "box_style": "",
            "children": [
              "IPY_MODEL_66306024965842d9a81ba2b70a62fbd7",
              "IPY_MODEL_de10c041f0a64c3bbc55ab1f0ffa514d",
              "IPY_MODEL_b3b9249f92c1429a9ad76330538256b6"
            ],
            "layout": "IPY_MODEL_065cf64957f14e5b8f0bf84c2393a9f0"
          }
        },
        "f31276f16dbb455695751bf470306ee9": {
          "model_module": "@jupyter-widgets/controls",
          "model_module_version": "1.5.0",
          "model_name": "HTMLModel",
          "state": {
            "_dom_classes": [],
            "_model_module": "@jupyter-widgets/controls",
            "_model_module_version": "1.5.0",
            "_model_name": "HTMLModel",
            "_view_count": null,
            "_view_module": "@jupyter-widgets/controls",
            "_view_module_version": "1.5.0",
            "_view_name": "HTMLView",
            "description": "",
            "description_tooltip": null,
            "layout": "IPY_MODEL_7350420f67d543419b76452aa8637959",
            "placeholder": "​",
            "style": "IPY_MODEL_c963261959134250aa339f700c59dfc0",
            "value": " 190/190 [00:00&lt;00:00, 7.63kB/s]"
          }
        },
        "f35e355f525048959e373a6931fca187": {
          "model_module": "@jupyter-widgets/controls",
          "model_module_version": "1.5.0",
          "model_name": "HTMLModel",
          "state": {
            "_dom_classes": [],
            "_model_module": "@jupyter-widgets/controls",
            "_model_module_version": "1.5.0",
            "_model_name": "HTMLModel",
            "_view_count": null,
            "_view_module": "@jupyter-widgets/controls",
            "_view_module_version": "1.5.0",
            "_view_name": "HTMLView",
            "description": "",
            "description_tooltip": null,
            "layout": "IPY_MODEL_32ac98c48de74648a93f89b5c56283f7",
            "placeholder": "​",
            "style": "IPY_MODEL_e6947ba8dd484107abb64904dcd7bd1e",
            "value": "config_sentence_transformers.json: 100%"
          }
        },
        "f4f4ab13f37444da8a406d57793d63dc": {
          "model_module": "@jupyter-widgets/base",
          "model_module_version": "1.2.0",
          "model_name": "LayoutModel",
          "state": {
            "_model_module": "@jupyter-widgets/base",
            "_model_module_version": "1.2.0",
            "_model_name": "LayoutModel",
            "_view_count": null,
            "_view_module": "@jupyter-widgets/base",
            "_view_module_version": "1.2.0",
            "_view_name": "LayoutView",
            "align_content": null,
            "align_items": null,
            "align_self": null,
            "border": null,
            "bottom": null,
            "display": null,
            "flex": null,
            "flex_flow": null,
            "grid_area": null,
            "grid_auto_columns": null,
            "grid_auto_flow": null,
            "grid_auto_rows": null,
            "grid_column": null,
            "grid_gap": null,
            "grid_row": null,
            "grid_template_areas": null,
            "grid_template_columns": null,
            "grid_template_rows": null,
            "height": null,
            "justify_content": null,
            "justify_items": null,
            "left": null,
            "margin": null,
            "max_height": null,
            "max_width": null,
            "min_height": null,
            "min_width": null,
            "object_fit": null,
            "object_position": null,
            "order": null,
            "overflow": null,
            "overflow_x": null,
            "overflow_y": null,
            "padding": null,
            "right": null,
            "top": null,
            "visibility": null,
            "width": null
          }
        },
        "f5b9e5d6e404408ba9d61b35bff615ba": {
          "model_module": "@jupyter-widgets/controls",
          "model_module_version": "1.5.0",
          "model_name": "HBoxModel",
          "state": {
            "_dom_classes": [],
            "_model_module": "@jupyter-widgets/controls",
            "_model_module_version": "1.5.0",
            "_model_name": "HBoxModel",
            "_view_count": null,
            "_view_module": "@jupyter-widgets/controls",
            "_view_module_version": "1.5.0",
            "_view_name": "HBoxView",
            "box_style": "",
            "children": [
              "IPY_MODEL_5ed85625ae54449bb73496b17a5da616",
              "IPY_MODEL_9990d1ff326d432098230d4367a3d6c1",
              "IPY_MODEL_26daac80f0bd463c96a502351b2cd67e"
            ],
            "layout": "IPY_MODEL_e5c1d7c9b09b4c2aa39366be1e998d10"
          }
        },
        "f66c8381bd094f059570516273738a90": {
          "model_module": "@jupyter-widgets/base",
          "model_module_version": "1.2.0",
          "model_name": "LayoutModel",
          "state": {
            "_model_module": "@jupyter-widgets/base",
            "_model_module_version": "1.2.0",
            "_model_name": "LayoutModel",
            "_view_count": null,
            "_view_module": "@jupyter-widgets/base",
            "_view_module_version": "1.2.0",
            "_view_name": "LayoutView",
            "align_content": null,
            "align_items": null,
            "align_self": null,
            "border": null,
            "bottom": null,
            "display": null,
            "flex": null,
            "flex_flow": null,
            "grid_area": null,
            "grid_auto_columns": null,
            "grid_auto_flow": null,
            "grid_auto_rows": null,
            "grid_column": null,
            "grid_gap": null,
            "grid_row": null,
            "grid_template_areas": null,
            "grid_template_columns": null,
            "grid_template_rows": null,
            "height": null,
            "justify_content": null,
            "justify_items": null,
            "left": null,
            "margin": null,
            "max_height": null,
            "max_width": null,
            "min_height": null,
            "min_width": null,
            "object_fit": null,
            "object_position": null,
            "order": null,
            "overflow": null,
            "overflow_x": null,
            "overflow_y": null,
            "padding": null,
            "right": null,
            "top": null,
            "visibility": null,
            "width": null
          }
        },
        "fef04e5af54d41f38a9cc3ef0f703c75": {
          "model_module": "@jupyter-widgets/controls",
          "model_module_version": "1.5.0",
          "model_name": "HBoxModel",
          "state": {
            "_dom_classes": [],
            "_model_module": "@jupyter-widgets/controls",
            "_model_module_version": "1.5.0",
            "_model_name": "HBoxModel",
            "_view_count": null,
            "_view_module": "@jupyter-widgets/controls",
            "_view_module_version": "1.5.0",
            "_view_name": "HBoxView",
            "box_style": "",
            "children": [
              "IPY_MODEL_33bb17232bbc4ff38e7c305ede65f2bc",
              "IPY_MODEL_3aa93ab1acba449eaa2a016a88875e2d",
              "IPY_MODEL_f31276f16dbb455695751bf470306ee9"
            ],
            "layout": "IPY_MODEL_c87984039bd04806a7a47426866aa73d"
          }
        }
      }
    }
  },
  "nbformat": 4,
  "nbformat_minor": 0
}
